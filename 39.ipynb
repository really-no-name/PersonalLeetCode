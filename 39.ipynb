{
 "cells": [
  {
   "metadata": {},
   "cell_type": "markdown",
   "source": "# 组合总和",
   "id": "edb556b3b8d17dba"
  },
  {
   "metadata": {},
   "cell_type": "markdown",
   "source": [
    "给你一个 **无重复元素** 的整数数组 `candidates` 和一个目标整数 `target` ，找出 `candidates` 中可以使数字和为目标数 `target` 的 **所有** 不同组合 ，并以列表形式返回。你可以按 **任意顺序** 返回这些组合。\n",
    "\n",
    "`candidates` 中的 **同一个** 数字可以 无限制重复被选取 。如果至少一个数字的被选数量不同，则两种组合是不同的。 \n",
    "\n",
    "对于给定的输入，保证和为 `target` 的不同组合数少于 150 个。\n",
    "\n",
    " \n",
    "\n",
    "示例 1：\n",
    "\n",
    "输入：`candidates = [2,3,6,7]`, `target = 7`\n",
    "输出：`[[2,2,3],[7]]`\n",
    "解释：\n",
    "`2` 和 `3` 可以形成一组候选，`2 + 2 + 3 = 7` 。注意 `2` 可以使用多次。\n",
    "`7` 也是一个候选， `7 = 7` 。\n",
    "仅有这两种组合。\n",
    "\n",
    "示例 2：\n",
    "\n",
    "输入: `candidates = [2,3,5]`, `target = 8`\n",
    "输出: `[[2,2,2,2],[2,3,3],[3,5]]`\n",
    "\n",
    "示例 3：\n",
    "\n",
    "输入: `candidates = [2], target = 1`\n",
    "输出: `[]`\n",
    " \n",
    "\n",
    "提示：\n",
    "\n",
    "- `1 <= candidates.length <= 30`\n",
    "- `2 <= candidates[i] <= 40`\n",
    "- `candidates 的所有元素 互不相同`\n",
    "- `1 <= target <= 40`"
   ],
   "id": "77e6257ade9bcdde"
  },
  {
   "cell_type": "code",
   "execution_count": null,
   "id": "initial_id",
   "metadata": {
    "collapsed": true
   },
   "outputs": [],
   "source": [
    ""
   ]
  }
 ],
 "metadata": {
  "kernelspec": {
   "display_name": "Python 3",
   "language": "python",
   "name": "python3"
  },
  "language_info": {
   "codemirror_mode": {
    "name": "ipython",
    "version": 2
   },
   "file_extension": ".py",
   "mimetype": "text/x-python",
   "name": "python",
   "nbconvert_exporter": "python",
   "pygments_lexer": "ipython2",
   "version": "2.7.6"
  }
 },
 "nbformat": 4,
 "nbformat_minor": 5
}
