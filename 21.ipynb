{
 "cells": [
  {
   "metadata": {},
   "cell_type": "markdown",
   "source": "# 合并两个有序链表",
   "id": "3e414fcc73706f06"
  },
  {
   "metadata": {},
   "cell_type": "markdown",
   "source": [
    "将两个升序链表合并为一个新的 升序 链表并返回。新链表是通过拼接给定的两个链表的所有节点组成的。 \n",
    "\n",
    " \n",
    "\n",
    "示例 1：\n",
    "\n",
    "\n",
    "输入：`l1 = [1,2,4], l2 = [1,3,4]`\n",
    "输出：`[1,1,2,3,4,4]`\n",
    "\n",
    "示例 2：\n",
    "\n",
    "输入：`l1 = [], l2 = []`\n",
    "输出：`[]`\n",
    "\n",
    "示例 3：\n",
    "\n",
    "输入：`l1 = [], l2 = [0]`\n",
    "输出：`[0]`\n",
    " \n",
    "\n",
    "提示：\n",
    "\n",
    "- 两个链表的节点数目范围是 `[0, 50]`\n",
    "- `-100 <= Node.val <= 100`\n",
    "- `l1` 和 `l2` 均按 非递减顺序 排列"
   ],
   "id": "bc34253ff40083b1"
  },
  {
   "metadata": {},
   "cell_type": "markdown",
   "source": "## test",
   "id": "8211e363b9d6f0b8"
  },
  {
   "cell_type": "code",
   "id": "initial_id",
   "metadata": {
    "collapsed": true,
    "ExecuteTime": {
     "end_time": "2025-01-27T12:34:17.981307Z",
     "start_time": "2025-01-27T12:34:17.973784Z"
    }
   },
   "source": [
    "l1 = [1,2,4]\n",
    "l2 = [1,3,4]\n",
    "\n",
    "total_len = len(l1) + len(l2)\n",
    "sum = [] \n",
    "\n",
    "i, j = 0, 0  # 初始化两个指针\n",
    "while i < len(l1) and j < len(l2):\n",
    "    if l1[i] < l2[j]:\n",
    "        sum.append(l1[i])\n",
    "        i += 1\n",
    "    else:\n",
    "        sum.append(l2[j])\n",
    "        j += 1\n",
    "\n",
    "while i < len(l1):\n",
    "    sum.append(l1[i])\n",
    "    i += 1\n",
    "while j < len(l2):\n",
    "    sum.append(l2[j])\n",
    "    j += 1\n",
    "print(sum)\n"
   ],
   "outputs": [
    {
     "name": "stdout",
     "output_type": "stream",
     "text": [
      "[1, 1, 2, 3, 4, 4]\n"
     ]
    }
   ],
   "execution_count": 1
  },
  {
   "metadata": {
    "ExecuteTime": {
     "end_time": "2025-01-27T12:57:54.039744Z",
     "start_time": "2025-01-27T12:57:54.023308Z"
    }
   },
   "cell_type": "code",
   "source": [
    "from typing import Optional\n",
    "\n",
    "class ListNode:\n",
    "    def __init__(self, val=0, next=None):\n",
    "        self.val = val  # 当前节点的值\n",
    "        self.next = next  # 指向下一个节点的指针  \n",
    "\n",
    "class Solution:\n",
    "    def mergeTwoLists(self, list1: Optional[ListNode], list2: Optional[ListNode]) -> Optional[ListNode]:\n",
    "        # 创建一个哨兵节点，方便处理头节点\n",
    "        dummy = ListNode()\n",
    "        current = dummy\n",
    "        \n",
    "        # 比较两个链表的节点值，按顺序连接\n",
    "        while list1 and list2:  # 只要 list1 和 list2 都不为空，合并\n",
    "            if list1.val < list2.val:  # 比较当前节点的值\n",
    "                current.next = list1  # 当前指针指向 list1\n",
    "                list1 = list1.next  # list1 向后移动\n",
    "            else:\n",
    "                current.next = list2\n",
    "                list2 = list2.next\n",
    "            current = current.next  # 当前指针后移，继续构建链表\n",
    "\n",
    "        # 处理剩余的节点\n",
    "        if list1:\n",
    "            current.next = list1\n",
    "        if list2:\n",
    "            current.next = list2\n",
    "\n",
    "        return dummy.next\n",
    "\n",
    "# 测试代码\n",
    "def print_list(node: Optional[ListNode]):\n",
    "    result = []\n",
    "    while node:\n",
    "        result.append(node.val)\n",
    "        node = node.next\n",
    "    print(result)\n",
    "\n",
    "# 构造链表\n",
    "l1 = ListNode(1, ListNode(2, ListNode(4)))\n",
    "l2 = ListNode(1, ListNode(3, ListNode(4)))\n",
    "\n",
    "# 合并链表\n",
    "merged = Solution().mergeTwoLists(l1, l2)\n",
    "print_list(merged)"
   ],
   "id": "c652750efebc6121",
   "outputs": [
    {
     "name": "stdout",
     "output_type": "stream",
     "text": [
      "[1, 1, 2, 3, 4, 4]\n"
     ]
    }
   ],
   "execution_count": 4
  },
  {
   "metadata": {},
   "cell_type": "markdown",
   "source": "## OMS，17.66mb",
   "id": "98d739c87994c0e7"
  },
  {
   "metadata": {},
   "cell_type": "code",
   "outputs": [],
   "execution_count": null,
   "source": [
    "# Definition for singly-linked list.\n",
    "class ListNode:\n",
    "    def __init__(self, val=0, next=None):\n",
    "        self.val = val  # 当前节点的值\n",
    "        self.next = next  # 指向下一个节点的指针  \n",
    "\n",
    "class Solution:\n",
    "    def mergeTwoLists(self, list1: Optional[ListNode], list2: Optional[ListNode]) -> Optional[ListNode]:\n",
    "        # 创建一个哨兵节点，方便处理头节点\n",
    "        dummy = ListNode()\n",
    "        current = dummy\n",
    "        \n",
    "        # 比较两个链表的节点值，按顺序连接\n",
    "        while list1 and list2:  # 只要 list1 和 list2 都不为空，合并\n",
    "            if list1.val < list2.val:  # 比较当前节点的值\n",
    "                current.next = list1  # 当前指针指向 list1\n",
    "                list1 = list1.next  # list1 向后移动\n",
    "            else:\n",
    "                current.next = list2\n",
    "                list2 = list2.next\n",
    "            current = current.next  # 当前指针后移，继续构建链表\n",
    "\n",
    "        # 处理剩余的节点\n",
    "        if list1:\n",
    "            current.next = list1\n",
    "        if list2:\n",
    "            current.next = list2\n",
    "\n",
    "        return dummy.next\n",
    "        "
   ],
   "id": "61271e1c00ac14d4"
  }
 ],
 "metadata": {
  "kernelspec": {
   "display_name": "Python 3",
   "language": "python",
   "name": "python3"
  },
  "language_info": {
   "codemirror_mode": {
    "name": "ipython",
    "version": 2
   },
   "file_extension": ".py",
   "mimetype": "text/x-python",
   "name": "python",
   "nbconvert_exporter": "python",
   "pygments_lexer": "ipython2",
   "version": "2.7.6"
  }
 },
 "nbformat": 4,
 "nbformat_minor": 5
}
