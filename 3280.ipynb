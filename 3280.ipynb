{
 "cells": [
  {
   "metadata": {},
   "cell_type": "markdown",
   "source": "# 将日期转换为二进制表示",
   "id": "c66331458009949a"
  },
  {
   "metadata": {},
   "cell_type": "markdown",
   "source": [
    "给你一个字符串 `date`，它的格式为 `yyyy-mm-dd`，表示一个公历日期。\n",
    "\n",
    "`date` 可以重写为二进制表示，只需要将年、月、日分别转换为对应的二进制表示（不带前导零）并遵循 `year-month-day` 的格式。\n",
    "\n",
    "返回 `date` 的 二进制 表示。\n",
    "\n",
    " \n",
    "\n",
    "示例 1：\n",
    "\n",
    "输入： `date = \"2080-02-29\"`\n",
    "\n",
    "输出： `\"100000100000-10-11101\"`\n",
    "\n",
    "解释：\n",
    "\n",
    "`100000100000`, `10` 和 `11101` 分别是 `2080`, `02` 和 `29` 的二进制表示。\n",
    "\n",
    "示例 2：\n",
    "\n",
    "输入： `date = \"1900-01-01\"`\n",
    "\n",
    "输出： `\"11101101100-1-1\"`\n",
    "\n",
    "解释：\n",
    "\n",
    "`11101101100`, `1` 和 `1` 分别是 `1900`, `1` 和 `1` 的二进制表示。\n",
    "\n",
    " \n",
    "\n",
    "提示：\n",
    "\n",
    "- `date.length == 10`\n",
    "- `date[4] == date[7] == '-'`，其余的 `date[i]` 都是数字。\n",
    "- 输入保证 `date` 代表一个有效的公历日期，日期范围从 1900 年 1 月 1 日到 2100 年 12 月 31 日（包括这两天）。"
   ],
   "id": "a62742bd1eb94c5c"
  },
  {
   "metadata": {},
   "cell_type": "markdown",
   "source": "## test",
   "id": "4773d477df44e06a"
  },
  {
   "cell_type": "code",
   "id": "initial_id",
   "metadata": {
    "collapsed": true,
    "ExecuteTime": {
     "end_time": "2025-01-27T04:05:24.385693Z",
     "start_time": "2025-01-27T04:05:24.380320Z"
    }
   },
   "source": [
    "date = \"2000-02-29\"\n",
    "print(date)\n",
    "year = int(date[0:4])\n",
    "print(year)\n",
    "month = int(date[5:7])\n",
    "print(month)\n",
    "day = int(date[8:10])\n",
    "print(day)\n",
    "\n",
    "year_binary = bin(year)[2:]\n",
    "print(year_binary)\n",
    "month_binary = bin(month)[2:]\n",
    "day_binary = bin(day)[2:]\n",
    "\n",
    "date_binary = str(year_binary) + \"-\" + str(month_binary) + \"-\" + str(day_binary)\n",
    "print(date_binary)"
   ],
   "outputs": [
    {
     "name": "stdout",
     "output_type": "stream",
     "text": [
      "2000-02-29\n",
      "2000\n",
      "2\n",
      "29\n",
      "11111010000\n",
      "11111010000-10-11101\n"
     ]
    }
   ],
   "execution_count": 11
  },
  {
   "metadata": {},
   "cell_type": "markdown",
   "source": "## 0ms, 17.67 MB",
   "id": "76c123da378b0674"
  },
  {
   "metadata": {},
   "cell_type": "code",
   "outputs": [],
   "execution_count": null,
   "source": [
    "class Solution:\n",
    "    def convertDateToBinary(self, date: str) -> str:\n",
    "        year = int(date[0:4])\n",
    "        month = int(date[5:7])\n",
    "        day = int(date[8:10])\n",
    "        year_binary = bin(year)[2:]\n",
    "        month_binary = bin(month)[2:]\n",
    "        day_binary = bin(day)[2:]\n",
    "        date_binary = str(year_binary) + \"-\" + str(month_binary) + \"-\" + str(day_binary)\n",
    "        return date_binary"
   ],
   "id": "fb493d91f340f873"
  }
 ],
 "metadata": {
  "kernelspec": {
   "display_name": "Python 3",
   "language": "python",
   "name": "python3"
  },
  "language_info": {
   "codemirror_mode": {
    "name": "ipython",
    "version": 2
   },
   "file_extension": ".py",
   "mimetype": "text/x-python",
   "name": "python",
   "nbconvert_exporter": "python",
   "pygments_lexer": "ipython2",
   "version": "2.7.6"
  }
 },
 "nbformat": 4,
 "nbformat_minor": 5
}
