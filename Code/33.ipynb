{
 "cells": [
  {
   "metadata": {},
   "cell_type": "markdown",
   "source": "# 搜索旋转排序数组",
   "id": "2e1a295fed818f7d"
  },
  {
   "metadata": {},
   "cell_type": "markdown",
   "source": [
    "整数数组 `nums` 按升序排列，数组中的值 互不相同 。\n",
    "\n",
    "在传递给函数之前，nums 在预先未知的某个下标 `k`（`0 <= k < nums.length`）上进行了 旋转，使数组变为 `[nums[k], nums[k+1], ..., nums[n-1], nums[0], nums[1], ..., nums[k-1]]`（下标 从 0 开始 计数）。例如， `[0,1,2,4,5,6,7]` 在下标 `3` 处经旋转后可能变为 `[4,5,6,7,0,1,2]` 。\n",
    "\n",
    "给你 旋转后 的数组 `nums` 和一个整数 `target` ，如果 `nums` 中存在这个目标值 `target` ，则返回它的下标，否则返回 `-1` 。\n",
    "\n",
    "你必须设计一个时间复杂度为 `O(log n)` 的算法解决此问题。\n",
    "\n",
    " \n",
    "\n",
    "示例 1：\n",
    "\n",
    "输入：`nums = [4,5,6,7,0,1,2]`, `target = 0`\n",
    "\n",
    "输出：`4`\n",
    "\n",
    "示例 2：\n",
    "\n",
    "输入：`nums = [4,5,6,7,0,1,2]`, `target = 3`\n",
    "\n",
    "输出：-1\n",
    "\n",
    "示例 3：\n",
    "\n",
    "输入：`nums = [1]`, `target = 0`\n",
    "\n",
    "输出：-1\n",
    " \n",
    "\n",
    "提示：\n",
    "\n",
    "- `1 <= nums.length <= 5000`\n",
    "- `-104 <= nums[i] <= 104`\n",
    "- `nums` 中的每个值都 独一无二\n",
    "- 题目数据保证 nums 在预先未知的某个下标上进行了旋转\n",
    "- `-104 <= target <= 104`"
   ],
   "id": "a602bf2fbddf4317"
  },
  {
   "cell_type": "code",
   "execution_count": null,
   "id": "initial_id",
   "metadata": {
    "collapsed": true
   },
   "outputs": [],
   "source": [
    ""
   ]
  }
 ],
 "metadata": {
  "kernelspec": {
   "display_name": "Python 3",
   "language": "python",
   "name": "python3"
  },
  "language_info": {
   "codemirror_mode": {
    "name": "ipython",
    "version": 2
   },
   "file_extension": ".py",
   "mimetype": "text/x-python",
   "name": "python",
   "nbconvert_exporter": "python",
   "pygments_lexer": "ipython2",
   "version": "2.7.6"
  }
 },
 "nbformat": 4,
 "nbformat_minor": 5
}
