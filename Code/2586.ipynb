{
 "cells": [
  {
   "metadata": {},
   "cell_type": "markdown",
   "source": [
    "# 统计范围内的元音字符串数\n",
    "\n",
    "https://leetcode.cn/problems/count-the-number-of-vowel-strings-in-range"
   ],
   "id": "c4437a0fb5a39c35"
  },
  {
   "metadata": {},
   "cell_type": "markdown",
   "source": [
    "给你一个下标从 0 开始的字符串数组 words 和两个整数：left 和 right 。\n",
    "\n",
    "如果字符串以元音字母开头并以元音字母结尾，那么该字符串就是一个 元音字符串 ，其中元音字母是 'a'、'e'、'i'、'o'、'u' 。\n",
    "\n",
    "返回 words[i] 是元音字符串的数目，其中 i 在闭区间 [left, right] 内。\n",
    "\n",
    " \n",
    "\n",
    "示例 1：\n",
    "\n",
    "> 输入：words = [\"are\",\"amy\",\"u\"], left = 0, right = 2\n",
    "> \n",
    "> 输出：2\n",
    "> \n",
    "> 解释：\n",
    "> - \"are\" 是一个元音字符串，因为它以 'a' 开头并以 'e' 结尾。\n",
    "> - \"amy\" 不是元音字符串，因为它没有以元音字母结尾。\n",
    "> - \"u\" 是一个元音字符串，因为它以 'u' 开头并以 'u' 结尾。\n",
    "> \n",
    "> 在上述范围中的元音字符串数目为 2 。\n",
    "\n",
    "示例 2：\n",
    "\n",
    "> 输入：words = [\"hey\",\"aeo\",\"mu\",\"ooo\",\"artro\"], left = 1, right = 4\n",
    "> \n",
    "> 输出：3\n",
    "> \n",
    "> 解释：\n",
    "> \n",
    "> - \"aeo\" 是一个元音字符串，因为它以 'a' 开头并以 'o' 结尾。\n",
    "> - \"mu\" 不是元音字符串，因为它没有以元音字母开头。\n",
    "> - \"ooo\" 是一个元音字符串，因为它以 'o' 开头并以 'o' 结尾。\n",
    "> - \"artro\" 是一个元音字符串，因为它以 'a' 开头并以 'o' 结尾。\n",
    "> \n",
    "> 在上述范围中的元音字符串数目为 3 。\n",
    " \n",
    "\n",
    "提示：\n",
    "\n",
    "- `1 <= words.length <= 1000`\n",
    "- `1 <= words[i].length <= 10`\n",
    "- `words[i]` 仅由小写英文字母组成\n",
    "- `0 <= left <= right < words.length`"
   ],
   "id": "876bc8501bc0f44c"
  },
  {
   "metadata": {},
   "cell_type": "markdown",
   "source": "## test",
   "id": "65fa314b3a51f944"
  },
  {
   "metadata": {
    "ExecuteTime": {
     "end_time": "2025-02-09T13:26:10.698780Z",
     "start_time": "2025-02-09T13:26:10.693643Z"
    }
   },
   "cell_type": "code",
   "source": [
    "words = [\"are\",\"amy\",\"u\"]\n",
    "print(words[2][0])"
   ],
   "id": "7fa3715ce6c8d22d",
   "outputs": [
    {
     "name": "stdout",
     "output_type": "stream",
     "text": [
      "u\n"
     ]
    }
   ],
   "execution_count": 2
  },
  {
   "metadata": {},
   "cell_type": "markdown",
   "source": "## 4 ms, 17.81 mb",
   "id": "8b673d7cd13bea24"
  },
  {
   "cell_type": "code",
   "id": "initial_id",
   "metadata": {
    "collapsed": true,
    "ExecuteTime": {
     "end_time": "2025-02-09T13:29:56.877073Z",
     "start_time": "2025-02-09T13:29:56.864570Z"
    }
   },
   "source": [
    "from typing import List\n",
    "\n",
    "\n",
    "class Solution:\n",
    "    def vowelStrings(self, words: List[str], left: int, right: int) -> int:\n",
    "        count = 0\n",
    "        for i in range(left, right + 1):\n",
    "            if words[i][0] in \"aeiou\" and words[i][-1] in \"aeiou\":\n",
    "                print(words[i])\n",
    "                count += 1\n",
    "        \n",
    "        return count\n",
    "    \n",
    "\n",
    "if __name__ == \"__main__\":\n",
    "    sol = Solution()\n",
    "    print(sol.vowelStrings(words = [\"are\",\"amy\",\"u\"], left = 0, right = 2))\n",
    "    print(sol.vowelStrings(words = [\"hey\",\"aeo\",\"mu\",\"ooo\",\"artro\"], left = 1, right = 4))\n",
    "        "
   ],
   "outputs": [
    {
     "name": "stdout",
     "output_type": "stream",
     "text": [
      "are\n",
      "u\n",
      "2\n",
      "aeo\n",
      "ooo\n",
      "artro\n",
      "3\n"
     ]
    }
   ],
   "execution_count": 10
  }
 ],
 "metadata": {
  "kernelspec": {
   "display_name": "Python 3",
   "language": "python",
   "name": "python3"
  },
  "language_info": {
   "codemirror_mode": {
    "name": "ipython",
    "version": 2
   },
   "file_extension": ".py",
   "mimetype": "text/x-python",
   "name": "python",
   "nbconvert_exporter": "python",
   "pygments_lexer": "ipython2",
   "version": "2.7.6"
  }
 },
 "nbformat": 4,
 "nbformat_minor": 5
}
