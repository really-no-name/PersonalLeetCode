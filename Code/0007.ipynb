{
 "cells": [
  {
   "metadata": {},
   "cell_type": "markdown",
   "source": "# 整数反转",
   "id": "7c33c604f1b500a5"
  },
  {
   "metadata": {},
   "cell_type": "markdown",
   "source": [
    "给你一个 `32` 位的有符号整数 `x` ，返回将 `x` 中的数字部分反转后的结果。\n",
    "\n",
    "如果反转后整数超过 `32` 位的有符号整数的范围 `[−2^31,  2^31 − 1]` ，就返回 `0`。\n",
    "\n",
    "假设环境不允许存储 `64` 位整数（有符号或无符号）。\n",
    " \n",
    "\n",
    "示例 1：\n",
    "\n",
    "输入：`x = 123`\n",
    "输出：`321`\n",
    "\n",
    "示例 2：\n",
    "\n",
    "输入：`x = -123`\n",
    "输出：`-321`\n",
    "\n",
    "示例 3：\n",
    "\n",
    "输入：`x = 120`\n",
    "输出：`21`\n",
    "\n",
    "示例 4：\n",
    "\n",
    "输入：`x = 0`\n",
    "输出：`0`\n",
    " \n",
    "\n",
    "提示：\n",
    "\n",
    "`-2^31 <= x <= 2^31 - 1`"
   ],
   "id": "e434d2093e07316c"
  },
  {
   "metadata": {},
   "cell_type": "markdown",
   "source": "## test",
   "id": "6d2a2f4b47121fcd"
  },
  {
   "cell_type": "code",
   "id": "initial_id",
   "metadata": {
    "collapsed": true,
    "ExecuteTime": {
     "end_time": "2025-01-28T12:04:35.945015Z",
     "start_time": "2025-01-28T12:04:35.934639Z"
    }
   },
   "source": [
    "def reverse(x: int) -> int:\n",
    "    \"\"\"\n",
    "    反转整数\n",
    "    :param x: \n",
    "    :return: \n",
    "    \"\"\"\n",
    "    if x == 0:\n",
    "        return 0\n",
    "    else:\n",
    "        if x < 0:\n",
    "            x = x * -1\n",
    "            rev_x = rev(x)\n",
    "        else:\n",
    "            rev_x = rev(x)\n",
    "        \n",
    "        if rev_x < -2 ** 31 or rev_x > 2 ** 31 - 1:\n",
    "            return 0\n",
    "        else:\n",
    "            return rev_x\n",
    "    \n",
    "def rev(x: int) -> int:\n",
    "    \"\"\"\n",
    "    反转大于0的数\n",
    "    :param x: \n",
    "    :return: \n",
    "    \"\"\"\n",
    "    str_x = str(x)\n",
    "    rev_str_x = str_x[::-1]\n",
    "    return int(rev_str_x)\n",
    "        \n",
    "    \n",
    "    \n",
    "x = 123\n",
    "print(reverse(x))\n"
   ],
   "outputs": [
    {
     "name": "stdout",
     "output_type": "stream",
     "text": [
      "321\n"
     ]
    }
   ],
   "execution_count": 9
  },
  {
   "metadata": {},
   "cell_type": "markdown",
   "source": "## 0ms, 17.52mb",
   "id": "3e14b4f1f325f16c"
  },
  {
   "metadata": {},
   "cell_type": "code",
   "outputs": [],
   "execution_count": null,
   "source": [
    "class Solution:\n",
    "    def reverse(self, x: int) -> int:\n",
    "        \"\"\"\n",
    "        反转整数\n",
    "        :param x: \n",
    "        :return: \n",
    "        \"\"\"\n",
    "        if x == 0:\n",
    "            return 0\n",
    "        else:\n",
    "            if x < 0:\n",
    "                x = x * -1\n",
    "                rev_x = self.rev(x) * -1\n",
    "            else:\n",
    "                rev_x = self.rev(x)\n",
    "            \n",
    "            if rev_x < -2 ** 31 or rev_x > 2 ** 31 - 1:\n",
    "                return 0\n",
    "            else:\n",
    "                return rev_x\n",
    "        \n",
    "    def rev(self, x: int) -> int:\n",
    "        \"\"\"\n",
    "        反转大于0的数\n",
    "        :param x: \n",
    "        :return: \n",
    "        \"\"\"\n",
    "        str_x = str(x)\n",
    "        rev_str_x = str_x[::-1]\n",
    "        return int(rev_str_x)"
   ],
   "id": "a5eb69edca2f0d84"
  }
 ],
 "metadata": {
  "kernelspec": {
   "display_name": "Python 3",
   "language": "python",
   "name": "python3"
  },
  "language_info": {
   "codemirror_mode": {
    "name": "ipython",
    "version": 2
   },
   "file_extension": ".py",
   "mimetype": "text/x-python",
   "name": "python",
   "nbconvert_exporter": "python",
   "pygments_lexer": "ipython2",
   "version": "2.7.6"
  }
 },
 "nbformat": 4,
 "nbformat_minor": 5
}
