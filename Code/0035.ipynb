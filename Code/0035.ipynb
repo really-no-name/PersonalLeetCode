{
 "cells": [
  {
   "metadata": {},
   "cell_type": "markdown",
   "source": [
    "# 搜索插入位置\n",
    "\n",
    "https://leetcode.cn/problems/search-insert-position"
   ],
   "id": "4a9b9e40f0250ff5"
  },
  {
   "metadata": {},
   "cell_type": "markdown",
   "source": [
    "给定一个排序数组和一个目标值，在数组中找到目标值，并返回其索引。如果目标值不存在于数组中，返回它将会被按顺序插入的位置。\n",
    "\n",
    "请必须使用时间复杂度为 O(log n) 的算法。\n",
    "\n",
    " \n",
    "\n",
    "示例 1:\n",
    "\n",
    "> 输入: `nums = [1,3,5,6]`, `target = 5`\n",
    "> \n",
    "> 输出: `2`\n",
    "\n",
    "示例 2:\n",
    "\n",
    "> 输入: `nums = [1,3,5,6]`, `target = 2`\n",
    "> \n",
    "> 输出: `1`\n",
    "\n",
    "示例 3:\n",
    "\n",
    "> 输入: `nums = [1,3,5,6]`, `target = 7`\n",
    "> \n",
    "> 输出: `4`\n",
    " \n",
    "\n",
    "提示:\n",
    "\n",
    "- `1 <= nums.length <= 104`\n",
    "- `-104 <= nums[i] <= 104`\n",
    "- `nums` 为 无重复元素 的 升序 排列数组\n",
    "- `-104 <= target <= 104`"
   ],
   "id": "e4fa80ee86fe90e5"
  },
  {
   "metadata": {},
   "cell_type": "markdown",
   "source": "## test",
   "id": "9c1fe8dcfde50b95"
  },
  {
   "metadata": {
    "ExecuteTime": {
     "end_time": "2025-02-10T13:12:03.675647Z",
     "start_time": "2025-02-10T13:12:03.667316Z"
    }
   },
   "cell_type": "code",
   "source": [
    "nums = [1,3,5,6]\n",
    "target = 5\n",
    "print(nums.index(target))"
   ],
   "id": "3b39e3dc2811d907",
   "outputs": [
    {
     "name": "stdout",
     "output_type": "stream",
     "text": [
      "2\n"
     ]
    }
   ],
   "execution_count": 2
  },
  {
   "metadata": {},
   "cell_type": "markdown",
   "source": "## 0 ms, 18.17 ms",
   "id": "2887fccb6a99f6da"
  },
  {
   "cell_type": "code",
   "id": "initial_id",
   "metadata": {
    "collapsed": true,
    "ExecuteTime": {
     "end_time": "2025-02-10T13:13:55.448836Z",
     "start_time": "2025-02-10T13:13:55.435644Z"
    }
   },
   "source": [
    "from typing import List\n",
    "\n",
    "\n",
    "class Solution:\n",
    "    def searchInsert(self, nums: List[int], target: int) -> int:\n",
    "        if target in nums:\n",
    "            return nums.index(target)\n",
    "        elif target > nums[-1]:\n",
    "            return len(nums)\n",
    "        elif target < nums[0]:\n",
    "            return 0\n",
    "        else:\n",
    "            for i in range(len(nums)):\n",
    "                if target > nums[i] and target < nums[i+1]:\n",
    "                    return i+1\n",
    "                \n",
    "                \n",
    "if __name__ == '__main__':\n",
    "    nums = [1,3,5,6]\n",
    "    target = 5\n",
    "    print(Solution().searchInsert(nums, target))"
   ],
   "outputs": [
    {
     "name": "stdout",
     "output_type": "stream",
     "text": [
      "2\n"
     ]
    }
   ],
   "execution_count": 3
  }
 ],
 "metadata": {
  "kernelspec": {
   "display_name": "Python 3",
   "language": "python",
   "name": "python3"
  },
  "language_info": {
   "codemirror_mode": {
    "name": "ipython",
    "version": 2
   },
   "file_extension": ".py",
   "mimetype": "text/x-python",
   "name": "python",
   "nbconvert_exporter": "python",
   "pygments_lexer": "ipython2",
   "version": "2.7.6"
  }
 },
 "nbformat": 4,
 "nbformat_minor": 5
}
