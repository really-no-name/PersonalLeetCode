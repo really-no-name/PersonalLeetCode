{
 "cells": [
  {
   "metadata": {},
   "cell_type": "markdown",
   "source": [
    "# 搜索旋转排序数组\n",
    "\n",
    "https://leetcode.cn/problems/search-in-rotated-sorted-array"
   ],
   "id": "2e1a295fed818f7d"
  },
  {
   "metadata": {},
   "cell_type": "markdown",
   "source": [
    "整数数组 `nums` 按升序排列，数组中的值 互不相同 。\n",
    "\n",
    "在传递给函数之前，nums 在预先未知的某个下标 `k`（`0 <= k < nums.length`）上进行了 旋转，使数组变为 `[nums[k], nums[k+1], ..., nums[n-1], nums[0], nums[1], ..., nums[k-1]]`（下标 从 0 开始 计数）。例如， `[0,1,2,4,5,6,7]` 在下标 `3` 处经旋转后可能变为 `[4,5,6,7,0,1,2]` 。\n",
    "\n",
    "给你 旋转后 的数组 `nums` 和一个整数 `target` ，如果 `nums` 中存在这个目标值 `target` ，则返回它的下标，否则返回 `-1` 。\n",
    "\n",
    "你必须设计一个时间复杂度为 `O(log n)` 的算法解决此问题。\n",
    "\n",
    " \n",
    "\n",
    "示例 1：\n",
    "\n",
    "输入：`nums = [4,5,6,7,0,1,2]`, `target = 0`\n",
    "\n",
    "输出：`4`\n",
    "\n",
    "示例 2：\n",
    "\n",
    "输入：`nums = [4,5,6,7,0,1,2]`, `target = 3`\n",
    "\n",
    "输出：-1\n",
    "\n",
    "示例 3：\n",
    "\n",
    "输入：`nums = [1]`, `target = 0`\n",
    "\n",
    "输出：-1\n",
    " \n",
    "\n",
    "提示：\n",
    "\n",
    "- `1 <= nums.length <= 5000`\n",
    "- `-104 <= nums[i] <= 104`\n",
    "- `nums` 中的每个值都 独一无二\n",
    "- 题目数据保证 nums 在预先未知的某个下标上进行了旋转\n",
    "- `-104 <= target <= 104`"
   ],
   "id": "a602bf2fbddf4317"
  },
  {
   "metadata": {},
   "cell_type": "markdown",
   "source": "## 0 ms, 17.79 ms",
   "id": "bdebef940352f0"
  },
  {
   "cell_type": "code",
   "id": "initial_id",
   "metadata": {
    "collapsed": true,
    "ExecuteTime": {
     "end_time": "2025-02-02T14:20:49.901981Z",
     "start_time": "2025-02-02T14:20:49.894078Z"
    }
   },
   "source": [
    "from typing import List\n",
    "\n",
    "\n",
    "class Solution:\n",
    "    def findMin(self, nums: List[int]) -> int:\n",
    "        left, right = -1, len(nums) - 1\n",
    "        while left + 1 < right:\n",
    "            mid = (left + right) // 2\n",
    "            if nums[mid] < nums[-1]:\n",
    "                right = mid\n",
    "            else:\n",
    "                left = mid\n",
    "        return right\n",
    "    \n",
    "    def lower_bound(self, nums: List[int], left: int, right: int, target: int) -> int:\n",
    "        while left + 1 < right:\n",
    "            mid = (left + right) // 2\n",
    "            if nums[mid] >= target:\n",
    "                right = mid\n",
    "            else:\n",
    "                left = mid\n",
    "        return right if nums[right] == target else -1\n",
    "    \n",
    "    def search(self, nums: List[int], target: int) -> int:\n",
    "        i = self.findMin(nums)\n",
    "        if target > nums[-1]:\n",
    "            return self.lower_bound(nums, -1, i, target)\n",
    "        return self.lower_bound(nums, i - 1, len(nums), target)\n",
    "    \n",
    "\n",
    "if __name__ == \"__main__\":\n",
    "    s = Solution()\n",
    "    print(s.search(nums = [4, 5, 6, 7, 0, 1, 2], target = 0))\n",
    "        "
   ],
   "outputs": [
    {
     "name": "stdout",
     "output_type": "stream",
     "text": [
      "4\n"
     ]
    }
   ],
   "execution_count": 1
  }
 ],
 "metadata": {
  "kernelspec": {
   "display_name": "Python 3",
   "language": "python",
   "name": "python3"
  },
  "language_info": {
   "codemirror_mode": {
    "name": "ipython",
    "version": 2
   },
   "file_extension": ".py",
   "mimetype": "text/x-python",
   "name": "python",
   "nbconvert_exporter": "python",
   "pygments_lexer": "ipython2",
   "version": "2.7.6"
  }
 },
 "nbformat": 4,
 "nbformat_minor": 5
}
