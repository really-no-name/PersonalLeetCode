{
 "cells": [
  {
   "metadata": {},
   "cell_type": "markdown",
   "source": [
    "## 区间加法II\n",
    "https://leetcode.cn/problems/range-addition-ii?envType=daily-question&envId=2025-02-02"
   ],
   "id": "d73e56a2cdfa3db2"
  },
  {
   "metadata": {},
   "cell_type": "markdown",
   "source": [
    "给你一个 `m x n` 的矩阵 `M` 和一个操作数组 `op` 。矩阵初始化时所有的单元格都为 `0` 。`ops[i] = [ai, bi]` 意味着当所有的 `0 <= x < ai` 和 `0 <= y < bi` 时， `M[x][y]` 应该加 `1`。\n",
    "\n",
    "在 执行完所有操作后 ，计算并返回 矩阵中最大整数的个数 。\n",
    "\n",
    " \n",
    "\n",
    "示例 1:\n",
    "\n",
    "\n",
    "\n",
    "输入: `m = 3`, `n = 3`，`ops = [[2,2],[3,3]]`\n",
    "\n",
    "输出: `4`\n",
    "\n",
    "解释: `M` 中最大的整数是 `2`, 而且 `M` 中有4个值为2的元素。因此返回 `4`。\n",
    "\n",
    "示例 2:\n",
    "\n",
    "输入: `m = 3`, `n = 3`, `ops = [[2,2],[3,3],[3,3],[3,3],[2,2],[3,3],[3,3],[3,3],[2,2],[3,3],[3,3],[3,3]]`\n",
    "\n",
    "输出: `4`\n",
    "\n",
    "示例 3:\n",
    "\n",
    "输入: `m = 3`, `n = 3`, `ops = []`\n",
    "\n",
    "输出: `9`\n",
    " \n",
    "\n",
    "提示:\n",
    "\n",
    "\n",
    "- `1 <= m, n <= 4 * 104`\n",
    "- `0 <= ops.length <= 104`\n",
    "- `ops[i].length == 2`\n",
    "- `1 <= ai <= m`\n",
    "- `1 <= bi <= n`"
   ],
   "id": "f78bd769fcac053c"
  },
  {
   "metadata": {},
   "cell_type": "markdown",
   "source": "## 3 ms, 18.99 mb",
   "id": "d551855605873e88"
  },
  {
   "cell_type": "code",
   "id": "initial_id",
   "metadata": {
    "collapsed": true,
    "ExecuteTime": {
     "end_time": "2025-02-02T08:52:23.721963Z",
     "start_time": "2025-02-02T08:52:23.704732Z"
    }
   },
   "source": [
    "from typing import List\n",
    "\n",
    "\n",
    "class Solution:\n",
    "    def maxCount(self, m: int, n: int, ops: List[List[int]]) -> int:\n",
    "        if not ops:\n",
    "            return m * n\n",
    "        else:\n",
    "            min_a = m  # 或用 float('inf) 定义为无穷大\n",
    "            min_b = n\n",
    "            for op in ops:\n",
    "                min_a = min(min_a, op[0])\n",
    "                min_b = min(min_b, op[1])\n",
    "            return min_a * min_b\n",
    "        \n",
    "if __name__ == '__main__':\n",
    "    m = 3\n",
    "    n = 3\n",
    "    ops = [[2,2],[3,3]]\n",
    "    sol = Solution()\n",
    "    print(sol.maxCount(m, n, ops))\n",
    "    \n",
    "    m = 3\n",
    "    n = 3\n",
    "    ops = [[2,2],[3,3],[3,3],[3,3],[2,2],[3,3],[3,3],[3,3],[2,2],[3,3],[3,3],[3,3]]\n",
    "    print(sol.maxCount(m, n, ops))"
   ],
   "outputs": [
    {
     "name": "stdout",
     "output_type": "stream",
     "text": [
      "4\n",
      "4\n"
     ]
    }
   ],
   "execution_count": 5
  }
 ],
 "metadata": {
  "kernelspec": {
   "display_name": "Python 3",
   "language": "python",
   "name": "python3"
  },
  "language_info": {
   "codemirror_mode": {
    "name": "ipython",
    "version": 2
   },
   "file_extension": ".py",
   "mimetype": "text/x-python",
   "name": "python",
   "nbconvert_exporter": "python",
   "pygments_lexer": "ipython2",
   "version": "2.7.6"
  }
 },
 "nbformat": 4,
 "nbformat_minor": 5
}
