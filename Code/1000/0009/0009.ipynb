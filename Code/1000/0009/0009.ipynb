{
 "cells": [
  {
   "metadata": {},
   "cell_type": "markdown",
   "source": [
    "# 9 回文数\n",
    "\n",
    "https://leetcode.cn/problems/palindrome-number?envType=weekly-question&envId=2025-02-09"
   ],
   "id": "e65b7f52bb61911c"
  },
  {
   "metadata": {},
   "cell_type": "markdown",
   "source": [
    "\n",
    "给你一个整数 `x` ，如果 `x` 是一个回文整数，返回 `true` ；否则，返回 `false` 。\n",
    "\n",
    "回文数\n",
    "是指正序（从左向右）和倒序（从右向左）读都是一样的整数。\n",
    "\n",
    "例如，`121` 是回文，而 `123` 不是。\n",
    " \n",
    "\n",
    "示例 1：\n",
    "\n",
    "输入：`x = 121`\n",
    "输出：`true`\n",
    "\n",
    "示例 2：\n",
    "\n",
    "输入：`x = -121`\n",
    "输出：`false`\n",
    "解释：从左向右读, 为 `-121` 。 从右向左读, 为 `121-` 。因此它不是一个回文数。\n",
    "\n",
    "示例 3：\n",
    "\n",
    "输入：`x = 10`\n",
    "输出：`false`\n",
    "解释：从右向左读, 为 `01` 。因此它不是一个回文数。\n",
    " \n",
    "\n",
    "提示：\n",
    "\n",
    "`-2^31 <= x <= 2^31 - 1`\n",
    " \n",
    "\n",
    "进阶：你能不将整数转为字符串来解决这个问题吗？"
   ],
   "id": "4431be47f120c75c"
  },
  {
   "metadata": {},
   "cell_type": "markdown",
   "source": "## 4 ms, 17.57 mb",
   "id": "80af09eac6744175"
  },
  {
   "cell_type": "code",
   "id": "initial_id",
   "metadata": {
    "collapsed": true,
    "ExecuteTime": {
     "end_time": "2025-02-11T05:43:43.598835Z",
     "start_time": "2025-02-11T05:43:43.593217Z"
    }
   },
   "source": [
    "class Solution:\n",
    "    def isPalindrome(self, x: int) -> bool:\n",
    "        return str(x) == str(x)[::-1]\n",
    "    \n",
    "    \n",
    "\n",
    "if __name__ == '__main__':\n",
    "    sol = Solution()\n",
    "    print(sol.isPalindrome(123))\n",
    "\n",
    "        "
   ],
   "outputs": [
    {
     "name": "stdout",
     "output_type": "stream",
     "text": [
      "False\n"
     ]
    }
   ],
   "execution_count": 1
  }
 ],
 "metadata": {
  "kernelspec": {
   "display_name": "Python 3",
   "language": "python",
   "name": "python3"
  },
  "language_info": {
   "codemirror_mode": {
    "name": "ipython",
    "version": 2
   },
   "file_extension": ".py",
   "mimetype": "text/x-python",
   "name": "python",
   "nbconvert_exporter": "python",
   "pygments_lexer": "ipython2",
   "version": "2.7.6"
  }
 },
 "nbformat": 4,
 "nbformat_minor": 5
}
