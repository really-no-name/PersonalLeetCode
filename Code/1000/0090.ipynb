{
 "cells": [
  {
   "metadata": {},
   "cell_type": "markdown",
   "source": [
    "# 子集 II\n",
    "\n",
    "https://leetcode.cn/problems/subsets-ii?envType=daily-question&envId=2025-02-05"
   ],
   "id": "40b33128def5423a"
  },
  {
   "metadata": {},
   "cell_type": "markdown",
   "source": [
    "给你一个整数数组 nums ，其中可能包含重复元素，请你返回该数组所有可能的 \n",
    "子集\n",
    "（幂集）。\n",
    "\n",
    "解集 不能 包含重复的子集。返回的解集中，子集可以按 任意顺序 排列。\n",
    "\n",
    " \n",
    "\n",
    "示例 1：\n",
    "\n",
    "输入：nums = [1,2,2]\n",
    "\n",
    "输出：[[],[1],[1,2],[1,2,2],[2],[2,2]]\n",
    "\n",
    "示例 2：\n",
    "\n",
    "输入：nums = [0]\n",
    "\n",
    "输出：[[],[0]]\n",
    " \n",
    "\n",
    "提示：\n",
    "\n",
    "- 1 <= nums.length <= 10\n",
    "- -10 <= nums[i] <= 10"
   ],
   "id": "bf61c8233fa4a0c8"
  },
  {
   "metadata": {},
   "cell_type": "markdown",
   "source": "## 0ms, 17.66 mb",
   "id": "9be64847bc83c400"
  },
  {
   "cell_type": "code",
   "id": "initial_id",
   "metadata": {
    "collapsed": true,
    "ExecuteTime": {
     "end_time": "2025-02-05T12:31:42.612929Z",
     "start_time": "2025-02-05T12:31:42.605669Z"
    }
   },
   "source": [
    "from typing import List\n",
    "\n",
    "\n",
    "class Solution:\n",
    "    def subsetsWithDup(self, nums: List[int]) -> List[List[int]]:\n",
    "        nums.sort()\n",
    "        n = len(nums)\n",
    "        ans = []\n",
    "        path = []\n",
    "\n",
    "        def dfs(i: int) -> None:\n",
    "            ans.append(path.copy())  # 也可以写 path[:]\n",
    "\n",
    "            # 在 [i,n-1] 中选一个 nums[j]\n",
    "            # 注意选 nums[j] 意味着 [i,j-1] 中的数都没有选\n",
    "            for j in range(i, n):\n",
    "                # 如果 j>i，说明 nums[j-1] 没有选\n",
    "                # 同方法一，所有等于 nums[j-1] 的数都不选\n",
    "                if j > i and nums[j] == nums[j - 1]:\n",
    "                    continue\n",
    "                path.append(nums[j])\n",
    "                dfs(j + 1)\n",
    "                path.pop()  # 恢复现场\n",
    "\n",
    "        dfs(0)\n",
    "        return ans\n",
    "    \n",
    "    \n",
    "if __name__ == '__main__':\n",
    "    sol = Solution()\n",
    "    print(sol.subsetsWithDup([1, 2, 2]))\n"
   ],
   "outputs": [
    {
     "name": "stdout",
     "output_type": "stream",
     "text": [
      "[[], [1], [1, 2], [1, 2, 2], [2], [2, 2]]\n"
     ]
    }
   ],
   "execution_count": 1
  }
 ],
 "metadata": {
  "kernelspec": {
   "display_name": "Python 3",
   "language": "python",
   "name": "python3"
  },
  "language_info": {
   "codemirror_mode": {
    "name": "ipython",
    "version": 2
   },
   "file_extension": ".py",
   "mimetype": "text/x-python",
   "name": "python",
   "nbconvert_exporter": "python",
   "pygments_lexer": "ipython2",
   "version": "2.7.6"
  }
 },
 "nbformat": 4,
 "nbformat_minor": 5
}
