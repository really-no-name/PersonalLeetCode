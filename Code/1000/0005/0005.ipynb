{
 "cells": [
  {
   "metadata": {},
   "cell_type": "markdown",
   "source": "# 最长回文子串",
   "id": "47331f5b07bb2fb3"
  },
  {
   "metadata": {},
   "cell_type": "markdown",
   "source": [
    "给你一个字符串 `s`，找到 `s` 中最长的 **回文** 子串。\n",
    "\n",
    " \n",
    "\n",
    "示例 1：\n",
    "\n",
    "输入：`s = \"babad\"`\n",
    "输出：`\"bab\"`\n",
    "解释：`\"aba\"` 同样是符合题意的答案。\n",
    "\n",
    "示例 2：\n",
    "\n",
    "输入：`s = \"cbbd\"`\n",
    "输出：`\"bb\"`\n",
    " \n",
    "\n",
    "提示：\n",
    "\n",
    "- `1 <= s.length <= 1000`\n",
    "- `s` 仅由数字和英文字母组成\n"
   ],
   "id": "efe5ae7079529e05"
  },
  {
   "metadata": {},
   "cell_type": "markdown",
   "source": "## Manacher 算法",
   "id": "c48e5f47b82d20ea"
  },
  {
   "metadata": {},
   "cell_type": "code",
   "outputs": [],
   "execution_count": null,
   "source": [
    "def manacher(s: str) -> str:\n",
    "    # 预处理字符串，在每个字符之间插入特殊字符（如 '#'）以统一奇偶回文的处理\n",
    "    def preprocess(s: str) -> str:\n",
    "        return '#' + '#'.join(s) + '#'\n",
    "\n",
    "    # 预处理字符串\n",
    "    t = preprocess(s)\n",
    "    n = len(t)  # 获取预处理后字符串的长度\n",
    "    p = [0] * n  # 存储每个位置为中心的回文半径\n",
    "    center = 0  # 当前回文中心\n",
    "    right = 0   # 当前回文的右边界\n",
    "    max_len = 0  # 最大回文长度\n",
    "    center_index = 0  # 最大回文的中心索引\n",
    "\n",
    "    # 遍历预处理后的字符串\n",
    "    for i in range(n):\n",
    "        # 如果当前索引 i 在右边界内，用对称性质初始化 p[i]\n",
    "        if i < right:\n",
    "            p[i] = min(right - i, p[2 * center - i])  # 利用对称性，找最小可能的回文半径\n",
    "\n",
    "        # 从 p[i] 开始尝试扩展回文\n",
    "        while i - p[i] - 1 >= 0 and i + p[i] + 1 < n and t[i - p[i] - 1] == t[i + p[i] + 1]:\n",
    "            p[i] += 1\n",
    "\n",
    "        # 如果回文的右边界超过当前最大值，更新中心和右边界\n",
    "        if i + p[i] > right:\n",
    "            center = i\n",
    "            right = i + p[i]\n",
    "\n",
    "        # 记录最长回文的长度和中心索引\n",
    "        if p[i] > max_len:\n",
    "            max_len = p[i]\n",
    "            center_index = i\n",
    "\n",
    "    # 根据最大回文的中心和长度，提取原始字符串中的回文子串\n",
    "    start = (center_index - max_len) // 2  # 转换为原始字符串的索引\n",
    "    return s[start:start + max_len]  # 返回最长回文子串"
   ],
   "id": "789c4eda757490c9"
  },
  {
   "metadata": {},
   "cell_type": "markdown",
   "source": "## test",
   "id": "14b7f52477d548a5"
  },
  {
   "cell_type": "code",
   "id": "initial_id",
   "metadata": {
    "collapsed": true,
    "ExecuteTime": {
     "end_time": "2025-01-28T10:23:37.770635Z",
     "start_time": "2025-01-28T10:23:37.760251Z"
    }
   },
   "source": [
    "def longestPalindrome(s: str) -> str:\n",
    "    # 预处理字符串，在每个字符之间插入特殊字符（如 '#'）以统一奇偶回文的处理\n",
    "    def preprocess(s: str) -> str:\n",
    "        return '#' + '#'.join(s) + '#'\n",
    "\n",
    "    # 预处理字符串\n",
    "    t = preprocess(s)\n",
    "    n = len(t)  # 获取预处理后字符串的长度\n",
    "    p = [0] * n  # 存储每个位置为中心的回文半径\n",
    "    center = 0  # 当前回文中心\n",
    "    right = 0   # 当前回文的右边界\n",
    "    max_len = 0  # 最大回文长度\n",
    "    center_index = 0  # 最大回文的中心索引\n",
    "\n",
    "    # 遍历预处理后的字符串\n",
    "    for i in range(n):\n",
    "        # 如果当前索引 i 在右边界内，用对称性质初始化 p[i]\n",
    "        if i < right:\n",
    "            p[i] = min(right - i, p[2 * center - i])  # 利用对称性，找最小可能的回文半径\n",
    "\n",
    "        # 从 p[i] 开始尝试扩展回文\n",
    "        while i - p[i] - 1 >= 0 and i + p[i] + 1 < n and t[i - p[i] - 1] == t[i + p[i] + 1]:\n",
    "            p[i] += 1\n",
    "\n",
    "        # 如果回文的右边界超过当前最大值，更新中心和右边界\n",
    "        if i + p[i] > right:\n",
    "            center = i\n",
    "            right = i + p[i]\n",
    "\n",
    "        # 记录最长回文的长度和中心索引\n",
    "        if p[i] > max_len:\n",
    "            max_len = p[i]\n",
    "            center_index = i\n",
    "\n",
    "    # 根据最大回文的中心和长度，提取原始字符串中的回文子串\n",
    "    start = (center_index - max_len) // 2  # 转换为原始字符串的索引\n",
    "    return s[start:start + max_len]  # 返回最长回文子串\n",
    "\n",
    "s = \"babad\"\n",
    "print(longestPalindrome(s))\n",
    "            "
   ],
   "outputs": [
    {
     "name": "stdout",
     "output_type": "stream",
     "text": [
      "bab\n"
     ]
    }
   ],
   "execution_count": 2
  },
  {
   "metadata": {},
   "cell_type": "markdown",
   "source": "## 43 ms, 17.87 MB",
   "id": "5ad2c74db9abf6f5"
  },
  {
   "metadata": {},
   "cell_type": "code",
   "outputs": [],
   "execution_count": null,
   "source": [
    "class Solution:\n",
    "    def longestPalindrome(self, s: str) -> str:\n",
    "        # 预处理字符串，在每个字符之间插入特殊字符（如 '#'）以统一奇偶回文的处理\n",
    "        def preprocess(s: str) -> str:\n",
    "            return '#' + '#'.join(s) + '#'\n",
    "\n",
    "        # 预处理字符串\n",
    "        t = preprocess(s)\n",
    "        n = len(t)  # 获取预处理后字符串的长度\n",
    "        p = [0] * n  # 存储每个位置为中心的回文半径\n",
    "        center = 0  # 当前回文中心\n",
    "        right = 0   # 当前回文的右边界\n",
    "        max_len = 0  # 最大回文长度\n",
    "        center_index = 0  # 最大回文的中心索引\n",
    "\n",
    "        # 遍历预处理后的字符串\n",
    "        for i in range(n):\n",
    "            # 如果当前索引 i 在右边界内，用对称性质初始化 p[i]\n",
    "            if i < right:\n",
    "                p[i] = min(right - i, p[2 * center - i])  # 利用对称性，找最小可能的回文半径\n",
    "\n",
    "            # 从 p[i] 开始尝试扩展回文\n",
    "            while i - p[i] - 1 >= 0 and i + p[i] + 1 < n and t[i - p[i] - 1] == t[i + p[i] + 1]:\n",
    "                p[i] += 1\n",
    "\n",
    "            # 如果回文的右边界超过当前最大值，更新中心和右边界\n",
    "            if i + p[i] > right:\n",
    "                center = i\n",
    "                right = i + p[i]\n",
    "\n",
    "            # 记录最长回文的长度和中心索引\n",
    "            if p[i] > max_len:\n",
    "                max_len = p[i]\n",
    "                center_index = i\n",
    "\n",
    "        # 根据最大回文的中心和长度，提取原始字符串中的回文子串\n",
    "        start = (center_index - max_len) // 2  # 转换为原始字符串的索引\n",
    "        return s[start:start + max_len]  # 返回最长回文子串\n",
    "            "
   ],
   "id": "7c3222f28be3388f"
  }
 ],
 "metadata": {
  "kernelspec": {
   "display_name": "Python 3",
   "language": "python",
   "name": "python3"
  },
  "language_info": {
   "codemirror_mode": {
    "name": "ipython",
    "version": 2
   },
   "file_extension": ".py",
   "mimetype": "text/x-python",
   "name": "python",
   "nbconvert_exporter": "python",
   "pygments_lexer": "ipython2",
   "version": "2.7.6"
  }
 },
 "nbformat": 4,
 "nbformat_minor": 5
}
