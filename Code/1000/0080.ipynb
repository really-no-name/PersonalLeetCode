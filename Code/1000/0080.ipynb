{
 "cells": [
  {
   "metadata": {},
   "cell_type": "markdown",
   "source": [
    "# 删除有序数组中的重复项 II\n",
    "\n",
    "https://leetcode.cn/problems/remove-duplicates-from-sorted-array-ii?envType=daily-question&envId=2025-02-09\n",
    "\n",
    "26.[删除有序数组中的重复项](0026.ipynb)"
   ],
   "id": "c39e1ac325e5f4e7"
  },
  {
   "metadata": {},
   "cell_type": "markdown",
   "source": [
    "给你一个有序数组 nums ，请你 原地 删除重复出现的元素，使得出现次数超过两次的元素只出现两次 ，返回删除后数组的新长度。\n",
    "\n",
    "不要使用额外的数组空间，你必须在 原地 修改输入数组 并在使用 O(1) 额外空间的条件下完成。\n",
    "\n",
    " \n",
    "\n",
    "说明：\n",
    "\n",
    "为什么返回数值是整数，但输出的答案是数组呢？\n",
    "\n",
    "请注意，输入数组是以「引用」方式传递的，这意味着在函数里修改输入数组对于调用者是可见的。\n",
    "\n",
    "你可以想象内部操作如下:\n",
    "\n",
    "\n",
    "> // nums 是以“引用”方式传递的。也就是说，不对实参做任何拷贝\n",
    "> \n",
    "> int len = removeDuplicates(nums);\n",
    "> \n",
    "> // 在函数里修改输入数组对于调用者是可见的。\n",
    "> // 根据你的函数返回的长度, 它会打印出数组中 该长度范围内 的所有元素。\n",
    "> ```\n",
    "> for (int i = 0; i < len; i++) {\n",
    ">     print(nums[i]);\n",
    "> }\n",
    "> ```\n",
    " \n",
    "\n",
    "示例 1：\n",
    "\n",
    "> 输入：nums = [1,1,1,2,2,3]\n",
    "> \n",
    "> 输出：5, nums = [1,1,2,2,3]\n",
    "> \n",
    "> 解释：函数应返回新长度 length = 5, 并且原数组的前五个元素被修改为 1, 1, 2, 2, 3。 不需要考虑数组中超出新长度后面的元素。\n",
    "\n",
    "示例 2：\n",
    "\n",
    "> 输入：nums = [0,0,1,1,1,1,2,3,3]\n",
    "> \n",
    "> 输出：7, nums = [0,0,1,1,2,3,3]\n",
    "> \n",
    "> 解释：函数应返回新长度 length = 7, 并且原数组的前七个元素被修改为 0, 0, 1, 1, 2, 3, 3。不需要考虑数组中超出新长度后面的元素。\n",
    " \n",
    "\n",
    "提示：\n",
    "\n",
    "- `1 <= nums.length <= 3 * 104`\n",
    "- `-104 <= nums[i] <= 104`\n",
    "- nums 已按升序排列"
   ],
   "id": "7f2d03e92a23b66c"
  },
  {
   "metadata": {},
   "cell_type": "markdown",
   "source": "## test",
   "id": "3904c988719a49df"
  },
  {
   "metadata": {
    "ExecuteTime": {
     "end_time": "2025-02-09T13:08:08.661860Z",
     "start_time": "2025-02-09T13:08:08.630486Z"
    }
   },
   "cell_type": "code",
   "source": [
    "nums = [1,1,1,2,2,3]\n",
    "print(nums.count(1))\n",
    "print(nums[-1])"
   ],
   "id": "ba23e1faaaf6e07c",
   "outputs": [
    {
     "name": "stdout",
     "output_type": "stream",
     "text": [
      "3\n",
      "3\n"
     ]
    }
   ],
   "execution_count": 2
  },
  {
   "metadata": {},
   "cell_type": "markdown",
   "source": "## 90 ms, 20.11 mb",
   "id": "6ec4ac96cabb0f3f"
  },
  {
   "cell_type": "code",
   "id": "initial_id",
   "metadata": {
    "collapsed": true,
    "ExecuteTime": {
     "end_time": "2025-02-09T13:18:03.036041Z",
     "start_time": "2025-02-09T13:18:03.018637Z"
    }
   },
   "source": [
    "from typing import List\n",
    "\n",
    "\n",
    "class Solution:\n",
    "    def removeDuplicates(self, nums: List[int]) -> int:\n",
    "        if not nums:\n",
    "            print(\"修改后的 nums: []\")  # 如果数组为空，打印空列表\n",
    "            return 0\n",
    "        \n",
    "        # 初始化慢指针\n",
    "        i = 1  # 从第二个元素开始，因为第一个元素肯定可以保留\n",
    "        count = 1  # 记录当前元素的出现次数\n",
    "        \n",
    "        # 快指针遍历数组\n",
    "        for j in range(1, len(nums)):\n",
    "            if nums[j] == nums[j - 1]:\n",
    "                count += 1  # 如果当前元素和前一个元素相同，增加计数\n",
    "            else:\n",
    "                count = 1  # 否则重置计数\n",
    "            \n",
    "            # 如果当前元素的计数不超过 2，将其保留\n",
    "            if count <= 2:\n",
    "                nums[i] = nums[j]\n",
    "                i += 1\n",
    "        \n",
    "        # 打印修改后的 nums\n",
    "        nums = nums[:i]\n",
    "        # print(\"修改后的 nums:\", nums)  # 只打印有效部分\n",
    "        # 返回新数组的长度\n",
    "        return i\n",
    "    \n",
    "    \n",
    "if __name__ == '__main__':\n",
    "    sol = Solution()\n",
    "    print(sol.removeDuplicates(nums))"
   ],
   "outputs": [
    {
     "name": "stdout",
     "output_type": "stream",
     "text": [
      "修改后的 nums: [1, 1, 2, 2, 3]\n",
      "5\n"
     ]
    }
   ],
   "execution_count": 4
  }
 ],
 "metadata": {
  "kernelspec": {
   "display_name": "Python 3",
   "language": "python",
   "name": "python3"
  },
  "language_info": {
   "codemirror_mode": {
    "name": "ipython",
    "version": 2
   },
   "file_extension": ".py",
   "mimetype": "text/x-python",
   "name": "python",
   "nbconvert_exporter": "python",
   "pygments_lexer": "ipython2",
   "version": "2.7.6"
  }
 },
 "nbformat": 4,
 "nbformat_minor": 5
}
