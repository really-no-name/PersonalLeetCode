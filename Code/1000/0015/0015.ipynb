{
 "cells": [
  {
   "metadata": {},
   "cell_type": "markdown",
   "source": [
    "# 三数之和\n",
    "\n",
    "https://leetcode.cn/problems/3sum"
   ],
   "id": "b2e01811cf3e25d5"
  },
  {
   "metadata": {},
   "cell_type": "markdown",
   "source": [
    "给你一个整数数组 nums ，判断是否存在三元组 [nums[i], nums[j], nums[k]] 满足 i != j、i != k 且 j != k ，同时还满足 nums[i] + nums[j] + nums[k] == 0 。请你返回所有和为 0 且不重复的三元组。\n",
    "\n",
    "注意：答案中不可以包含重复的三元组。\n",
    "\n",
    " \n",
    "\n",
    " \n",
    "\n",
    "示例 1：\n",
    "\n",
    "> 输入：nums = [-1,0,1,2,-1,-4]\n",
    "> \n",
    "> 输出：[[-1,-1,2],[-1,0,1]]\n",
    "> \n",
    "> 解释：\n",
    "> \n",
    "> nums[0] + nums[1] + nums[2] = (-1) + 0 + 1 = 0 。\n",
    "> \n",
    "> nums[1] + nums[2] + nums[4] = 0 + 1 + (-1) = 0 。\n",
    "> \n",
    "> nums[0] + nums[3] + nums[4] = (-1) + 2 + (-1) = 0 。\n",
    "> \n",
    "> 不同的三元组是 [-1,0,1] 和 [-1,-1,2] 。\n",
    "> \n",
    "> 注意，输出的顺序和三元组的顺序并不重要。\n",
    "\n",
    "示例 2：\n",
    "\n",
    "> 输入：nums = [0,1,1]\n",
    "> \n",
    "> 输出：[]\n",
    "> \n",
    "> 解释：唯一可能的三元组和不为 0 。\n",
    "\n",
    "示例 3：\n",
    "\n",
    "> 输入：nums = [0,0,0]\n",
    "> \n",
    "> 输出：[[0,0,0]]\n",
    "> \n",
    "> 解释：唯一可能的三元组和为 0 。\n",
    " \n",
    "\n",
    "提示：\n",
    "\n",
    "- 3 <= nums.length <= 3000\n",
    "- -105 <= nums[i] <= 105"
   ],
   "id": "d2a237bb468962a5"
  },
  {
   "metadata": {},
   "cell_type": "markdown",
   "source": [
    "## 525 ms, 20.33 MB\n",
    "\n",
    "时间复杂度 `O(N^2)`\n",
    "\n",
    "空间复杂度 `O(1)`"
   ],
   "id": "ffe119c8801ce5ee"
  },
  {
   "cell_type": "code",
   "id": "initial_id",
   "metadata": {
    "collapsed": true,
    "ExecuteTime": {
     "end_time": "2025-02-11T04:13:57.761172Z",
     "start_time": "2025-02-11T04:13:57.743891Z"
    }
   },
   "source": [
    "from typing import List\n",
    "\n",
    "\n",
    "class Solution:\n",
    "    def threeSum(self, nums: List[int]) -> List[List[int]]:\n",
    "        nums.sort()  # 排序\n",
    "        ans = []\n",
    "        # 输出的顺序和三元组的顺序并不重要\n",
    "        # 满足 i != j、i != k 且 j != k --> i < j < k\n",
    "        # 枚举i， nums[j] + nums[k] = - nums[i]\n",
    "        for i in range(len(nums)-2):\n",
    "            x = nums[i]\n",
    "            if i > 0 and x == nums[i-1]:  # 重复则跳过\n",
    "                continue\n",
    "            \n",
    "            j = i + 1\n",
    "            k = len(nums) - 1\n",
    "            while j < k:\n",
    "                sum = x + nums[j] + nums[k]\n",
    "                if sum > 0:\n",
    "                    k -= 1\n",
    "                elif sum < 0:\n",
    "                    j += 1\n",
    "                else:\n",
    "                    ans.append([x, nums[j], nums[k]])\n",
    "                    j += 1\n",
    "                    while j < k and nums[j] == nums[j-1]:  # 重复则跳过\n",
    "                        j += 1\n",
    "                    k -= 1\n",
    "                    while j < k and nums[k] == nums[k+1]:  # 重复则跳过\n",
    "                        k -= 1\n",
    "            \n",
    "        return ans\n",
    "    \n",
    "    \n",
    "if __name__ == '__main__':\n",
    "    solution = Solution()\n",
    "    print(solution.threeSum(nums = [-1,0,1,2,-1,-4]))"
   ],
   "outputs": [
    {
     "name": "stdout",
     "output_type": "stream",
     "text": [
      "[[-1, -1, 2], [-1, 0, 1]]\n"
     ]
    }
   ],
   "execution_count": 2
  },
  {
   "metadata": {},
   "cell_type": "markdown",
   "source": [
    "## 399 ms, 20.48 MB\n",
    "\n",
    "时间复杂度 `O(N^2)`\n",
    "\n",
    "空间复杂度 `O(N)`"
   ],
   "id": "21bc4fbec9cd36b6"
  },
  {
   "metadata": {},
   "cell_type": "code",
   "outputs": [],
   "execution_count": null,
   "source": [
    "from typing import List\n",
    "\n",
    "\n",
    "class Solution:\n",
    "    def threeSum(self, nums: List[int]) -> List[List[int]]:\n",
    "        nums.sort()  # 排序\n",
    "        ans = []\n",
    "        # 输出的顺序和三元组的顺序并不重要\n",
    "        # 满足 i != j、i != k 且 j != k --> i < j < k\n",
    "        # 枚举i， nums[j] + nums[k] = - nums[i]\n",
    "        for i in range(len(nums)-2):\n",
    "            x = nums[i]\n",
    "            if i > 0 and x == nums[i-1]:  # 重复则跳过\n",
    "                continue\n",
    "            # 优化    \n",
    "            if x + nums[i+1] + nums[i+2] > 0:\n",
    "                break\n",
    "            if x + nums[-2] + nums[-1] < 0:\n",
    "                continue\n",
    "            \n",
    "            j = i + 1\n",
    "            k = len(nums) - 1\n",
    "            while j < k:\n",
    "                sum = x + nums[j] + nums[k]\n",
    "                if sum > 0:\n",
    "                    k -= 1\n",
    "                elif sum < 0:\n",
    "                    j += 1\n",
    "                else:\n",
    "                    ans.append([x, nums[j], nums[k]])\n",
    "                    j += 1\n",
    "                    while j < k and nums[j] == nums[j-1]:  # 重复则跳过\n",
    "                        j += 1\n",
    "                    k -= 1\n",
    "                    while j < k and nums[k] == nums[k+1]:  # 重复则跳过\n",
    "                        k -= 1\n",
    "            \n",
    "        return ans\n",
    "    \n",
    "    \n",
    "if __name__ == '__main__':\n",
    "    solution = Solution()\n",
    "    print(solution.threeSum(nums = [-1,0,1,2,-1,-4]))"
   ],
   "id": "407c509e7cf2c14c"
  }
 ],
 "metadata": {
  "kernelspec": {
   "display_name": "Python 3",
   "language": "python",
   "name": "python3"
  },
  "language_info": {
   "codemirror_mode": {
    "name": "ipython",
    "version": 2
   },
   "file_extension": ".py",
   "mimetype": "text/x-python",
   "name": "python",
   "nbconvert_exporter": "python",
   "pygments_lexer": "ipython2",
   "version": "2.7.6"
  }
 },
 "nbformat": 4,
 "nbformat_minor": 5
}
