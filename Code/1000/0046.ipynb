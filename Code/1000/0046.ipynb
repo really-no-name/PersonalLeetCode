{
 "cells": [
  {
   "metadata": {},
   "cell_type": "markdown",
   "source": [
    "# 全排列\n",
    "\n",
    "https://leetcode.cn/problems/permutations"
   ],
   "id": "eb97e658b648160"
  },
  {
   "metadata": {},
   "cell_type": "markdown",
   "source": [
    "给定一个不含重复数字的数组 nums ，返回其 所有可能的全排列 。你可以 按任意顺序 返回答案。\n",
    "\n",
    " \n",
    "\n",
    "示例 1：\n",
    "\n",
    "> 输入：nums = [1,2,3]\n",
    "> \n",
    "> 输出：[[1,2,3],[1,3,2],[2,1,3],[2,3,1],[3,1,2],[3,2,1]]\n",
    "\n",
    "示例 2：\n",
    "\n",
    "> 输入：nums = [0,1]\n",
    "> \n",
    "> 输出：[[0,1],[1,0]]\n",
    "\n",
    "示例 3：\n",
    "\n",
    "> 输入：nums = [1]\n",
    "> \n",
    "> 输出：[[1]]\n",
    " \n",
    "\n",
    "提示：\n",
    "\n",
    "- 1 <= nums.length <= 6\n",
    "- -10 <= nums[i] <= 10\n",
    "- nums 中的所有整数 互不相同"
   ],
   "id": "ffb5e62c8d4e4fdb"
  },
  {
   "metadata": {},
   "cell_type": "markdown",
   "source": "## 3 ms, 17.97 mb",
   "id": "93aa08877116cb3f"
  },
  {
   "cell_type": "code",
   "id": "initial_id",
   "metadata": {
    "collapsed": true,
    "ExecuteTime": {
     "end_time": "2025-02-06T07:59:55.124502Z",
     "start_time": "2025-02-06T07:59:55.108857Z"
    }
   },
   "source": [
    "from typing import List\n",
    "\n",
    "\n",
    "class Solution:\n",
    "    def permute(self, nums: List[int]) -> List[List[int]]:\n",
    "        res = []  # 初始化结果列表，用于存储所有可能的排列\n",
    "        n = len(nums)  # 获取输入数组的长度\n",
    "        used = [False] * n  # 初始化一个布尔数组，用于标记哪些数字已经被使用过\n",
    "        \n",
    "        # 定义回溯函数，path 是当前正在构建的排列\n",
    "        def backtrack(path):\n",
    "            if len(path) == n:  # 如果当前排列的长度等于输入数组的长度，说明已经完成一个排列\n",
    "                res.append(path.copy())  # 将当前排列的拷贝加入结果列表（使用拷贝避免后续修改影响结果）\n",
    "                # 返回，结束当前递归分支\n",
    "                return\n",
    "            \n",
    "            for i in range(n):  # 遍历数组中的每一个数字\n",
    "                # 如果当前数字没有被使用过\n",
    "                if not used[i]:\n",
    "                    # 标记当前数字为已使用\n",
    "                    used[i] = True\n",
    "                    # 将当前数字加入排列路径\n",
    "                    path.append(nums[i])\n",
    "                    # 递归调用，继续构建排列\n",
    "                    backtrack(path)\n",
    "                    # 回溯：撤销当前选择，将当前数字从排列路径中移除\n",
    "                    path.pop()\n",
    "                    # 回溯：重置当前数字的使用状态，以便尝试其他选择\n",
    "                    used[i] = False\n",
    "        \n",
    "        # 从空路径开始调用回溯函数\n",
    "        backtrack([])\n",
    "        # 返回所有可能的排列结果\n",
    "        return res\n",
    "    \n",
    "\n",
    "if __name__ == \"__main__\":\n",
    "    sol = Solution()\n",
    "    print(sol.permute([1,2,3]))\n",
    "    print(sol.permute([1,1,2]))"
   ],
   "outputs": [
    {
     "name": "stdout",
     "output_type": "stream",
     "text": [
      "[[1, 2, 3], [1, 3, 2], [2, 1, 3], [2, 3, 1], [3, 1, 2], [3, 2, 1]]\n",
      "[[1, 1, 2], [1, 2, 1], [1, 1, 2], [1, 2, 1], [2, 1, 1], [2, 1, 1]]\n"
     ]
    }
   ],
   "execution_count": 3
  }
 ],
 "metadata": {
  "kernelspec": {
   "display_name": "Python 3",
   "language": "python",
   "name": "python3"
  },
  "language_info": {
   "codemirror_mode": {
    "name": "ipython",
    "version": 2
   },
   "file_extension": ".py",
   "mimetype": "text/x-python",
   "name": "python",
   "nbconvert_exporter": "python",
   "pygments_lexer": "ipython2",
   "version": "2.7.6"
  }
 },
 "nbformat": 4,
 "nbformat_minor": 5
}
