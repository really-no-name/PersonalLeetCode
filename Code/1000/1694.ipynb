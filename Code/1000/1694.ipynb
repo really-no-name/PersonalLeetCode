{
 "cells": [
  {
   "metadata": {},
   "cell_type": "markdown",
   "source": [
    "# 重新格式化电话号码\n",
    "\n",
    "https://leetcode.cn/problems/reformat-phone-number"
   ],
   "id": "2423e128f7df703"
  },
  {
   "metadata": {},
   "cell_type": "markdown",
   "source": [
    "给你一个字符串形式的电话号码 number 。number 由数字、空格 ' '、和破折号 '-' 组成。\n",
    "\n",
    "请你按下述方式重新格式化电话号码。\n",
    "\n",
    "- 首先，删除 所有的空格和破折号。\n",
    "- 其次，将数组从左到右 每 3 个一组 分块，直到 剩下 4 个或更少数字。剩下的数字将按下述规定再分块：\n",
    "    - 2 个数字：单个含 2 个数字的块。\n",
    "    - 3 个数字：单个含 3 个数字的块。\n",
    "    - 4 个数字：两个分别含 2 个数字的块。\n",
    "最后用破折号将这些块连接起来。注意，重新格式化过程中 不应该 生成仅含 1 个数字的块，并且 最多 生成两个含 2 个数字的块。\n",
    "\n",
    "返回格式化后的电话号码。\n",
    "\n",
    " \n",
    "\n",
    "示例 1：\n",
    "```\n",
    "输入：number = \"1-23-45 6\"\n",
    "输出：\"123-456\"\n",
    "解释：数字是 \"123456\"\n",
    "步骤 1：共有超过 4 个数字，所以先取 3 个数字分为一组。第 1 个块是 \"123\" 。\n",
    "步骤 2：剩下 3 个数字，将它们放入单个含 3 个数字的块。第 2 个块是 \"456\" 。\n",
    "连接这些块后得到 \"123-456\" 。\n",
    "```\n",
    "示例 2：\n",
    "```\n",
    "输入：number = \"123 4-567\"\n",
    "输出：\"123-45-67\"\n",
    "解释：数字是 \"1234567\".\n",
    "步骤 1：共有超过 4 个数字，所以先取 3 个数字分为一组。第 1 个块是 \"123\" 。\n",
    "步骤 2：剩下 4 个数字，所以将它们分成两个含 2 个数字的块。这 2 块分别是 \"45\" 和 \"67\" 。\n",
    "连接这些块后得到 \"123-45-67\" 。\n",
    "```\n",
    "示例 3：\n",
    "```\n",
    "输入：number = \"123 4-5678\"\n",
    "输出：\"123-456-78\"\n",
    "解释：数字是 \"12345678\" 。\n",
    "步骤 1：第 1 个块 \"123\" 。\n",
    "步骤 2：第 2 个块 \"456\" 。\n",
    "步骤 3：剩下 2 个数字，将它们放入单个含 2 个数字的块。第 3 个块是 \"78\" 。\n",
    "连接这些块后得到 \"123-456-78\" 。\n",
    "```\n",
    "示例 4：\n",
    "```\n",
    "输入：number = \"12\"\n",
    "输出：\"12\"\n",
    "```\n",
    "示例 5：\n",
    "```\n",
    "输入：number = \"--17-5 229 35-39475 \"\n",
    "输出：\"175-229-353-94-75\"\n",
    "```\n",
    "\n",
    "提示：\n",
    "\n",
    "- 2 <= number.length <= 100\n",
    "- number 由数字和字符 '-' 及 ' ' 组成。\n",
    "- number 中至少含 2 个数字。\n"
   ],
   "id": "58ba72782e74d9ec"
  },
  {
   "metadata": {},
   "cell_type": "markdown",
   "source": "## test",
   "id": "eb72d56b54ac98d3"
  },
  {
   "metadata": {
    "ExecuteTime": {
     "end_time": "2025-02-05T13:35:48.886203Z",
     "start_time": "2025-02-05T13:35:48.868830Z"
    }
   },
   "cell_type": "code",
   "source": [
    "number = \"1100-05422-28\"\n",
    "# number = \"123 4-5678\"\n",
    "number = number.replace(\"-\", '').replace(\" \", '')\n",
    "print(number)\n",
    "num_list = list(number)\n",
    "print(num_list)\n",
    "# num_list.insert(3, '-')\n",
    "# number = ''.join(num_list)\n",
    "# print(number)\n",
    "print(len(number))\n",
    "for i in range(3, len(number), 4):\n",
    "    print(i)\n",
    "    # num_list = list(number)\n",
    "    num_list.insert(i, '-')\n",
    "    # i = i + 3\n",
    "    print(num_list)\n",
    "# num_list.insert(-2, '-')\n",
    "number = ''.join(num_list)\n",
    "print(number)"
   ],
   "id": "cc8193d46ccb8671",
   "outputs": [
    {
     "name": "stdout",
     "output_type": "stream",
     "text": [
      "11000542228\n",
      "['1', '1', '0', '0', '0', '5', '4', '2', '2', '2', '8']\n",
      "11\n",
      "3\n",
      "['1', '1', '0', '-', '0', '0', '5', '4', '2', '2', '2', '8']\n",
      "7\n",
      "['1', '1', '0', '-', '0', '0', '5', '-', '4', '2', '2', '2', '8']\n",
      "110-005-42228\n"
     ]
    }
   ],
   "execution_count": 42
  },
  {
   "metadata": {
    "ExecuteTime": {
     "end_time": "2025-02-05T13:34:04.808797Z",
     "start_time": "2025-02-05T13:34:04.803404Z"
    }
   },
   "cell_type": "code",
   "source": [
    "print(len(\"12345678\") % 3)\n",
    "print(len(\"11000542228\") % 3)"
   ],
   "id": "edf0695e17fa3eaf",
   "outputs": [
    {
     "name": "stdout",
     "output_type": "stream",
     "text": [
      "2\n",
      "2\n"
     ]
    }
   ],
   "execution_count": 41
  },
  {
   "metadata": {},
   "cell_type": "markdown",
   "source": [
    "## 2 ms, 17.64 mb\n",
    "\n",
    "方法思路\n",
    "1. 预处理字符串：移除所有空格和破折号，只保留数字。\n",
    "\n",
    "2. 分块处理：\n",
    "\n",
    "    - 尽可能多地以3个数字为一组进行分块，直到剩余的数字不超过4个。\n",
    "\n",
    "    - 处理剩余的数字：\n",
    "\n",
    "        - 如果剩余4个数字，分成两个2个数字的块。\n",
    "\n",
    "        - 如果剩余2或3个数字，直接作为一个块。\n",
    "\n",
    "3. 连接所有块：用破折号将分好的块连接起来。\n",
    "\n"
   ],
   "id": "5bcad9397626e720"
  },
  {
   "cell_type": "code",
   "id": "initial_id",
   "metadata": {
    "collapsed": true,
    "ExecuteTime": {
     "end_time": "2025-02-05T13:48:33.966202Z",
     "start_time": "2025-02-05T13:48:33.947538Z"
    }
   },
   "source": [
    "class Solution:\n",
    "    def reformatNumber(self, number: str) -> str:\n",
    "        # 预处理字符串，移除非数字字符\n",
    "        s = number.replace(\"-\", \"\").replace(\" \", \"\")\n",
    "        res = []\n",
    "        i = 0\n",
    "        n = len(s)\n",
    "        while i < n:\n",
    "            # 当剩余字符数大于4时，继续以3个为一组分块\n",
    "            if n - i > 4:\n",
    "                res.append(s[i:i+3])\n",
    "                i += 3\n",
    "            else:\n",
    "                # 处理剩余字符\n",
    "                remaining = n - i\n",
    "                if remaining == 4:\n",
    "                    # 分成两个两个的块\n",
    "                    res.append(s[i:i+2])\n",
    "                    res.append(s[i+2:i+4])\n",
    "                else:\n",
    "                    # 直接添加剩余字符\n",
    "                    res.append(s[i:])\n",
    "                break  # 处理完剩余字符后退出循环\n",
    "        return '-'.join(res)\n",
    "        \n",
    "\n",
    "if __name__ == '__main__':\n",
    "    s = Solution()\n",
    "    # print(s.reformatNumber(number = \"1-23-45 6\"))\n",
    "    # print(s.reformatNumber(number = \"123 4-567\"))\n",
    "    # print(s.reformatNumber(number = \"--17-5 229 35-39475 \"))\n",
    "    # print(s.reformatNumber(number=\"9964-\"))\n",
    "    # print(s.reformatNumber(\"1100-05422-28\"))\n",
    "    print(s.reformatNumber(\"789-0469-2731  5107289\"))"
   ],
   "outputs": [
    {
     "name": "stdout",
     "output_type": "stream",
     "text": [
      "789-046-927-315-107-289\n"
     ]
    }
   ],
   "execution_count": 52
  }
 ],
 "metadata": {
  "kernelspec": {
   "display_name": "Python 3",
   "language": "python",
   "name": "python3"
  },
  "language_info": {
   "codemirror_mode": {
    "name": "ipython",
    "version": 2
   },
   "file_extension": ".py",
   "mimetype": "text/x-python",
   "name": "python",
   "nbconvert_exporter": "python",
   "pygments_lexer": "ipython2",
   "version": "2.7.6"
  }
 },
 "nbformat": 4,
 "nbformat_minor": 5
}
