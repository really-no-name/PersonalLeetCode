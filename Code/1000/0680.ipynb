{
 "cells": [
  {
   "metadata": {},
   "cell_type": "markdown",
   "source": [
    "# 验证回文串 II\n",
    "\n",
    "https://leetcode.cn/problems/valid-palindrome-ii?envType=daily-question&envId=2025-02-03"
   ],
   "id": "7df6424fdfa55009"
  },
  {
   "metadata": {},
   "cell_type": "markdown",
   "source": [
    "给你一个字符串 `s`，最多 可以从中删除一个字符。\n",
    "\n",
    "请你判断 `s` 是否能成为回文字符串：如果能，返回 `true` ；否则，返回 `false` 。\n",
    "\n",
    " \n",
    "\n",
    "示例 1：\n",
    "\n",
    "输入：`s = \"aba\"`\n",
    "\n",
    "输出：`true`\n",
    "\n",
    "示例 2：\n",
    "\n",
    "输入：`s = \"abca\"`\n",
    "\n",
    "输出：`true`\n",
    "\n",
    "解释：你可以删除字符 'c' 。\n",
    "\n",
    "示例 3：\n",
    "\n",
    "输入：`s = \"abc\"`\n",
    "\n",
    "输出：`false`\n",
    " \n",
    "\n",
    "提示：\n",
    "\n",
    "- `1 <= s.length <= 105`\n",
    "- s 由小写英文字母组成"
   ],
   "id": "efd6f72f203fd1af"
  },
  {
   "metadata": {},
   "cell_type": "markdown",
   "source": "## 35 ms, 17.92 mb",
   "id": "332c9508d7376467"
  },
  {
   "cell_type": "code",
   "id": "initial_id",
   "metadata": {
    "collapsed": true,
    "ExecuteTime": {
     "end_time": "2025-02-03T12:09:19.500466Z",
     "start_time": "2025-02-03T12:09:19.492750Z"
    }
   },
   "source": [
    "class Solution:\n",
    "    def isPalindrome(self, s: str) -> bool:\n",
    "        \"\"\"\n",
    "        判断字符串 s 是否是回文串\n",
    "        \"\"\"\n",
    "        return s == s[::-1]  # 将字符串反转，与原字符串比较\n",
    "    \n",
    "    def validPalindrome(self, s: str) -> bool:\n",
    "        \"\"\"\n",
    "        双指针法\n",
    "        \"\"\"\n",
    "        # 初始化两个指针\n",
    "        i = 0  # 指向字符串开头\n",
    "        j = len(s) - 1  # 指向字符串末尾\n",
    "        while i < j:\n",
    "            if s[i] != s[j]:\n",
    "                # 如果 s[i] 和 s[j] 不相等，尝试删除 s[i] 或 s[j] ，然后检查剩下的\n",
    "                return self.isPalindrome(s[i:j]) or self.isPalindrome(s[i+1:j+1])\n",
    "            i += 1\n",
    "            j -= 1\n",
    "        return True\n",
    "\n",
    "\n",
    "if __name__ == '__main__':\n",
    "    sol = Solution()\n",
    "    print(sol.validPalindrome(\"abca\"))"
   ],
   "outputs": [
    {
     "name": "stdout",
     "output_type": "stream",
     "text": [
      "True\n"
     ]
    }
   ],
   "execution_count": 2
  }
 ],
 "metadata": {
  "kernelspec": {
   "display_name": "Python 3",
   "language": "python",
   "name": "python3"
  },
  "language_info": {
   "codemirror_mode": {
    "name": "ipython",
    "version": 2
   },
   "file_extension": ".py",
   "mimetype": "text/x-python",
   "name": "python",
   "nbconvert_exporter": "python",
   "pygments_lexer": "ipython2",
   "version": "2.7.6"
  }
 },
 "nbformat": 4,
 "nbformat_minor": 5
}
