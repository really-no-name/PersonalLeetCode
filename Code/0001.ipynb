{
 "cells": [
  {
   "metadata": {},
   "cell_type": "markdown",
   "source": [
    "# 两数之和\n",
    "\n",
    "给定一个整数数组 `nums` 和一个整数目标值 `target`，请你在该数组中找出和为目标值 `target` 的那两个整数，并返回它们的数组下标。\n",
    "\n",
    "你可以假设每种输入只会对应一个答案，并且你不能使用两次相同的元素。\n",
    "\n",
    "你可以按任意顺序返回答案。\n",
    "\n",
    "示例\n",
    "1：\n",
    "\n",
    "输入：`nums = [2, 7, 11, 15], target = 9`\n",
    " 输出：`[0, 1]`\n",
    " 解释：因为\n",
    " `nums[0] + nums[1] == 9 ，返回[0, 1] `。\n",
    " \n",
    "示例\n",
    " 2：\n",
    "\n",
    " 输入：`nums = [3, 2, 4], target = 6`\n",
    "输出：`[1, 2]`\n",
    " \n",
    "示例\n",
    " 3：\n",
    "\n",
    " 输入：`nums = [3, 3], target = 6`\n",
    " 输出：`[0, 1]`\n",
    "\n",
    " 提示：\n",
    "\n",
    "`2 <= nums.length <= 104`\n",
    " \n",
    "`-109 <= nums[i] <= 109`\n",
    " \n",
    "`-109 <= target <= 109`\n",
    " 只会存在一个有效答案\n",
    "\n",
    " 进阶：你可以想出一个时间复杂度小于 O(n2) 的算法吗？"
   ],
   "id": "988be14fe241bf99"
  },
  {
   "cell_type": "code",
   "execution_count": null,
   "id": "initial_id",
   "metadata": {
    "collapsed": true
   },
   "outputs": [],
   "source": [
    "class Solution:\n",
    "    def twoSum(self, nums: List[int], target: int) -> List[int]:\n",
    "        for i in range(len(nums)):\n",
    "            res = target - nums[i]  # 计算需要找到的下一个目标数字\n",
    "            if res in nums[i+1:]:\n",
    "                # 获得目标元素在nums[i+1:]这个子数组中的索引后，还需加上i+1才是该元素在nums中的索引\n",
    "                return [i, nums[i+1:].index(res)+i+1]  # 若存在，返回答案。这里由于是两数之和，可采用.index()方法"
   ]
  },
  {
   "metadata": {},
   "cell_type": "markdown",
   "source": [
    "`nums[i+1:].index(res)+i+1`这部分代码的作用是找到第二个加数的索引。\n",
    "\n",
    "首先，`nums[i+1:]`是一个切片操作，它会获取`nums`列表中从`i+1`位置开始到最后的所有元素。这样做的目的是在`nums[i]`之后的元素中寻找第二个加数。\n",
    "\n",
    "然后，`.index(res)`会在切片后的列表中查找`res`（即第二个加数）的索引。请注意，这个索引是相对于切片后的列表的，也就是说，它是从`0`开始计数的。\n",
    "\n",
    "最后，由于我们希望得到的是第二个加数在原始列表`nums`中的索引，而不是在切片后的列表中的索引，所以需要加上`i+1`来得到正确的结果。这是因为切片操作会创建一个新的列表，新列表中元素的索引会从`0`开始重新计数。"
   ],
   "id": "f2425c1e760f2e28"
  },
  {
   "metadata": {},
   "cell_type": "code",
   "outputs": [],
   "execution_count": null,
   "source": [
    "class Solution:\n",
    "    def twoSum(self, nums: List[int], target: int) -> List[int]:\n",
    "        for i in range(len(nums)):\n",
    "            for j in range(i + 1, len(nums)):\n",
    "                if nums[i]+nums[j] == target:\n",
    "                    return [i, j]"
   ],
   "id": "b7bfe1520989ee86"
  }
 ],
 "metadata": {
  "kernelspec": {
   "display_name": "Python 3",
   "language": "python",
   "name": "python3"
  },
  "language_info": {
   "codemirror_mode": {
    "name": "ipython",
    "version": 2
   },
   "file_extension": ".py",
   "mimetype": "text/x-python",
   "name": "python",
   "nbconvert_exporter": "python",
   "pygments_lexer": "ipython2",
   "version": "2.7.6"
  }
 },
 "nbformat": 4,
 "nbformat_minor": 5
}
