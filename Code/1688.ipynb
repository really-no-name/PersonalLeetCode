{
 "cells": [
  {
   "metadata": {},
   "cell_type": "markdown",
   "source": [
    "# 比赛中的配对次数\n",
    "\n",
    "https://leetcode.cn/problems/count-of-matches-in-tournament"
   ],
   "id": "59a5b4caf89fd099"
  },
  {
   "metadata": {},
   "cell_type": "markdown",
   "source": [
    "给你一个整数 n ，表示比赛中的队伍数。比赛遵循一种独特的赛制：\n",
    "\n",
    "如果当前队伍数是 偶数 ，那么每支队伍都会与另一支队伍配对。总共进行 n / 2 场比赛，且产生 n / 2 支队伍进入下一轮。\n",
    "如果当前队伍数为 奇数 ，那么将会随机轮空并晋级一支队伍，其余的队伍配对。总共进行 (n - 1) / 2 场比赛，且产生 (n - 1) / 2 + 1 支队伍进入下一轮。\n",
    "返回在比赛中进行的配对次数，直到决出获胜队伍为止。\n",
    "\n",
    " \n",
    "\n",
    "示例 1：\n",
    "```\n",
    "输入：n = 7\n",
    "输出：6\n",
    "解释：比赛详情：\n",
    "- 第 1 轮：队伍数 = 7 ，配对次数 = 3 ，4 支队伍晋级。\n",
    "- 第 2 轮：队伍数 = 4 ，配对次数 = 2 ，2 支队伍晋级。\n",
    "- 第 3 轮：队伍数 = 2 ，配对次数 = 1 ，决出 1 支获胜队伍。\n",
    "总配对次数 = 3 + 2 + 1 = 6\n",
    "```\n",
    "示例 2：\n",
    "```\n",
    "输入：n = 14\n",
    "输出：13\n",
    "解释：比赛详情：\n",
    "- 第 1 轮：队伍数 = 14 ，配对次数 = 7 ，7 支队伍晋级。\n",
    "- 第 2 轮：队伍数 = 7 ，配对次数 = 3 ，4 支队伍晋级。 \n",
    "- 第 3 轮：队伍数 = 4 ，配对次数 = 2 ，2 支队伍晋级。\n",
    "- 第 4 轮：队伍数 = 2 ，配对次数 = 1 ，决出 1 支获胜队伍。\n",
    "总配对次数 = 7 + 3 + 2 + 1 = 13\n",
    "``` \n",
    "\n",
    "提示：\n",
    "\n",
    "1 <= n <= 200"
   ],
   "id": "171b52d3f912f60d"
  },
  {
   "metadata": {},
   "cell_type": "markdown",
   "source": "## 0 ms, 17.40 mb",
   "id": "8aff05e8e219a9a1"
  },
  {
   "cell_type": "code",
   "execution_count": null,
   "id": "initial_id",
   "metadata": {
    "collapsed": true
   },
   "outputs": [],
   "source": [
    "class Solution:\n",
    "    def numberOfMatches(self, n: int) -> int:\n",
    "        return n - 1"
   ]
  }
 ],
 "metadata": {
  "kernelspec": {
   "display_name": "Python 3",
   "language": "python",
   "name": "python3"
  },
  "language_info": {
   "codemirror_mode": {
    "name": "ipython",
    "version": 2
   },
   "file_extension": ".py",
   "mimetype": "text/x-python",
   "name": "python",
   "nbconvert_exporter": "python",
   "pygments_lexer": "ipython2",
   "version": "2.7.6"
  }
 },
 "nbformat": 4,
 "nbformat_minor": 5
}
