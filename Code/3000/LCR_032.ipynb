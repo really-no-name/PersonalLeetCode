{
 "cells": [
  {
   "metadata": {},
   "cell_type": "markdown",
   "source": [
    "# 有效的字母异位词\n",
    "\n",
    "https://leetcode.cn/problems/dKk3P7"
   ],
   "id": "dd64b9fc1e39a3fd"
  },
  {
   "metadata": {},
   "cell_type": "markdown",
   "source": [
    "给定两个字符串 s 和 t ，编写一个函数来判断它们是不是一组变位词（字母异位词）。\n",
    "\n",
    "注意：若 s 和 t 中每个字符出现的次数都相同且字符顺序不完全相同，则称 s 和 t 互为变位词（字母异位词）。\n",
    "\n",
    " \n",
    "\n",
    "示例 1：\n",
    "\n",
    "输入：s = \"anagram\", t = \"nagaram\"\n",
    "输出：true\n",
    "\n",
    "示例 2：\n",
    "\n",
    "输入：s = \"rat\", t = \"car\"\n",
    "输出：false\n",
    "\n",
    "示例 3：\n",
    "\n",
    "输入：s = \"a\", t = \"a\"\n",
    "输出：false\n",
    " \n",
    "\n",
    "提示：\n",
    "\n",
    "1 <= s.length, t.length <= 5 * 104\n",
    "s 和 t 仅包含小写字母\n",
    " \n",
    "\n",
    "进阶: 如果输入字符串包含 unicode 字符怎么办？你能否调整你的解法来应对这种情况？\n",
    "\n",
    " \n",
    "\n",
    "注意：本题与主站 [242](0242.ipynb) 题相似（字母异位词定义不同）：https://leetcode-cn.com/problems/valid-anagram/ "
   ],
   "id": "4c0ea789d697c1a1"
  },
  {
   "metadata": {},
   "cell_type": "markdown",
   "source": "## 121ms, 17.92 mb",
   "id": "2401b2d5432ce33f"
  },
  {
   "cell_type": "code",
   "id": "initial_id",
   "metadata": {
    "collapsed": true,
    "ExecuteTime": {
     "end_time": "2025-02-04T09:26:01.062921Z",
     "start_time": "2025-02-04T09:26:01.046535Z"
    }
   },
   "source": [
    "class Solution:\n",
    "    def isAnagram(self, s: str, t: str) -> bool:\n",
    "        if s == t:\n",
    "            return False\n",
    "        for i in range(len(t)):\n",
    "            if t[i] in s:\n",
    "                s = s.replace(t[i], \"\", 1)\n",
    "            else:\n",
    "                return False\n",
    "        if s == \"\":\n",
    "            return True\n",
    "        else:\n",
    "            return False\n",
    "\n",
    "if __name__ == \"__main__\":\n",
    "    sol = Solution()\n",
    "    print(sol.isAnagram(s = \"anagram\", t = \"nagaram\"))\n",
    "    print(sol.isAnagram(s = \"a\", t = \"a\"))\n",
    "    print(sol.isAnagram(s = \"ab\", t = \"a\"))"
   ],
   "outputs": [
    {
     "name": "stdout",
     "output_type": "stream",
     "text": [
      "True\n",
      "False\n",
      "False\n"
     ]
    }
   ],
   "execution_count": 6
  }
 ],
 "metadata": {
  "kernelspec": {
   "display_name": "Python 3",
   "language": "python",
   "name": "python3"
  },
  "language_info": {
   "codemirror_mode": {
    "name": "ipython",
    "version": 2
   },
   "file_extension": ".py",
   "mimetype": "text/x-python",
   "name": "python",
   "nbconvert_exporter": "python",
   "pygments_lexer": "ipython2",
   "version": "2.7.6"
  }
 },
 "nbformat": 4,
 "nbformat_minor": 5
}
