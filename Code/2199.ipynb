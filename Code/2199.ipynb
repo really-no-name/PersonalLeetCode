{
 "cells": [
  {
   "metadata": {},
   "cell_type": "markdown",
   "source": "# 将标题首字母大写",
   "id": "e74298459450d84"
  },
  {
   "metadata": {},
   "cell_type": "markdown",
   "source": [
    "给你一个字符串 title ，它由单个空格连接一个或多个单词组成，每个单词都只包含英文字母。请你按以下规则将每个单词的首字母 大写 ：\n",
    "\n",
    "如果单词的长度为 1 或者 2 ，所有字母变成小写。\n",
    "否则，将单词首字母大写，剩余字母变成小写。\n",
    "请你返回 大写后 的 title 。\n",
    "\n",
    " \n",
    "\n",
    "示例 1：\n",
    "\n",
    "> 输入：title = \"capiTalIze tHe titLe\"\n",
    "> \n",
    "> 输出：\"Capitalize The Title\"\n",
    "> \n",
    "> 解释：\n",
    "> \n",
    "> 由于所有单词的长度都至少为 3 ，将每个单词首字母大写，剩余字母变为小写。\n",
    "\n",
    "示例 2：\n",
    "\n",
    "> 输入：title = \"First leTTeR of EACH Word\"\n",
    "> \n",
    "> 输出：\"First Letter of Each Word\"\n",
    "> \n",
    "> 解释：\n",
    "> \n",
    "> 单词 \"of\" 长度为 2 ，所以它保持完全小写。\n",
    "> \n",
    "> 其他单词长度都至少为 3 ，所以其他单词首字母大写，剩余字母小写。\n",
    "\n",
    "示例 3：\n",
    "\n",
    "> 输入：title = \"i lOve leetcode\"\n",
    "> \n",
    "> 输出：\"i Love Leetcode\"\n",
    "> \n",
    "> 解释：\n",
    "> \n",
    "> 单词 \"i\" 长度为 1 ，所以它保留小写。\n",
    "> \n",
    "> 其他单词长度都至少为 3 ，所以其他单词首字母大写，剩余字母小写。\n",
    "\n",
    " \n",
    "\n",
    "提示：\n",
    "\n",
    "- 1 <= title.length <= 100\n",
    "- title 由单个空格隔开的单词组成，且不含有任何前导或后缀空格。\n",
    "- 每个单词由大写和小写英文字母组成，且都是 非空 的。"
   ],
   "id": "bbc5274668c9d007"
  },
  {
   "metadata": {},
   "cell_type": "markdown",
   "source": "## 0 ms, 17.63 mb",
   "id": "6851c188d87cf1c3"
  },
  {
   "cell_type": "code",
   "id": "initial_id",
   "metadata": {
    "collapsed": true,
    "ExecuteTime": {
     "end_time": "2025-02-10T08:14:37.011401Z",
     "start_time": "2025-02-10T08:14:36.996353Z"
    }
   },
   "source": [
    "class Solution:\n",
    "    def capitalizeTitle(self, title: str) -> str:\n",
    "        title_split = title.split(' ')\n",
    "        for i in range(len(title_split)):\n",
    "            if len(title_split[i]) > 2:\n",
    "                title_split[i] = title_split[i].title()\n",
    "            else:\n",
    "                title_split[i] = title_split[i].lower()\n",
    "                \n",
    "        title = ' '.join(title_split)\n",
    "        return title\n",
    "\n",
    "\n",
    "\n",
    "if __name__ == '__main__':\n",
    "    # title = \"capiTalIze tHe titLe\"\n",
    "    title = \"First leTTeR of EACH Word\"\n",
    "    sol = Solution()\n",
    "    print(sol.capitalizeTitle(title))\n",
    "    "
   ],
   "outputs": [
    {
     "name": "stdout",
     "output_type": "stream",
     "text": [
      "First Letter of Each Word\n"
     ]
    }
   ],
   "execution_count": 6
  }
 ],
 "metadata": {
  "kernelspec": {
   "display_name": "Python 3",
   "language": "python",
   "name": "python3"
  },
  "language_info": {
   "codemirror_mode": {
    "name": "ipython",
    "version": 2
   },
   "file_extension": ".py",
   "mimetype": "text/x-python",
   "name": "python",
   "nbconvert_exporter": "python",
   "pygments_lexer": "ipython2",
   "version": "2.7.6"
  }
 },
 "nbformat": 4,
 "nbformat_minor": 5
}
