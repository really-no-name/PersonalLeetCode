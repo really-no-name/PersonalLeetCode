{
 "cells": [
  {
   "metadata": {},
   "cell_type": "markdown",
   "source": [
    "## 搜索旋转排序数组 II\n",
    "\n",
    "https://leetcode.cn/problems/search-in-rotated-sorted-array-ii?envType=daily-question&envId=2025-02-01"
   ],
   "id": "d9984aa447ef9e75"
  },
  {
   "metadata": {},
   "cell_type": "markdown",
   "source": [
    "已知存在一个按非降序排列的整数数组 `nums` ，数组中的值不必互不相同。\n",
    "\n",
    "在传递给函数之前，`nums` 在预先未知的某个下标 `k`（`0 <= k < nums.length`）上进行了 旋转 ，使数组变为 `[nums[k], nums[k+1], ..., nums[n-1], nums[0], nums[1], ..., nums[k-1]]`（下标 从 `0` 开始 计数）。例如， `[0,1,2,4,4,4,5,6,6,7]` 在下标 `5` 处经旋转后可能变为 `[4,5,6,6,7,0,1,2,4,4]` 。\n",
    "\n",
    "给你 旋转后 的数组 `nums` 和一个整数 `target` ，请你编写一个函数来判断给定的目标值是否存在于数组中。如果 `nums` 中存在这个目标值 `target` ，则返回 `true` ，否则返回 `false` 。\n",
    "\n",
    "你必须尽可能减少整个操作步骤。\n",
    "\n",
    " \n",
    "\n",
    "示例 1：\n",
    "\n",
    "输入：`nums = [2,5,6,0,0,1,2]`, `target = 0`\n",
    "\n",
    "输出：`true`\n",
    "\n",
    "示例 2：\n",
    "\n",
    "输入：`nums = [2,5,6,0,0,1,2]`, `target = 3`\n",
    "\n",
    "输出：`false`\n",
    " \n",
    "\n",
    "提示：\n",
    "\n",
    "- `1 <= nums.length <= 5000`\n",
    "- `-104 <= nums[i] <= 104`\n",
    "- 题目数据保证 nums 在预先未知的某个下标上进行了旋转\n",
    "- `-104 <= target <= 104`\n",
    " \n",
    "\n",
    "进阶：\n",
    "\n",
    "此题与 [搜索旋转排序数组](0033.ipynb) 相似，但本题中的 nums  可能包含 重复 元素。这会影响到程序的时间复杂度吗？会有怎样的影响，为什么？\n"
   ],
   "id": "1ee70104bc1e94e0"
  },
  {
   "metadata": {},
   "cell_type": "markdown",
   "source": "## 0 ms, 18.14 mb",
   "id": "25bfe485b30e250d"
  },
  {
   "cell_type": "code",
   "id": "initial_id",
   "metadata": {
    "collapsed": true,
    "ExecuteTime": {
     "end_time": "2025-02-02T14:29:01.572536Z",
     "start_time": "2025-02-02T14:29:01.565563Z"
    }
   },
   "source": [
    "from typing import List\n",
    "\n",
    "\n",
    "class Solution:\n",
    "    def search(self, nums: List[int], target: int) -> int:\n",
    "        def check(i: int) -> bool:\n",
    "            x = nums[i]\n",
    "            if x > nums[right]:\n",
    "                return target > nums[right] and x >= target\n",
    "            return target > nums[right] or x >= target\n",
    "\n",
    "        left, right = -1, len(nums) - 1  # 开区间 (-1, n-1)\n",
    "        while left + 1 < right:  # 开区间不为空\n",
    "            mid = (left + right) // 2\n",
    "            if nums[mid] == nums[right]:\n",
    "                right -= 1\n",
    "            elif check(mid):\n",
    "                right = mid\n",
    "            else:\n",
    "                left = mid\n",
    "        return nums[right] == target\n",
    "\n",
    "\n",
    "if __name__ == '__main__':\n",
    "    sol = Solution()\n",
    "    print(sol.search(nums=[2,5,6,0,0,1,2], target=0))"
   ],
   "outputs": [
    {
     "name": "stdout",
     "output_type": "stream",
     "text": [
      "True\n"
     ]
    }
   ],
   "execution_count": 1
  }
 ],
 "metadata": {
  "kernelspec": {
   "display_name": "Python 3",
   "language": "python",
   "name": "python3"
  },
  "language_info": {
   "codemirror_mode": {
    "name": "ipython",
    "version": 2
   },
   "file_extension": ".py",
   "mimetype": "text/x-python",
   "name": "python",
   "nbconvert_exporter": "python",
   "pygments_lexer": "ipython2",
   "version": "2.7.6"
  }
 },
 "nbformat": 4,
 "nbformat_minor": 5
}
