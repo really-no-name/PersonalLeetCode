{
 "cells": [
  {
   "metadata": {},
   "cell_type": "markdown",
   "source": "# 盛最多水的容器",
   "id": "ceb5d00afea6f648"
  },
  {
   "metadata": {},
   "cell_type": "markdown",
   "source": [
    "给定一个长度为 `n` 的整数数组 `height` 。有 `n` 条垂线，第 `i` 条线的两个端点是 `(i, 0)` 和 `(i, height[i])` 。\n",
    "\n",
    "找出其中的两条线，使得它们与 x 轴共同构成的容器可以容纳最多的水。\n",
    "\n",
    "返回容器可以储存的最大水量。\n",
    "\n",
    "说明：你不能倾斜容器。\n",
    "\n",
    " \n",
    "\n",
    "示例 1：\n",
    "\n",
    "\n",
    "\n",
    "输入：`[1,8,6,2,5,4,8,3,7]`\n",
    "\n",
    "输出：`49`\n",
    "\n",
    "解释：图中垂直线代表输入数组 `[1,8,6,2,5,4,8,3,7]`。在此情况下，容器能够容纳水（表示为蓝色部分）的最大值为 `49`。\n",
    "\n",
    "示例 2：\n",
    "\n",
    "输入：`height = [1,1]`\n",
    "\n",
    "输出：`1`\n",
    " \n",
    "\n",
    "提示：\n",
    "\n",
    "- `n == height.length`\n",
    "- `2 <= n <= 105`\n",
    "- `0 <= height[i] <= 104`\n"
   ],
   "id": "6397c74c9a0f5647"
  },
  {
   "metadata": {},
   "cell_type": "markdown",
   "source": "## test",
   "id": "945048163238e29f"
  },
  {
   "metadata": {},
   "cell_type": "markdown",
   "source": "### 待优化",
   "id": "6973bac37e6c34f1"
  },
  {
   "cell_type": "code",
   "id": "initial_id",
   "metadata": {
    "collapsed": true,
    "ExecuteTime": {
     "end_time": "2025-01-30T10:13:31.771377Z",
     "start_time": "2025-01-30T10:13:31.765097Z"
    }
   },
   "source": [
    "from typing import List\n",
    "\n",
    "\n",
    "class Solution:\n",
    "    def maxArea(self, height: List[int]) -> int:\n",
    "        area_max = 0\n",
    "        for i in range(len(height)):\n",
    "            for j in range(i+1, len(height)):\n",
    "                area = min(height[i],height[j]) * (j - i)\n",
    "                area_max = max(area, area_max)\n",
    "        return area_max\n",
    "\n",
    "if __name__ == \"__main__\":\n",
    "    sol = Solution()\n",
    "    print(sol.maxArea([1,8,6,2,5,4,8,3,7]))"
   ],
   "outputs": [
    {
     "name": "stdout",
     "output_type": "stream",
     "text": [
      "49\n"
     ]
    }
   ],
   "execution_count": 1
  },
  {
   "metadata": {},
   "cell_type": "markdown",
   "source": "## 63 ms, 27.80 mb",
   "id": "367326c1cb2f1364"
  },
  {
   "metadata": {},
   "cell_type": "markdown",
   "source": "",
   "id": "4f98f969d5a2424c"
  },
  {
   "metadata": {
    "ExecuteTime": {
     "end_time": "2025-01-30T10:34:11.023104Z",
     "start_time": "2025-01-30T10:34:10.995339Z"
    }
   },
   "cell_type": "code",
   "source": [
    "from typing import List\n",
    "\n",
    "\n",
    "class Solution:\n",
    "    def maxArea(self, height: List[int]) -> int:\n",
    "        area_max = 0\n",
    "        i = 0  # 左指针\n",
    "        j = len(height)-1  # 右指针\n",
    "        while i < j:\n",
    "            if height[i] < height[j]:\n",
    "                area = height[i] * (j - i)\n",
    "                area_max = max(area, area_max)\n",
    "                i += 1\n",
    "            else:\n",
    "                area = height[j] * (j - i)\n",
    "                area_max = max(area, area_max)\n",
    "                j -= 1\n",
    "        return area_max\n",
    "\n",
    "if __name__ == \"__main__\":\n",
    "    sol = Solution()\n",
    "    print(sol.maxArea([1,8,6,2,5,4,8,3,7]))"
   ],
   "id": "e5468f26e70bc1d5",
   "outputs": [
    {
     "name": "stdout",
     "output_type": "stream",
     "text": [
      "49\n"
     ]
    }
   ],
   "execution_count": 2
  }
 ],
 "metadata": {
  "kernelspec": {
   "display_name": "Python 3",
   "language": "python",
   "name": "python3"
  },
  "language_info": {
   "codemirror_mode": {
    "name": "ipython",
    "version": 2
   },
   "file_extension": ".py",
   "mimetype": "text/x-python",
   "name": "python",
   "nbconvert_exporter": "python",
   "pygments_lexer": "ipython2",
   "version": "2.7.6"
  }
 },
 "nbformat": 4,
 "nbformat_minor": 5
}
