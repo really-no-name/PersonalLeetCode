{
 "cells": [
  {
   "metadata": {},
   "cell_type": "markdown",
   "source": [
    "# 有效的括号\n",
    "\n",
    "\n",
    "https://leetcode.cn/problems/valid-parentheses\n",
    "\n",
    "题解：https://leetcode.cn/problems/valid-parentheses/solutions/3070030/jian-dan-de-ti-yong-jian-dan-de-zuo-fa-b-cmlk\n"
   ],
   "id": "8fa4388c8ca251b4"
  },
  {
   "metadata": {},
   "cell_type": "markdown",
   "source": [
    "给定一个只包括 `'('`，`')'`，`'{'`，`'}'`，`'['`，`']'` 的字符串 `s` ，判断字符串是否有效。\n",
    "\n",
    "有效字符串需满足：\n",
    "\n",
    "左括号必须用相同类型的右括号闭合。\n",
    "左括号必须以正确的顺序闭合。\n",
    "每个右括号都有一个对应的相同类型的左括号。\n",
    " \n",
    "\n",
    "示例 1：\n",
    "\n",
    "> 输入：`s = \"()\"`\n",
    "> \n",
    "> 输出：`true`\n",
    "\n",
    "示例 2：\n",
    "\n",
    "> 输入：`s = \"()[]{}\"`\n",
    "> \n",
    "> 输出：`true`\n",
    "\n",
    "示例 3：\n",
    "\n",
    "> 输入：`s = \"(]\"`\n",
    "> \n",
    "> 输出：`false`\n",
    "\n",
    "示例 4：\n",
    "\n",
    "> 输入：`s = \"([])\"`\n",
    "> \n",
    "> 输出：`true`\n",
    "\n",
    " \n",
    "\n",
    "提示：\n",
    "\n",
    "- `1 <= s.length <= 104`\n",
    "- `s` 仅由括号 `'()[]{}'` 组成"
   ],
   "id": "e4355643266de107"
  },
  {
   "metadata": {},
   "cell_type": "markdown",
   "source": "## test",
   "id": "405e7958243f18f"
  },
  {
   "metadata": {
    "ExecuteTime": {
     "end_time": "2025-02-10T08:23:02.237411Z",
     "start_time": "2025-02-10T08:23:02.231993Z"
    }
   },
   "cell_type": "code",
   "source": [
    "s = \"([)]\"\n",
    "print(s.replace(\"[]\",\"\"))"
   ],
   "id": "f44e109fc96744c0",
   "outputs": [
    {
     "name": "stdout",
     "output_type": "stream",
     "text": [
      "([)]\n"
     ]
    }
   ],
   "execution_count": 1
  },
  {
   "metadata": {},
   "cell_type": "markdown",
   "source": "## 11 ms, 17.78 mb ",
   "id": "94a55698c617a4e"
  },
  {
   "cell_type": "code",
   "id": "initial_id",
   "metadata": {
    "collapsed": true,
    "ExecuteTime": {
     "end_time": "2025-02-10T08:36:01.650176Z",
     "start_time": "2025-02-10T08:36:01.633512Z"
    }
   },
   "source": [
    "class Solution:\n",
    "    def isValid(self, s: str) -> bool:\n",
    "        while True:\n",
    "            new_s = s.replace(\"()\",\"\").replace(\"[]\",\"\").replace(\"{}\",\"\")\n",
    "            if new_s == s:\n",
    "                break\n",
    "            s = new_s\n",
    "              \n",
    "        return not s\n",
    "    \n",
    "    \n",
    "\n",
    "if __name__ == \"__main__\":\n",
    "    sol = Solution()\n",
    "    print(sol.isValid(\"([)]\"))"
   ],
   "outputs": [
    {
     "name": "stdout",
     "output_type": "stream",
     "text": [
      "False\n"
     ]
    }
   ],
   "execution_count": 2
  }
 ],
 "metadata": {
  "kernelspec": {
   "display_name": "Python 3",
   "language": "python",
   "name": "python3"
  },
  "language_info": {
   "codemirror_mode": {
    "name": "ipython",
    "version": 2
   },
   "file_extension": ".py",
   "mimetype": "text/x-python",
   "name": "python",
   "nbconvert_exporter": "python",
   "pygments_lexer": "ipython2",
   "version": "2.7.6"
  }
 },
 "nbformat": 4,
 "nbformat_minor": 5
}
