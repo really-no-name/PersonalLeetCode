{
 "cells": [
  {
   "metadata": {},
   "cell_type": "markdown",
   "source": "#  无重复字符的最长子串",
   "id": "80618be41b0322f0"
  },
  {
   "metadata": {},
   "cell_type": "markdown",
   "source": [
    "给定一个字符串 `s` ，请你找出其中不含有重复字符的 **最长** 子串的长度。\n",
    "\n",
    " \n",
    "\n",
    "示例 1:\n",
    "\n",
    "输入: `s = \"abcabcbb\"`\n",
    "输出: `3 `\n",
    "解释: 因为无重复字符的最长子串是 \"abc\"，所以其长度为 3。\n",
    "\n",
    "示例 2:\n",
    "\n",
    "输入: `s = \"bbbbb\"`\n",
    "输出: `1`\n",
    "解释: 因为无重复字符的最长子串是 \"b\"，所以其长度为 1。\n",
    "\n",
    "示例 3:\n",
    "\n",
    "输入: `s = \"pwwkew\"`\n",
    "输出: `3`\n",
    "解释: 因为无重复字符的最长子串是 \"wke\"，所以其长度为 `3`。\n",
    "     请注意，你的答案必须是 子串 的长度，\"pwke\" 是一个子序列，不是子串。\n",
    " \n",
    "\n",
    "提示：\n",
    "\n",
    "`0 <= s.length <= 5 * 104`\n",
    "`s` 由英文字母、数字、符号和空格组成"
   ],
   "id": "6ea78d1a33e2e774"
  },
  {
   "cell_type": "code",
   "id": "initial_id",
   "metadata": {
    "collapsed": true,
    "ExecuteTime": {
     "end_time": "2025-01-26T10:39:15.524507Z",
     "start_time": "2025-01-26T10:39:15.498017Z"
    }
   },
   "source": [
    "s = \"abcabcbb\"\n",
    "print(s)\n",
    "char_set = set()  # 用于存储当前窗口中的字符\n",
    "left = 0  # 滑动窗口的左指针\n",
    "max_length = 0  # 记录最长子串的长度\n",
    "\n",
    "for right in range(len(s)):  # 右指针遍历字符串\n",
    "    print(f\"\\n右指针位置: {right}, 当前字符: '{s[right]}'\")\n",
    "    while s[right] in char_set:  # 如果字符重复，则缩小窗口\n",
    "        print(f\"  字符 '{s[right]}' 重复，移除字符 '{s[left]}'，左指针从 {left} 移动到 {left + 1}\")\n",
    "        char_set.remove(s[left])\n",
    "        left += 1\n",
    "    char_set.add(s[right])  # 添加当前字符到集合中\n",
    "    current_length = right - left + 1\n",
    "    max_length = max(max_length, current_length)  # 更新最长长度\n",
    "    print(f\"  当前窗口字符: {list(char_set)}, 左指针: {left}, 右指针: {right}, 当前长度: {current_length}, 最大长度: {max_length}\")\n",
    "\n",
    "print(\"\\n最终结果:\")\n",
    "print(f\"最长无重复子串的长度为: {max_length}\")"
   ],
   "outputs": [
    {
     "name": "stdout",
     "output_type": "stream",
     "text": [
      "abcabcbb\n",
      "\n",
      "右指针位置: 0, 当前字符: 'a'\n",
      "  当前窗口字符: ['a'], 左指针: 0, 右指针: 0, 当前长度: 1, 最大长度: 1\n",
      "\n",
      "右指针位置: 1, 当前字符: 'b'\n",
      "  当前窗口字符: ['a', 'b'], 左指针: 0, 右指针: 1, 当前长度: 2, 最大长度: 2\n",
      "\n",
      "右指针位置: 2, 当前字符: 'c'\n",
      "  当前窗口字符: ['a', 'b', 'c'], 左指针: 0, 右指针: 2, 当前长度: 3, 最大长度: 3\n",
      "\n",
      "右指针位置: 3, 当前字符: 'a'\n",
      "  字符 'a' 重复，移除字符 'a'，左指针从 0 移动到 1\n",
      "  当前窗口字符: ['a', 'b', 'c'], 左指针: 1, 右指针: 3, 当前长度: 3, 最大长度: 3\n",
      "\n",
      "右指针位置: 4, 当前字符: 'b'\n",
      "  字符 'b' 重复，移除字符 'b'，左指针从 1 移动到 2\n",
      "  当前窗口字符: ['a', 'b', 'c'], 左指针: 2, 右指针: 4, 当前长度: 3, 最大长度: 3\n",
      "\n",
      "右指针位置: 5, 当前字符: 'c'\n",
      "  字符 'c' 重复，移除字符 'c'，左指针从 2 移动到 3\n",
      "  当前窗口字符: ['a', 'b', 'c'], 左指针: 3, 右指针: 5, 当前长度: 3, 最大长度: 3\n",
      "\n",
      "右指针位置: 6, 当前字符: 'b'\n",
      "  字符 'b' 重复，移除字符 'a'，左指针从 3 移动到 4\n",
      "  字符 'b' 重复，移除字符 'b'，左指针从 4 移动到 5\n",
      "  当前窗口字符: ['b', 'c'], 左指针: 5, 右指针: 6, 当前长度: 2, 最大长度: 3\n",
      "\n",
      "右指针位置: 7, 当前字符: 'b'\n",
      "  字符 'b' 重复，移除字符 'c'，左指针从 5 移动到 6\n",
      "  字符 'b' 重复，移除字符 'b'，左指针从 6 移动到 7\n",
      "  当前窗口字符: ['b'], 左指针: 7, 右指针: 7, 当前长度: 1, 最大长度: 3\n",
      "\n",
      "最终结果:\n",
      "最长无重复子串的长度为: 3\n"
     ]
    }
   ],
   "execution_count": 10
  },
  {
   "metadata": {},
   "cell_type": "markdown",
   "source": "## 用时19ms， 消耗内存17.75MB\n",
   "id": "66bd7ebb7444e343"
  },
  {
   "metadata": {},
   "cell_type": "code",
   "outputs": [],
   "execution_count": null,
   "source": [
    "class Solution:\n",
    "    def lengthOfLongestSubstring(self, s: str) -> int:\n",
    "        # 使用滑动窗口方法\n",
    "        char_set = set()  # 用于存储当前窗口中的字符\n",
    "        left = 0  # 滑动窗口的左指针\n",
    "        max_length = 0  # 记录最长子串的长度\n",
    "\n",
    "        for right in range(len(s)):  # 右指针遍历字符串\n",
    "            while s[right] in char_set:  # 如果字符重复，则缩小窗口\n",
    "                char_set.remove(s[left])\n",
    "                left += 1\n",
    "            char_set.add(s[right])  # 添加当前字符到集合中\n",
    "            max_length = max(max_length, right - left + 1)  # 更新最长长度\n",
    "\n",
    "        return max_length\n",
    "    \n",
    "    \n",
    "if __name__ == \"__main__\":\n",
    "    sol = Solution()\n",
    "    print(sol.lengthOfLongestSubstring(\"abcabcbb\"))"
   ],
   "id": "c66aef8aa68d6363"
  }
 ],
 "metadata": {
  "kernelspec": {
   "display_name": "Python 3",
   "language": "python",
   "name": "python3"
  },
  "language_info": {
   "codemirror_mode": {
    "name": "ipython",
    "version": 2
   },
   "file_extension": ".py",
   "mimetype": "text/x-python",
   "name": "python",
   "nbconvert_exporter": "python",
   "pygments_lexer": "ipython2",
   "version": "2.7.6"
  }
 },
 "nbformat": 4,
 "nbformat_minor": 5
}
