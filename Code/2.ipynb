{
 "cells": [
  {
   "metadata": {},
   "cell_type": "markdown",
   "source": "# 两数相加",
   "id": "5d28a86fea6ebf38"
  },
  {
   "metadata": {},
   "cell_type": "markdown",
   "source": [
    "给你两个 **非空** 的链表，表示两个非负的整数。它们每位数字都是按照 **逆序** 的方式存储的，并且每个节点只能存储 **一位** 数字。\n",
    "\n",
    "请你将两个数相加，并以相同形式返回一个表示和的链表。\n",
    "\n",
    "你可以假设除了数字 `0` 之外，这两个数都不会以 `0` 开头。\n",
    "\n",
    " \n",
    "\n",
    "示例 1：\n",
    "\n",
    "\n",
    "输入：`l1 = [2,4,3], l2 = [5,6,4]`\n",
    "输出：`[7,0,8]`\n",
    "解释：`342 + 465 = 807`.\n",
    "\n",
    "示例 2：\n",
    "\n",
    "输入：`l1 = [0], l2 = [0]`\n",
    "输出：`[0]`\n",
    "\n",
    "示例 3：\n",
    "\n",
    "输入：`l1 = [9,9,9,9,9,9,9], l2 = [9,9,9,9]`\n",
    "输出：`[8,9,9,9,0,0,0,1]`\n",
    " \n",
    "\n",
    "提示：\n",
    "\n",
    "每个链表中的节点数在范围 `[1, 100]` 内\n",
    "\n",
    "`0 <= Node.val <= 9`\n",
    "\n",
    "题目数据保证列表表示的数字不含前导零"
   ],
   "id": "2245e88340e8fe42"
  },
  {
   "metadata": {},
   "cell_type": "markdown",
   "source": "## 用时4ms， 消耗内存17.83MB",
   "id": "1666962f72532ab2"
  },
  {
   "metadata": {},
   "cell_type": "code",
   "source": [
    "# Definition for singly-linked list.\n",
    "# class ListNode:\n",
    "#     def __init__(self, val=0, next=None):\n",
    "#         self.val = val\n",
    "#         self.next = next\n",
    "class Solution:\n",
    "    def addTwoNumbers(self, l1: Optional[ListNode], l2: Optional[ListNode]) -> Optional[ListNode]:\n",
    "        # Convert linked lists to numbers\n",
    "        num1 = self.list2num(l1)\n",
    "        num2 = self.list2num(l2)\n",
    "        # Add the numbers\n",
    "        total = num1 + num2\n",
    "        # Convert the sum back to a linked list\n",
    "        return self.num2list(total)\n",
    "    \n",
    "    def list2num(self, l: Optional[ListNode]) -> int:\n",
    "        num = 0\n",
    "        power = 0\n",
    "        # Traverse the linked list\n",
    "        while l:\n",
    "            num += l.val * (10 ** power)\n",
    "            power += 1\n",
    "            l = l.next\n",
    "        return num\n",
    "    \n",
    "    def num2list(self, num: int) -> Optional[ListNode]:\n",
    "        # Convert number to linked list\n",
    "        dummy = ListNode(0)\n",
    "        current = dummy\n",
    "        if num == 0:\n",
    "            return ListNode(0)\n",
    "        while num > 0:\n",
    "            current.next = ListNode(num % 10)\n",
    "            num //= 10\n",
    "            current = current.next\n",
    "        return dummy.next\n",
    "                \n"
   ],
   "id": "7cf6a5c19b87dc84",
   "outputs": [],
   "execution_count": null
  },
  {
   "metadata": {
    "ExecuteTime": {
     "end_time": "2025-01-26T09:56:33.603238Z",
     "start_time": "2025-01-26T09:56:33.594369Z"
    }
   },
   "cell_type": "code",
   "source": [
    "l1 = [2, 4, 3]\n",
    "l2 = [5, 6, 4]\n",
    "num1 = 0\n",
    "for i in range(len(l1)):\n",
    "    # print(l1[i])\n",
    "    # print(l1[i] * 10 ** i)\n",
    "    num1 = l1[i] * 10 ** i + num1\n",
    "    \n",
    "# print(num1)\n",
    "# print(len(str(num1)))\n",
    "l = [0] * (len(str(num1)))\n",
    "\n",
    "for j in range(len(str(num1))):\n",
    "    l[j] = (num1 % (10 ** (j + 1))) / (10 ** j)\n",
    "    num1 = num1 - l[j] * (10 ** j )\n",
    "    print(l[j] * (10 ** j))\n",
    "    print(l[j])\n",
    "    print(num1)\n",
    "    \n",
    "print(l)"
   ],
   "id": "78487a3f87a4ac3f",
   "outputs": [
    {
     "name": "stdout",
     "output_type": "stream",
     "text": [
      "2.0\n",
      "2.0\n",
      "340.0\n",
      "40.0\n",
      "4.0\n",
      "300.0\n",
      "300.0\n",
      "3.0\n",
      "0.0\n",
      "[2.0, 4.0, 3.0]\n"
     ]
    }
   ],
   "execution_count": 21
  }
 ],
 "metadata": {
  "kernelspec": {
   "display_name": "Python 3",
   "language": "python",
   "name": "python3"
  },
  "language_info": {
   "codemirror_mode": {
    "name": "ipython",
    "version": 2
   },
   "file_extension": ".py",
   "mimetype": "text/x-python",
   "name": "python",
   "nbconvert_exporter": "python",
   "pygments_lexer": "ipython2",
   "version": "2.7.6"
  }
 },
 "nbformat": 4,
 "nbformat_minor": 5
}
