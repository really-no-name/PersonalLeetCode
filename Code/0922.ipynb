{
 "cells": [
  {
   "metadata": {},
   "cell_type": "markdown",
   "source": [
    "# 按奇偶排序数组 II\n",
    "\n",
    "https://leetcode.cn/problems/sort-array-by-parity-ii?envType=daily-question&envId=2025-02-04"
   ],
   "id": "3f85582239febed0"
  },
  {
   "metadata": {},
   "cell_type": "markdown",
   "source": [
    "给定一个非负整数数组 `nums`，  `nums` 中一半整数是 奇数 ，一半整数是 偶数 。\n",
    "\n",
    "对数组进行排序，以便当 `nums[i]` 为奇数时，`i` 也是 奇数 ；当 `nums[i]` 为偶数时， `i` 也是 偶数 。\n",
    "\n",
    "你可以返回 任何满足上述条件的数组作为答案 。\n",
    "\n",
    " \n",
    "\n",
    "示例 1：\n",
    "\n",
    "输入：nums = [4,2,5,7]\n",
    "\n",
    "输出：[4,5,2,7]\n",
    "\n",
    "解释：[4,7,2,5]，[2,5,4,7]，[2,7,4,5] 也会被接受。\n",
    "\n",
    "示例 2：\n",
    "\n",
    "\n",
    "输入：nums = [2,3]\n",
    "\n",
    "输出：[2,3]\n",
    " \n",
    "\n",
    "提示：\n",
    "\n",
    "- `2 <= nums.length <= 2 * 104`\n",
    "- `nums.length` 是偶数\n",
    "- `nums` 中一半是偶数\n",
    "- `0 <= nums[i] <= 1000`\n",
    " \n",
    "\n",
    "进阶：可以不使用额外空间解决问题吗？"
   ],
   "id": "220631bff90f05c5"
  },
  {
   "metadata": {},
   "cell_type": "markdown",
   "source": "## 11 ms, 18.52 mb",
   "id": "a2e8972fb4f070ce"
  },
  {
   "cell_type": "code",
   "id": "initial_id",
   "metadata": {
    "collapsed": true,
    "ExecuteTime": {
     "end_time": "2025-02-04T01:12:39.312152Z",
     "start_time": "2025-02-04T01:12:39.300156Z"
    }
   },
   "source": [
    "from typing import List\n",
    "\n",
    "\n",
    "class Solution:\n",
    "    def sortArrayByParityII(self, A: List[int]) -> List[int]:\n",
    "        i = 0\n",
    "        j = 1\n",
    "        while i < len(A):\n",
    "            if A[i] % 2 == 0:  # 偶数下标最左边的奇数\n",
    "                i += 2\n",
    "            elif A[j] % 2 == 1:  # 奇数下标最左边的偶数\n",
    "                j += 2\n",
    "            else:\n",
    "                A[i], A[j] = A[j], A[i]\n",
    "                i += 2\n",
    "                j += 2\n",
    "        return A\n",
    "    \n",
    "\n",
    "if __name__ == \"__main__\":\n",
    "    sol = Solution()\n",
    "    print(sol.sortArrayByParityII(A = [4,2,5,7]))"
   ],
   "outputs": [
    {
     "name": "stdout",
     "output_type": "stream",
     "text": [
      "[4, 5, 2, 7]\n"
     ]
    }
   ],
   "execution_count": 4
  }
 ],
 "metadata": {
  "kernelspec": {
   "display_name": "Python 3",
   "language": "python",
   "name": "python3"
  },
  "language_info": {
   "codemirror_mode": {
    "name": "ipython",
    "version": 2
   },
   "file_extension": ".py",
   "mimetype": "text/x-python",
   "name": "python",
   "nbconvert_exporter": "python",
   "pygments_lexer": "ipython2",
   "version": "2.7.6"
  }
 },
 "nbformat": 4,
 "nbformat_minor": 5
}
