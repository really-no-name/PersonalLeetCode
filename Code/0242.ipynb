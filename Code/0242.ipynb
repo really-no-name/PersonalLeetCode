{
 "cells": [
  {
   "metadata": {},
   "cell_type": "markdown",
   "source": [
    "# 有效的字母异位词\n",
    "\n",
    "https://leetcode.cn/problems/valid-anagram"
   ],
   "id": "2bcd53f160b9bbc3"
  },
  {
   "metadata": {},
   "cell_type": "markdown",
   "source": [
    "给定两个字符串 s 和 t ，编写一个函数来判断 t 是否是 s 的 \n",
    "字母异位词\n",
    "。\n",
    "\n",
    " \n",
    "\n",
    "示例 1:\n",
    "\n",
    "输入: s = \"anagram\", t = \"nagaram\"\n",
    "\n",
    "输出: true\n",
    "\n",
    "示例 2:\n",
    "\n",
    "输入: s = \"rat\", t = \"car\"\n",
    "\n",
    "输出: false\n",
    " \n",
    "\n",
    "提示:\n",
    "\n",
    "- 1 <= s.length, t.length <= 5 * 104\n",
    "- s 和 t 仅包含小写字母\n",
    " \n",
    "\n",
    "进阶: 如果输入字符串包含 unicode 字符怎么办？你能否调整你的解法来应对这种情况？"
   ],
   "id": "ea88cf70e86e2a85"
  },
  {
   "metadata": {},
   "cell_type": "markdown",
   "source": "## 79 ms, 17.60 mb",
   "id": "abc13716c2ef0497"
  },
  {
   "cell_type": "code",
   "execution_count": null,
   "id": "initial_id",
   "metadata": {
    "collapsed": true
   },
   "outputs": [],
   "source": [
    "class Solution:\n",
    "    def isAnagram(self, s: str, t: str) -> bool:\n",
    "        # if s == t:\n",
    "        #     return False\n",
    "        for i in range(len(t)):\n",
    "            if t[i] in s:\n",
    "                s = s.replace(t[i], \"\", 1)\n",
    "            else:\n",
    "                return False\n",
    "        if s == \"\":\n",
    "            return True\n",
    "        else:\n",
    "            return False\n",
    "\n",
    "if __name__ == \"__main__\":\n",
    "    sol = Solution()\n",
    "    print(sol.isAnagram(s = \"anagram\", t = \"nagaram\"))\n",
    "    print(sol.isAnagram(s = \"a\", t = \"a\"))\n",
    "    print(sol.isAnagram(s = \"ab\", t = \"a\"))"
   ]
  }
 ],
 "metadata": {
  "kernelspec": {
   "display_name": "Python 3",
   "language": "python",
   "name": "python3"
  },
  "language_info": {
   "codemirror_mode": {
    "name": "ipython",
    "version": 2
   },
   "file_extension": ".py",
   "mimetype": "text/x-python",
   "name": "python",
   "nbconvert_exporter": "python",
   "pygments_lexer": "ipython2",
   "version": "2.7.6"
  }
 },
 "nbformat": 4,
 "nbformat_minor": 5
}
