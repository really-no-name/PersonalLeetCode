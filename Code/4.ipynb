{
 "cells": [
  {
   "metadata": {},
   "cell_type": "markdown",
   "source": "# 寻找两个正序数组的中位数",
   "id": "b877d0a420504708"
  },
  {
   "metadata": {},
   "cell_type": "markdown",
   "source": [
    "给定两个大小分别为 `m` 和 `n` 的正序（从小到大）数组 `nums1` 和 `nums2`。请你找出并返回这两个正序数组的 **中位数** 。\n",
    "\n",
    "算法的时间复杂度应该为 `O(log (m+n))` 。\n",
    "\n",
    " \n",
    "\n",
    "示例 1：\n",
    "\n",
    "输入：`nums1 = [1,3], nums2 = [2]`\n",
    "输出：`2.00000`\n",
    "解释：`合并数组 = [1,2,3]` ，中位数 `2`\n",
    "\n",
    "示例 2：\n",
    "\n",
    "输入：`nums1 = [1,2]`, `nums2 = [3,4]`\n",
    "输出：`2.50000`\n",
    "解释：合并数组 = `[1,2,3,4]` ，中位数 `(2 + 3) / 2 = 2.5`\n",
    " \n",
    "\n",
    " \n",
    "\n",
    "提示：\n",
    "\n",
    "`nums1.length == m`\n",
    "\n",
    "`nums2.length == n`\n",
    "\n",
    "`0 <= m <= 1000`\n",
    "\n",
    "`0 <= n <= 1000`\n",
    "\n",
    "`1 <= m + n <= 2000`\n",
    "\n",
    "`-106 <= nums1[i], nums2[i] <= 106`\n"
   ],
   "id": "a8017092dc531812"
  },
  {
   "cell_type": "code",
   "id": "initial_id",
   "metadata": {
    "collapsed": true,
    "ExecuteTime": {
     "end_time": "2025-01-26T12:16:12.027083Z",
     "start_time": "2025-01-26T12:16:12.009123Z"
    }
   },
   "source": [
    "nums1 = [2, 2, 4, 4]\n",
    "nums2 = [2, 2, 2, 4, 4]\n",
    "total_len = len(nums1) + len(nums2)\n",
    "# if total_len % 2 == 0:\n",
    "#     total_len = total_len // 2 + 1\n",
    "# else:\n",
    "#     total_len = (total_len + 1) // 2\n",
    "print(total_len)\n",
    "\n",
    "sum = [] \n",
    "print(sum)\n",
    "\n",
    "i, j = 0, 0  # 初始化两个指针\n",
    "while i < len(nums1) and j < len(nums2):\n",
    "    if nums1[i] < nums2[j]:\n",
    "        sum.append(nums1[i])\n",
    "        i += 1\n",
    "    else:\n",
    "        sum.append(nums2[j])\n",
    "        j += 1\n",
    "\n",
    "while i < len(nums1):\n",
    "    sum.append(nums1[i])\n",
    "    i += 1\n",
    "while j < len(nums2):\n",
    "    sum.append(nums2[j])\n",
    "    j += 1\n",
    "print(sum)\n",
    "\n",
    "if total_len % 2 == 0:  # 双数\n",
    "    median = (sum[total_len // 2 - 1] + sum[total_len // 2] ) / 2\n",
    "else:  # 单数\n",
    "    median = sum[(total_len - 1) // 2]\n",
    "print(median)"
   ],
   "outputs": [
    {
     "name": "stdout",
     "output_type": "stream",
     "text": [
      "9\n",
      "[]\n",
      "[2, 2, 2, 2, 2, 4, 4, 4, 4]\n",
      "2\n"
     ]
    }
   ],
   "execution_count": 33
  },
  {
   "metadata": {},
   "cell_type": "markdown",
   "source": "11ms, 18.07MB",
   "id": "83a400edf2291afc"
  },
  {
   "metadata": {},
   "cell_type": "code",
   "outputs": [],
   "execution_count": null,
   "source": [
    "class Solution:\n",
    "    def findMedianSortedArrays(self, nums1: List[int], nums2: List[int]) -> float:\n",
    "        i, j = 0, 0  # 初始化两个指针\n",
    "        sum = [] \n",
    "        total_len = len(nums1) + len(nums2)\n",
    "        while i < len(nums1) and j < len(nums2):\n",
    "            if nums1[i] < nums2[j]:\n",
    "                sum.append(nums1[i])\n",
    "                i += 1\n",
    "            else:\n",
    "                sum.append(nums2[j])\n",
    "                j += 1\n",
    "        \n",
    "        while i < len(nums1):\n",
    "            sum.append(nums1[i])\n",
    "            i += 1\n",
    "        while j < len(nums2):\n",
    "            sum.append(nums2[j])\n",
    "            j += 1\n",
    "        print(sum)\n",
    "        \n",
    "        if total_len % 2 == 0:  # 双数\n",
    "            median = (sum[total_len // 2 - 1] + sum[total_len // 2] ) / 2\n",
    "        else:  # 单数\n",
    "            median = sum[(total_len - 1) // 2]\n",
    "        return median\n",
    "        "
   ],
   "id": "477c481d9f56626"
  }
 ],
 "metadata": {
  "kernelspec": {
   "display_name": "Python 3",
   "language": "python",
   "name": "python3"
  },
  "language_info": {
   "codemirror_mode": {
    "name": "ipython",
    "version": 2
   },
   "file_extension": ".py",
   "mimetype": "text/x-python",
   "name": "python",
   "nbconvert_exporter": "python",
   "pygments_lexer": "ipython2",
   "version": "2.7.6"
  }
 },
 "nbformat": 4,
 "nbformat_minor": 5
}
