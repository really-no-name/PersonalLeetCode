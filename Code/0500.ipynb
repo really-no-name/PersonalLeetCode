{
 "cells": [
  {
   "metadata": {},
   "cell_type": "markdown",
   "source": [
    "# 键盘行\n",
    "\n",
    "https://leetcode.cn/problems/keyboard-row"
   ],
   "id": "2cd121d5db127786"
  },
  {
   "metadata": {},
   "cell_type": "markdown",
   "source": [
    "给你一个字符串数组 words ，只返回可以使用在 美式键盘 同一行的字母打印出来的单词。键盘如下图所示。\n",
    "\n",
    "请注意，字符串 不区分大小写，相同字母的大小写形式都被视为在同一行。\n",
    "\n",
    "美式键盘 中：\n",
    "\n",
    "第一行由字符 \"qwertyuiop\" 组成。\n",
    "\n",
    "第二行由字符 \"asdfghjkl\" 组成。\n",
    "\n",
    "第三行由字符 \"zxcvbnm\" 组成。\n",
    "\n",
    " \n",
    "\n",
    "示例 1：\n",
    "\n",
    "输入：words = [\"Hello\",\"Alaska\",\"Dad\",\"Peace\"]\n",
    "\n",
    "输出：[\"Alaska\",\"Dad\"]\n",
    "\n",
    "解释：\n",
    "\n",
    "由于不区分大小写，\"a\" 和 \"A\" 都在美式键盘的第二行。\n",
    "\n",
    "示例 2：\n",
    "\n",
    "输入：words = [\"omk\"]\n",
    "\n",
    "输出：[]\n",
    "\n",
    "示例 3：\n",
    "\n",
    "输入：words = [\"adsdf\",\"sfd\"]\n",
    "\n",
    "输出：[\"adsdf\",\"sfd\"]\n",
    "\n",
    " \n",
    "\n",
    "提示：\n",
    "\n",
    "- 1 <= words.length <= 20\n",
    "- 1 <= words[i].length <= 100\n",
    "- words[i] 由英文字母（小写和大写字母）组成"
   ],
   "id": "9183c70e34ecc266"
  },
  {
   "metadata": {},
   "cell_type": "markdown",
   "source": "## test",
   "id": "e871a5aaa57ae46f"
  },
  {
   "cell_type": "code",
   "id": "initial_id",
   "metadata": {
    "collapsed": true,
    "ExecuteTime": {
     "end_time": "2025-02-10T04:51:38.043239Z",
     "start_time": "2025-02-10T04:51:38.035597Z"
    }
   },
   "source": [
    "print(set(\"alaska\"))\n",
    "print(set(\"alaska\").issubset(set(\"asdfghjkl\")))\n",
    "words = [\"Hello\",\"Alaska\",\"Dad\",\"Peace\"]\n",
    "print(len(words))"
   ],
   "outputs": [
    {
     "name": "stdout",
     "output_type": "stream",
     "text": [
      "{'s', 'l', 'a', 'k'}\n",
      "True\n",
      "4\n"
     ]
    }
   ],
   "execution_count": 4
  },
  {
   "metadata": {},
   "cell_type": "markdown",
   "source": "## 0 ms, 17.45 mb",
   "id": "f32c5c27d30c8ced"
  },
  {
   "metadata": {
    "ExecuteTime": {
     "end_time": "2025-02-10T04:54:42.726571Z",
     "start_time": "2025-02-10T04:54:42.717715Z"
    }
   },
   "cell_type": "code",
   "source": [
    "from typing import List\n",
    "\n",
    "\n",
    "class Solution:\n",
    "    def findWords(self, words: List[str]) -> List[str]:\n",
    "        ans = []\n",
    "        for word in words:\n",
    "            if set(word).issubset(set(\"asdfghjklASDFGHJKL\")) or set(word).issubset(set(\"qwertyuiopQWERTYUIOP\")) or set(word).issubset(set(\"ZXCVBNMzxcvbnm\")):\n",
    "                ans.append(word)\n",
    "                \n",
    "        return ans\n",
    "        \n",
    "        \n",
    "if __name__ == '__main__':\n",
    "    solution = Solution()\n",
    "    words = [\"Hello\",\"Alaska\",\"Dad\",\"Peace\"]\n",
    "    print(solution.findWords(words))"
   ],
   "id": "6448c6e63990917e",
   "outputs": [
    {
     "name": "stdout",
     "output_type": "stream",
     "text": [
      "['Alaska', 'Dad']\n"
     ]
    }
   ],
   "execution_count": 7
  }
 ],
 "metadata": {
  "kernelspec": {
   "display_name": "Python 3",
   "language": "python",
   "name": "python3"
  },
  "language_info": {
   "codemirror_mode": {
    "name": "ipython",
    "version": 2
   },
   "file_extension": ".py",
   "mimetype": "text/x-python",
   "name": "python",
   "nbconvert_exporter": "python",
   "pygments_lexer": "ipython2",
   "version": "2.7.6"
  }
 },
 "nbformat": 4,
 "nbformat_minor": 5
}
