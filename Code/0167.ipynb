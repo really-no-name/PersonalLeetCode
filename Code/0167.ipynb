{
 "cells": [
  {
   "metadata": {},
   "cell_type": "markdown",
   "source": [
    "# 两数之和 II - 输入有序数组\n",
    "\n",
    "https://leetcode.cn/problems/two-sum-ii-input-array-is-sorted"
   ],
   "id": "eb98d3d42b0783fb"
  },
  {
   "metadata": {},
   "cell_type": "markdown",
   "source": [
    "给你一个下标从 1 开始的整数数组 numbers ，该数组已按 非递减顺序排列  ，请你从数组中找出满足相加之和等于目标数 target 的两个数。如果设这两个数分别是 numbers[index1] 和 numbers[index2] ，则 1 <= index1 < index2 <= numbers.length 。\n",
    "\n",
    "以长度为 2 的整数数组 [index1, index2] 的形式返回这两个整数的下标 index1 和 index2。\n",
    "\n",
    "你可以假设每个输入 只对应唯一的答案 ，而且你 不可以 重复使用相同的元素。\n",
    "\n",
    "你所设计的解决方案必须只使用常量级的额外空间。\n",
    "\n",
    " \n",
    "示例 1：\n",
    "\n",
    "> 输入：numbers = [2,7,11,15], target = 9\n",
    "> \n",
    "> 输出：[1,2]\n",
    "> \n",
    "> 解释：2 与 7 之和等于目标数 9 。因此 index1 = 1, index2 = 2 。返回 [1, 2] 。\n",
    "\n",
    "示例 2：\n",
    "\n",
    "> 输入：numbers = [2,3,4], target = 6\n",
    "> \n",
    "> 输出：[1,3]\n",
    "> \n",
    "> 解释：2 与 4 之和等于目标数 6 。因此 index1 = 1, index2 = 3 。返回 [1, 3] 。\n",
    "\n",
    "示例 3：\n",
    "\n",
    "> 输入：numbers = [-1,0], target = -1\n",
    "> \n",
    "> 输出：[1,2]\n",
    "> \n",
    "> 解释：-1 与 0 之和等于目标数 -1 。因此 index1 = 1, index2 = 2 。返回 [1, 2] 。\n",
    " \n",
    "\n",
    "提示：\n",
    "\n",
    "- 2 <= numbers.length <= 3 * 104\n",
    "- -1000 <= numbers[i] <= 1000\n",
    "- numbers 按 非递减顺序 排列\n",
    "- -1000 <= target <= 1000\n",
    "- 仅存在一个有效答案\n"
   ],
   "id": "642cbb407266c852"
  },
  {
   "metadata": {},
   "cell_type": "markdown",
   "source": [
    "## 5 ms, 18.25 mb\n",
    "\n",
    "时间复杂度 `O(N)`\n",
    "\n",
    "空间复杂度 `O(1)`"
   ],
   "id": "1ac8ecdacdf2e575"
  },
  {
   "cell_type": "code",
   "id": "initial_id",
   "metadata": {
    "collapsed": true,
    "ExecuteTime": {
     "end_time": "2025-02-11T03:15:57.780442Z",
     "start_time": "2025-02-11T03:15:57.773700Z"
    }
   },
   "source": [
    "from typing import List\n",
    "\n",
    "\n",
    "class Solution:\n",
    "    def twoSum(self, nums: List[int], target: int) -> List[int]:\n",
    "        left_index = 0\n",
    "        right_index = len(nums) - 1\n",
    "        while left_index < right_index:\n",
    "            s = nums[left_index] + nums[right_index]\n",
    "            if s == target:\n",
    "                break\n",
    "            elif s < target:\n",
    "                left_index += 1\n",
    "            else:\n",
    "                right_index -= 1\n",
    "        return [left_index + 1, right_index + 1]\n",
    "    \n",
    "    \n",
    "    \n",
    "\n",
    "if __name__ == '__main__':\n",
    "    sol = Solution()\n",
    "    print(sol.twoSum([2, 7, 11, 15], 9))"
   ],
   "outputs": [
    {
     "name": "stdout",
     "output_type": "stream",
     "text": [
      "[1, 2]\n"
     ]
    }
   ],
   "execution_count": 1
  }
 ],
 "metadata": {
  "kernelspec": {
   "display_name": "Python 3",
   "language": "python",
   "name": "python3"
  },
  "language_info": {
   "codemirror_mode": {
    "name": "ipython",
    "version": 2
   },
   "file_extension": ".py",
   "mimetype": "text/x-python",
   "name": "python",
   "nbconvert_exporter": "python",
   "pygments_lexer": "ipython2",
   "version": "2.7.6"
  }
 },
 "nbformat": 4,
 "nbformat_minor": 5
}
