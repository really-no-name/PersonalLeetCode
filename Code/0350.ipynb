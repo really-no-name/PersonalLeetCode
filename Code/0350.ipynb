{
 "cells": [
  {
   "metadata": {},
   "cell_type": "markdown",
   "source": "# 两个数组的交集 II",
   "id": "b626cdd88ab10056"
  },
  {
   "metadata": {},
   "cell_type": "markdown",
   "source": [
    "给你两个整数数组 `nums1` 和 `nums2` ，请你以数组形式返回两数组的交集。返回结果中每个元素出现的次数，应与元素在两个数组中都出现的次数一致（如果出现次数不一致，则考虑取较小值）。可以不考虑输出结果的顺序。\n",
    "\n",
    " \n",
    "\n",
    "示例 1：\n",
    "\n",
    "输入：`nums1 = [1,2,2,1]`, `nums2 = [2,2]`\n",
    "输出：`[2,2]`\n",
    "\n",
    "示例 2:\n",
    "\n",
    "输入：`nums1 = [4,9,5]`, `nums2 = [9,4,9,8,4]`\n",
    "输出：`[4,9]`\n",
    " \n",
    "\n",
    "提示：\n",
    "\n",
    "- `1 <= nums1.length, nums2.length <= 1000`\n",
    "- `0 <= nums1[i], nums2[i] <= 1000`\n",
    " \n",
    "\n",
    "进阶：\n",
    "\n",
    "- 如果给定的数组已经排好序呢？你将如何优化你的算法？\n",
    "- 如果 nums1 的大小比 nums2 小，哪种方法更优？\n",
    "- 如果 nums2 的元素存储在磁盘上，内存是有限的，并且你不能一次加载所有的元素到内存中，你该怎么办？"
   ],
   "id": "f3a74f5c6eb1ecd4"
  },
  {
   "cell_type": "code",
   "id": "initial_id",
   "metadata": {
    "collapsed": true,
    "ExecuteTime": {
     "end_time": "2025-01-30T10:03:54.944652Z",
     "start_time": "2025-01-30T10:03:54.935022Z"
    }
   },
   "source": [
    "from typing import List, Counter\n",
    "\n",
    "import numpy as np\n",
    "\n",
    "\n",
    "class Solution:\n",
    "    def intersect(self, nums1: List[int], nums2: List[int]) -> List[int]:\n",
    "        cnt = Counter(nums1)\n",
    "        ans = []\n",
    "        for x in nums2:\n",
    "            if cnt[x] > 0:\n",
    "                cnt[x] -= 1\n",
    "                ans.append(x)\n",
    "        return ans\n",
    "\n",
    "    \n",
    "        \n",
    "sol = Solution()\n",
    "print(sol.intersect([4,9,5], [9,4,9,8,4]))\n",
    "print(sol.intersect([1,2,2,1], [2,2]))"
   ],
   "outputs": [
    {
     "name": "stdout",
     "output_type": "stream",
     "text": [
      "[9, 4]\n",
      "[2, 2]\n"
     ]
    }
   ],
   "execution_count": 13
  },
  {
   "metadata": {},
   "cell_type": "code",
   "outputs": [],
   "execution_count": null,
   "source": "",
   "id": "58b00980e3de8d36"
  }
 ],
 "metadata": {
  "kernelspec": {
   "display_name": "Python 3",
   "language": "python",
   "name": "python3"
  },
  "language_info": {
   "codemirror_mode": {
    "name": "ipython",
    "version": 2
   },
   "file_extension": ".py",
   "mimetype": "text/x-python",
   "name": "python",
   "nbconvert_exporter": "python",
   "pygments_lexer": "ipython2",
   "version": "2.7.6"
  }
 },
 "nbformat": 4,
 "nbformat_minor": 5
}
