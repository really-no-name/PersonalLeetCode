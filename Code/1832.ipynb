{
 "cells": [
  {
   "metadata": {},
   "cell_type": "markdown",
   "source": [
    "# 判断句子是否为全字母句\n",
    "\n",
    "https://leetcode.cn/problems/check-if-the-sentence-is-pangram"
   ],
   "id": "8e59ddf44172243b"
  },
  {
   "metadata": {},
   "cell_type": "markdown",
   "source": [
    "**全字母句** 指包含英语字母表中每个字母至少一次的句子。\n",
    "\n",
    "给你一个仅由小写英文字母组成的字符串 sentence ，请你判断 sentence 是否为 **全字母句** 。\n",
    "\n",
    "如果是，返回 true ；否则，返回 false 。\n",
    "\n",
    " \n",
    "\n",
    "示例 1：\n",
    "\n",
    "输入：sentence = \"thequickbrownfoxjumpsoverthelazydog\"\n",
    "\n",
    "输出：true\n",
    "\n",
    "解释：sentence 包含英语字母表中每个字母至少一次。\n",
    "\n",
    "示例 2：\n",
    "\n",
    "输入：sentence = \"leetcode\"\n",
    "\n",
    "输出：false\n",
    " \n",
    "\n",
    "提示：\n",
    "\n",
    "- 1 <= sentence.length <= 1000\n",
    "- sentence 由小写英语字母组成"
   ],
   "id": "a169b52407b49b4f"
  },
  {
   "metadata": {},
   "cell_type": "markdown",
   "source": "## test",
   "id": "77f629df3ebb51f2"
  },
  {
   "metadata": {
    "ExecuteTime": {
     "end_time": "2025-02-05T12:51:24.141550Z",
     "start_time": "2025-02-05T12:51:24.133756Z"
    }
   },
   "cell_type": "code",
   "source": [
    "# print(chr(97))\n",
    "# print(chr(122))\n",
    "# for i in range(97, 123):\n",
    "#     print(chr(i))\n",
    "    \n",
    "len(\"thequickbrownfoxjumpsoverthelazydog\")"
   ],
   "id": "e14380b50021a7b3",
   "outputs": [
    {
     "data": {
      "text/plain": [
       "35"
      ]
     },
     "execution_count": 7,
     "metadata": {},
     "output_type": "execute_result"
    }
   ],
   "execution_count": 7
  },
  {
   "metadata": {},
   "cell_type": "markdown",
   "source": "## 0 ms, 17.65 mb",
   "id": "6d53c983f2787d9a"
  },
  {
   "metadata": {
    "ExecuteTime": {
     "end_time": "2025-02-05T12:54:34.997075Z",
     "start_time": "2025-02-05T12:54:34.989512Z"
    }
   },
   "cell_type": "code",
   "source": [
    "class Solution:\n",
    "    def checkIfPangram(self, sentence: str) -> bool:\n",
    "        if len(sentence) < 26:\n",
    "            return False\n",
    "        for i in range(97, 123):\n",
    "            # if chr(i) in sentence:\n",
    "                # sentence = sentence.replace(chr(i), '', 1)\n",
    "            if chr(i) not in sentence:\n",
    "                return False        \n",
    "        \n",
    "        return True\n",
    "        # if sentence == \"\":\n",
    "        #     return True\n",
    "        # else:\n",
    "        #     return False\n",
    "        \n",
    "\n",
    "if __name__ == \"__main__\":\n",
    "    s = Solution()\n",
    "    print(s.checkIfPangram(\"thequickbrownfoxjumpsoverthelazydog\"))\n",
    "    print(s.checkIfPangram(\"leetcode\"))\n",
    "        "
   ],
   "id": "initial_id",
   "outputs": [
    {
     "name": "stdout",
     "output_type": "stream",
     "text": [
      "True\n",
      "False\n"
     ]
    }
   ],
   "execution_count": 10
  }
 ],
 "metadata": {
  "kernelspec": {
   "display_name": "Python 3",
   "language": "python",
   "name": "python3"
  },
  "language_info": {
   "codemirror_mode": {
    "name": "ipython",
    "version": 2
   },
   "file_extension": ".py",
   "mimetype": "text/x-python",
   "name": "python",
   "nbconvert_exporter": "python",
   "pygments_lexer": "ipython2",
   "version": "2.7.6"
  }
 },
 "nbformat": 4,
 "nbformat_minor": 5
}
