{
 "cells": [
  {
   "metadata": {},
   "cell_type": "markdown",
   "source": [
    "# 螺旋矩阵\n",
    "\n",
    "https://leetcode.cn/problems/spiral-matrix?envType=daily-question&envId=2025-02-07"
   ],
   "id": "b48809412b0ade41"
  },
  {
   "metadata": {},
   "cell_type": "markdown",
   "source": [
    "给你一个 m 行 n 列的矩阵 matrix ，请按照 顺时针螺旋顺序 ，返回矩阵中的所有元素。\n",
    "\n",
    " \n",
    "\n",
    "示例 1：\n",
    "\n",
    "\n",
    ">输入：matrix = [[1,2,3],[4,5,6],[7,8,9]]\n",
    "> \n",
    ">输出：[1,2,3,6,9,8,7,4,5]\n",
    "\n",
    "示例 2：\n",
    "\n",
    "\n",
    ">输入：matrix = [[1,2,3,4],[5,6,7,8],[9,10,11,12]]\n",
    "> \n",
    ">输出：[1,2,3,4,8,12,11,10,9,5,6,7]\n",
    " \n",
    "\n",
    "提示：\n",
    "\n",
    "- `m == matrix.length`\n",
    "- `n == matrix[i].length`\n",
    "- `1 <= m, n <= 10`\n",
    "- `-100 <= matrix[i][j] <= 100`\n"
   ],
   "id": "aae0a805657d6bf9"
  },
  {
   "metadata": {},
   "cell_type": "markdown",
   "source": "## test",
   "id": "855b1aaaae0f817f"
  },
  {
   "metadata": {
    "ExecuteTime": {
     "end_time": "2025-02-07T03:49:01.363790Z",
     "start_time": "2025-02-07T03:49:01.355617Z"
    }
   },
   "cell_type": "code",
   "source": [
    "from typing import List\n",
    "\n",
    "matrix = [[1,2,3],[4,5,6],[7,8,9]]\n",
    "print(matrix[0])\n",
    "print(matrix[0][0])\n",
    "print(len(matrix[0]))  # 列数\n",
    "print(len(matrix))  # 行数"
   ],
   "id": "87948479b6cb3621",
   "outputs": [
    {
     "name": "stdout",
     "output_type": "stream",
     "text": [
      "[1, 2, 3]\n",
      "1\n",
      "3\n",
      "4\n"
     ]
    }
   ],
   "execution_count": 6
  },
  {
   "metadata": {},
   "cell_type": "markdown",
   "source": "## 0 ms, 17.77 mb",
   "id": "9c3922feb4a49e32"
  },
  {
   "cell_type": "code",
   "id": "initial_id",
   "metadata": {
    "collapsed": true,
    "ExecuteTime": {
     "end_time": "2025-02-07T04:36:55.807652Z",
     "start_time": "2025-02-07T04:36:55.791333Z"
    }
   },
   "source": [
    "DIRS = (0, 1), (1, 0), (0, -1), (-1, 0)  # 右下左上\n",
    "\n",
    "class Solution:\n",
    "    def spiralOrder(self, matrix: List[List[int]]) -> List[int]:\n",
    "        m, n = len(matrix), len(matrix[0])\n",
    "        ans = []\n",
    "        i = j = di = 0\n",
    "        for _ in range(m * n):  # 一共走 mn 步\n",
    "            ans.append(matrix[i][j])\n",
    "            matrix[i][j] = None  # 标记，表示已经访问过（已经加入答案）\n",
    "            x, y = i + DIRS[di][0], j + DIRS[di][1]  # 下一步的位置\n",
    "            # 如果 (x, y) 出界或者已经访问过\n",
    "            if x < 0 or x >= m or y < 0 or y >= n or matrix[x][y] is None:\n",
    "                di = (di + 1) % 4  # 右转 90°\n",
    "            i += DIRS[di][0]\n",
    "            j += DIRS[di][1]  # 走一步\n",
    "        return ans\n",
    "    \n",
    "    \n",
    "\n",
    "if __name__ == '__main__':\n",
    "    s = Solution()\n",
    "    print(s.spiralOrder([[1,2,3],[4,5,6],[7,8,9]]))\n",
    "                "
   ],
   "outputs": [
    {
     "name": "stdout",
     "output_type": "stream",
     "text": [
      "[1, 2, 3, 6, 9, 8, 7, 4, 5]\n"
     ]
    }
   ],
   "execution_count": 8
  }
 ],
 "metadata": {
  "kernelspec": {
   "display_name": "Python 3",
   "language": "python",
   "name": "python3"
  },
  "language_info": {
   "codemirror_mode": {
    "name": "ipython",
    "version": 2
   },
   "file_extension": ".py",
   "mimetype": "text/x-python",
   "name": "python",
   "nbconvert_exporter": "python",
   "pygments_lexer": "ipython2",
   "version": "2.7.6"
  }
 },
 "nbformat": 4,
 "nbformat_minor": 5
}
