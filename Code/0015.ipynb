{
 "cells": [
  {
   "metadata": {},
   "cell_type": "markdown",
   "source": [
    "# 三数之和\n",
    "\n",
    "https://leetcode.cn/problems/3sum"
   ],
   "id": "b2e01811cf3e25d5"
  },
  {
   "metadata": {},
   "cell_type": "markdown",
   "source": [
    "给你一个整数数组 nums ，判断是否存在三元组 [nums[i], nums[j], nums[k]] 满足 i != j、i != k 且 j != k ，同时还满足 nums[i] + nums[j] + nums[k] == 0 。请你返回所有和为 0 且不重复的三元组。\n",
    "\n",
    "注意：答案中不可以包含重复的三元组。\n",
    "\n",
    " \n",
    "\n",
    " \n",
    "\n",
    "示例 1：\n",
    "\n",
    "> 输入：nums = [-1,0,1,2,-1,-4]\n",
    "> \n",
    "> 输出：[[-1,-1,2],[-1,0,1]]\n",
    "> \n",
    "> 解释：\n",
    "> \n",
    "> nums[0] + nums[1] + nums[2] = (-1) + 0 + 1 = 0 。\n",
    "> \n",
    "> nums[1] + nums[2] + nums[4] = 0 + 1 + (-1) = 0 。\n",
    "> \n",
    "> nums[0] + nums[3] + nums[4] = (-1) + 2 + (-1) = 0 。\n",
    "> \n",
    "> 不同的三元组是 [-1,0,1] 和 [-1,-1,2] 。\n",
    "> \n",
    "> 注意，输出的顺序和三元组的顺序并不重要。\n",
    "\n",
    "示例 2：\n",
    "\n",
    "> 输入：nums = [0,1,1]\n",
    "> \n",
    "> 输出：[]\n",
    "> \n",
    "> 解释：唯一可能的三元组和不为 0 。\n",
    "\n",
    "示例 3：\n",
    "\n",
    "> 输入：nums = [0,0,0]\n",
    "> \n",
    "> 输出：[[0,0,0]]\n",
    "> \n",
    "> 解释：唯一可能的三元组和为 0 。\n",
    " \n",
    "\n",
    "提示：\n",
    "\n",
    "- 3 <= nums.length <= 3000\n",
    "- -105 <= nums[i] <= 105"
   ],
   "id": "d2a237bb468962a5"
  },
  {
   "cell_type": "code",
   "id": "initial_id",
   "metadata": {
    "collapsed": true,
    "ExecuteTime": {
     "end_time": "2025-02-10T13:42:28.513986Z",
     "start_time": "2025-02-10T13:42:28.507331Z"
    }
   },
   "source": [
    "from typing import List\n",
    "\n",
    "\n",
    "class Solution:\n",
    "    def threeSum(self, nums: List[int]) -> List[List[int]]:\n",
    "        ans = []\n",
    "        for i in range(len(nums) - 2):\n",
    "            for j in range(i + 1, len(nums) - 1):\n",
    "                for k in range(j + 1, len(nums)):\n",
    "                    if nums[i] + nums[j] + nums[k] == 0:\n",
    "                        ans.append([nums[i], nums[j], nums[k]])\n",
    "        return ans\n",
    "    \n",
    "    \n",
    "if __name__ == '__main__':\n",
    "    solution = Solution()\n",
    "    print(solution.threeSum(nums = [-1,0,1,2,-1,-4]))"
   ],
   "outputs": [
    {
     "name": "stdout",
     "output_type": "stream",
     "text": [
      "[[-1, 0, 1], [-1, 2, -1], [0, 1, -1]]\n"
     ]
    }
   ],
   "execution_count": 1
  }
 ],
 "metadata": {
  "kernelspec": {
   "display_name": "Python 3",
   "language": "python",
   "name": "python3"
  },
  "language_info": {
   "codemirror_mode": {
    "name": "ipython",
    "version": 2
   },
   "file_extension": ".py",
   "mimetype": "text/x-python",
   "name": "python",
   "nbconvert_exporter": "python",
   "pygments_lexer": "ipython2",
   "version": "2.7.6"
  }
 },
 "nbformat": 4,
 "nbformat_minor": 5
}
