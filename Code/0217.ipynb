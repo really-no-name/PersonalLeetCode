{
 "cells": [
  {
   "metadata": {},
   "cell_type": "markdown",
   "source": [
    "# 存在重复元素\n",
    "\n",
    "https://leetcode.cn/problems/contains-duplicate"
   ],
   "id": "867a00b65562b7ed"
  },
  {
   "metadata": {},
   "cell_type": "markdown",
   "source": [
    "给你一个整数数组 nums 。如果任一值在数组中出现 至少两次 ，返回 true ；如果数组中每个元素互不相同，返回 false 。\n",
    " \n",
    "\n",
    "示例 1：\n",
    "\n",
    "> 输入：nums = [1,2,3,1]\n",
    "> \n",
    "> 输出：true\n",
    "> \n",
    "> 解释：\n",
    "> \n",
    "> 元素 1 在下标 0 和 3 出现。\n",
    "\n",
    "示例 2：\n",
    "\n",
    "> 输入：nums = [1,2,3,4]\n",
    "> \n",
    "> 输出：false\n",
    "> \n",
    "> 解释：\n",
    "> \n",
    "> 所有元素都不同。\n",
    "\n",
    "示例 3：\n",
    "\n",
    "> 输入：nums = [1,1,1,3,3,4,3,2,4,2]\n",
    "> \n",
    "> 输出：true\n",
    "\n",
    " \n",
    "\n",
    "提示：\n",
    "\n",
    "- `1 <= nums.length <= 105`\n",
    "- `-109 <= nums[i] <= 109`"
   ],
   "id": "1cd2b24703bb715c"
  },
  {
   "metadata": {},
   "cell_type": "markdown",
   "source": "## 7 ms, 30.96 mb",
   "id": "d0dcc859adfc82b7"
  },
  {
   "cell_type": "code",
   "id": "initial_id",
   "metadata": {
    "collapsed": true,
    "ExecuteTime": {
     "end_time": "2025-02-07T06:17:24.743441Z",
     "start_time": "2025-02-07T06:17:24.725961Z"
    }
   },
   "source": [
    "from typing import List\n",
    "\n",
    "\n",
    "class Solution:\n",
    "    def containsDuplicate(self, nums: List[int]) -> bool:\n",
    "        # for i in range(len(nums)-1):\n",
    "        #     # for j in range(i+1,len(nums)):\n",
    "        #     #     if nums[i] == nums[j]:\n",
    "        #     #         return True\n",
    "        #     if nums.count(nums[i]) >= 2:\n",
    "        #         return True\n",
    "        if len(set(nums)) != len(nums):  # set 函数用于创建一个无序且不重复的元素集合\n",
    "            return True\n",
    "        else:\n",
    "            return False\n",
    "\n",
    "\n",
    "if __name__ == '__main__':\n",
    "    sol = Solution()\n",
    "    print(sol.containsDuplicate([1,2,3,1]))\n",
    "                    "
   ],
   "outputs": [
    {
     "name": "stdout",
     "output_type": "stream",
     "text": [
      "True\n"
     ]
    }
   ],
   "execution_count": 4
  }
 ],
 "metadata": {
  "kernelspec": {
   "display_name": "Python 3",
   "language": "python",
   "name": "python3"
  },
  "language_info": {
   "codemirror_mode": {
    "name": "ipython",
    "version": 2
   },
   "file_extension": ".py",
   "mimetype": "text/x-python",
   "name": "python",
   "nbconvert_exporter": "python",
   "pygments_lexer": "ipython2",
   "version": "2.7.6"
  }
 },
 "nbformat": 4,
 "nbformat_minor": 5
}
