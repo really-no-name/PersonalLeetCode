{
 "cells": [
  {
   "metadata": {},
   "cell_type": "markdown",
   "source": [
    "# 正则表达式匹配\n",
    "\n",
    "https://leetcode.cn/problems/regular-expression-matching"
   ],
   "id": "7b1f4a7118ec7c28"
  },
  {
   "metadata": {},
   "cell_type": "markdown",
   "source": [
    "给你一个字符串 s 和一个字符规律 p，请你来实现一个支持 '.' 和 '*' 的正则表达式匹配。\n",
    "\n",
    "'.' 匹配任意单个字符\n",
    "'*' 匹配零个或多个前面的那一个元素\n",
    "所谓匹配，是要涵盖 整个 字符串 s 的，而不是部分字符串。\n",
    "\n",
    " \n",
    "示例 1：\n",
    "\n",
    "> 输入：s = \"aa\", p = \"a\"\n",
    "> \n",
    "> 输出：false\n",
    "> \n",
    "> 解释：\"a\" 无法匹配 \"aa\" 整个字符串。\n",
    "\n",
    "示例 2:\n",
    "\n",
    "> 输入：s = \"aa\", p = \"a*\"\n",
    "> \n",
    "> 输出：true\n",
    "> \n",
    "> 解释：因为 '*' 代表可以匹配零个或多个前面的那一个元素, 在这里前面的元素就是 'a'。因此，字符串 \"aa\" 可被视为 'a' 重复了一次。\n",
    "\n",
    "示例 3：\n",
    "\n",
    "> 输入：s = \"ab\", p = \".*\"\n",
    "> \n",
    "> 输出：true\n",
    "> \n",
    "> 解释：\".*\" 表示可匹配零个或多个（'*'）任意字符（'.'）。\n",
    " \n",
    "\n",
    "提示：\n",
    "\n",
    "- 1 <= s.length <= 20\n",
    "- 1 <= p.length <= 20\n",
    "- s 只包含从 a-z 的小写字母。\n",
    "- p 只包含从 a-z 的小写字母，以及字符 . 和 *。\n",
    "- 保证每次出现字符 * 时，前面都匹配到有效的字符"
   ],
   "id": "bc72990787f6f752"
  },
  {
   "metadata": {},
   "cell_type": "markdown",
   "source": "## 7 ms, 17.46 mb",
   "id": "76f05882757bbd96"
  },
  {
   "cell_type": "code",
   "id": "initial_id",
   "metadata": {
    "collapsed": true,
    "ExecuteTime": {
     "end_time": "2025-02-12T04:29:03.820165Z",
     "start_time": "2025-02-12T04:29:03.812198Z"
    }
   },
   "source": [
    "class Solution:\n",
    "    def isMatch(self, s: str, p: str) -> bool:\n",
    "        m, n = len(s), len(p)\n",
    "        dp = [[False] * (n + 1) for _ in range(m + 1)]\n",
    "        dp[0][0] = True  # 空字符串和空模式匹配\n",
    "        \n",
    "        # 处理模式中的 '*'，初始化 dp[0][j]\n",
    "        for j in range(2, n + 1):\n",
    "            if p[j - 1] == '*':\n",
    "                dp[0][j] = dp[0][j - 2]\n",
    "        \n",
    "        # 填充 dp 表\n",
    "        for i in range(1, m + 1):\n",
    "            for j in range(1, n + 1):\n",
    "                if p[j - 1] == '*':\n",
    "                    # 两种情况：\n",
    "                    # 1. '*' 匹配零个前面的元素（即忽略 '*' 和它前面的字符）\n",
    "                    # 2. '*' 匹配一个或多个前面的元素（即当前字符与模式的前一个字符匹配）\n",
    "                    dp[i][j] = dp[i][j - 2] or (dp[i - 1][j] and (s[i - 1] == p[j - 2] or p[j - 2] == '.'))\n",
    "                else:\n",
    "                    # 当前字符匹配，且前面的字符也匹配\n",
    "                    dp[i][j] = dp[i - 1][j - 1] and (s[i - 1] == p[j - 1] or p[j - 1] == '.')\n",
    "        \n",
    "        return dp[m][n]\n",
    "    \n",
    "    \n",
    "\n",
    "if __name__ == '__main__':\n",
    "    sol = Solution()\n",
    "    print(sol.isMatch(\"aa\", \"a*\"))"
   ],
   "outputs": [
    {
     "name": "stdout",
     "output_type": "stream",
     "text": [
      "True\n"
     ]
    }
   ],
   "execution_count": 1
  }
 ],
 "metadata": {
  "kernelspec": {
   "display_name": "Python 3",
   "language": "python",
   "name": "python3"
  },
  "language_info": {
   "codemirror_mode": {
    "name": "ipython",
    "version": 2
   },
   "file_extension": ".py",
   "mimetype": "text/x-python",
   "name": "python",
   "nbconvert_exporter": "python",
   "pygments_lexer": "ipython2",
   "version": "2.7.6"
  }
 },
 "nbformat": 4,
 "nbformat_minor": 5
}
