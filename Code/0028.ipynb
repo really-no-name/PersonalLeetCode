{
 "cells": [
  {
   "metadata": {},
   "cell_type": "markdown",
   "source": [
    "# 找出字符串中第一个匹配项的下标\n",
    "\n",
    "https://leetcode.cn/problems/find-the-index-of-the-first-occurrence-in-a-string"
   ],
   "id": "a5426d785620848c"
  },
  {
   "metadata": {},
   "cell_type": "markdown",
   "source": [
    "给你两个字符串 haystack 和 needle ，请你在 haystack 字符串中找出 needle 字符串的第一个匹配项的下标（下标从 0 开始）。如果 needle 不是 haystack 的一部分，则返回  -1 。\n",
    "\n",
    " \n",
    "\n",
    "示例 1：\n",
    "\n",
    "> 输入：`haystack = \"sadbutsad\"`, `needle = \"sad\"`\n",
    "> \n",
    "> 输出：0\n",
    "> \n",
    "> 解释：\"sad\" 在下标 0 和 6 处匹配。\n",
    "> \n",
    "> 第一个匹配项的下标是 0 ，所以返回 0 。\n",
    "\n",
    "示例 2：\n",
    "\n",
    "> 输入：`haystack = \"leetcode\"`, `needle = \"leeto\"`\n",
    "> \n",
    "> 输出：-1\n",
    "> \n",
    "> 解释：\"leeto\" 没有在 \"leetcode\" 中出现，所以返回 -1 。\n",
    " \n",
    "\n",
    "提示：\n",
    "\n",
    "- `1 <= haystack.length, needle.length <= 104`\n",
    "- haystack 和 needle 仅由小写英文字符组成"
   ],
   "id": "96f3978b3a063193"
  },
  {
   "metadata": {},
   "cell_type": "markdown",
   "source": "## test",
   "id": "f388de445dd3ed93"
  },
  {
   "cell_type": "code",
   "id": "initial_id",
   "metadata": {
    "collapsed": true,
    "ExecuteTime": {
     "end_time": "2025-02-10T13:02:28.386887Z",
     "start_time": "2025-02-10T13:02:28.377742Z"
    }
   },
   "source": [
    "haystack = \"leetcode\"\n",
    "needle = \"leeto\"\n",
    "print(needle in haystack)\n",
    "print(len(needle))\n",
    "print(haystack[0:5])"
   ],
   "outputs": [
    {
     "name": "stdout",
     "output_type": "stream",
     "text": [
      "False\n",
      "5\n",
      "leetc\n"
     ]
    }
   ],
   "execution_count": 3
  },
  {
   "metadata": {},
   "cell_type": "markdown",
   "source": "## 0 ms, 17.43 mb",
   "id": "126e7fdaa5874bed"
  },
  {
   "metadata": {
    "ExecuteTime": {
     "end_time": "2025-02-10T13:03:32.983996Z",
     "start_time": "2025-02-10T13:03:32.975028Z"
    }
   },
   "cell_type": "code",
   "source": [
    "class Solution:\n",
    "    def strStr(self, haystack: str, needle: str) -> int:\n",
    "        if needle not in haystack:\n",
    "            return -1\n",
    "        else:\n",
    "            for i in range(len(haystack)):\n",
    "                if haystack[i: i + len(needle)] == needle:\n",
    "                    return i\n",
    "            \n",
    "            \n",
    "if __name__ == '__main__':\n",
    "    sol = Solution()\n",
    "    haystack = \"leetcode\"\n",
    "    needle = \"leeto\"\n",
    "    print(sol.strStr(haystack, needle))\n",
    "    print(sol.strStr(haystack = \"sadbutsad\", needle = \"sad\"))"
   ],
   "id": "3789985d06b66afb",
   "outputs": [
    {
     "name": "stdout",
     "output_type": "stream",
     "text": [
      "-1\n",
      "0\n"
     ]
    }
   ],
   "execution_count": 5
  }
 ],
 "metadata": {
  "kernelspec": {
   "display_name": "Python 3",
   "language": "python",
   "name": "python3"
  },
  "language_info": {
   "codemirror_mode": {
    "name": "ipython",
    "version": 2
   },
   "file_extension": ".py",
   "mimetype": "text/x-python",
   "name": "python",
   "nbconvert_exporter": "python",
   "pygments_lexer": "ipython2",
   "version": "2.7.6"
  }
 },
 "nbformat": 4,
 "nbformat_minor": 5
}
