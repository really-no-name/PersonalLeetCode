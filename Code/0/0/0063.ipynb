{
 "cells": [
  {
   "metadata": {},
   "cell_type": "markdown",
   "source": [
    "# 不同路径 II\n",
    "\n",
    "https://leetcode.cn/problems/unique-paths-ii?envType=daily-question&envId=2025-02-08"
   ],
   "id": "7638f3018133949e"
  },
  {
   "metadata": {},
   "cell_type": "markdown",
   "source": [
    "给定一个 m x n 的整数数组 grid。一个机器人初始位于 左上角（即 grid[0][0]）。机器人尝试移动到 右下角（即 grid[m - 1][n - 1]）。机器人每次只能向下或者向右移动一步。\n",
    "\n",
    "网格中的障碍物和空位置分别用 1 和 0 来表示。机器人的移动路径中不能包含 任何 有障碍物的方格。\n",
    "\n",
    "返回机器人能够到达右下角的不同路径数量。\n",
    "\n",
    "测试用例保证答案小于等于 2 * 109。\n",
    "\n",
    " \n",
    "\n",
    "示例 1：\n",
    "\n",
    "\n",
    "> 输入：obstacleGrid = [[0,0,0],[0,1,0],[0,0,0]]\n",
    "> \n",
    "> 输出：2\n",
    "> \n",
    "> 解释：3x3 网格的正中间有一个障碍物。\n",
    "> \n",
    "> 从左上角到右下角一共有 2 条不同的路径：\n",
    "> 1. 向右 -> 向右 -> 向下 -> 向下\n",
    "> 2. 向下 -> 向下 -> 向右 -> 向右\n",
    "\n",
    "示例 2：\n",
    "\n",
    "\n",
    "> 输入：obstacleGrid = [[0,1],[0,0]]\n",
    "> \n",
    "> 输出：1\n",
    " \n",
    "\n",
    "提示：\n",
    "\n",
    "- `m == obstacleGrid.length`\n",
    "- `n == obstacleGrid[i].length`\n",
    "- `1 <= m, n <= 100`\n",
    "- `obstacleGrid[i][j]` 为 0 或 1"
   ],
   "id": "5d00d3a4d56fead3"
  },
  {
   "metadata": {},
   "cell_type": "markdown",
   "source": "## 3 ms, 17.75 mb",
   "id": "4f9717422540cf1e"
  },
  {
   "cell_type": "code",
   "id": "initial_id",
   "metadata": {
    "collapsed": true,
    "ExecuteTime": {
     "end_time": "2025-02-08T05:56:54.146851Z",
     "start_time": "2025-02-08T05:56:54.132699Z"
    }
   },
   "source": [
    "from functools import cache\n",
    "from typing import List\n",
    "\n",
    "\n",
    "class Solution:\n",
    "    def uniquePathsWithObstacles(self, obstacleGrid: List[List[int]]) -> int:\n",
    "        @cache  # 缓存装饰器，避免重复计算 dfs 的结果（一行代码实现记忆化）\n",
    "        def dfs(i: int, j: int) -> int:\n",
    "            if i < 0 or j < 0 or obstacleGrid[i][j]:\n",
    "                return 0\n",
    "            if i == 0 and j == 0:\n",
    "                return 1\n",
    "            return dfs(i - 1, j) + dfs(i, j - 1)\n",
    "\n",
    "        m, n = len(obstacleGrid), len(obstacleGrid[0])\n",
    "        return dfs(m - 1, n - 1)\n",
    "\n",
    "\n",
    "if __name__ == '__main__':\n",
    "    s = Solution()\n",
    "    print(s.uniquePathsWithObstacles(obstacleGrid=[[0,0,0],[0,1,0],[0,0,0]]))"
   ],
   "outputs": [
    {
     "name": "stdout",
     "output_type": "stream",
     "text": [
      "2\n"
     ]
    }
   ],
   "execution_count": 2
  }
 ],
 "metadata": {
  "kernelspec": {
   "display_name": "Python 3",
   "language": "python",
   "name": "python3"
  },
  "language_info": {
   "codemirror_mode": {
    "name": "ipython",
    "version": 2
   },
   "file_extension": ".py",
   "mimetype": "text/x-python",
   "name": "python",
   "nbconvert_exporter": "python",
   "pygments_lexer": "ipython2",
   "version": "2.7.6"
  }
 },
 "nbformat": 4,
 "nbformat_minor": 5
}
