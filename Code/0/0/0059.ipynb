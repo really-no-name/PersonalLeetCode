{
 "cells": [
  {
   "metadata": {},
   "cell_type": "markdown",
   "source": [
    "# 螺旋矩阵 II\n",
    "\n",
    "https://leetcode.cn/problems/spiral-matrix-ii?envType=daily-question&envId=2025-02-07"
   ],
   "id": "f2a2019a65bd55dc"
  },
  {
   "metadata": {},
   "cell_type": "markdown",
   "source": [
    "给你一个正整数 n ，生成一个包含 1 到 n2 所有元素，且元素按顺时针顺序螺旋排列的 n x n 正方形矩阵 matrix 。\n",
    "\n",
    " \n",
    "\n",
    "示例 1：\n",
    "\n",
    "\n",
    "> 输入：n = 3\n",
    "> \n",
    "> 输出：[[1,2,3],[8,9,4],[7,6,5]]\n",
    "\n",
    "示例 2：\n",
    "\n",
    "> 输入：n = 1\n",
    "> \n",
    "> 输出：[[1]]\n",
    " \n",
    "\n",
    "提示：\n",
    "\n",
    "- `1 <= n <= 20`"
   ],
   "id": "8d92aabe90b10a00"
  },
  {
   "metadata": {},
   "cell_type": "markdown",
   "source": "## 0 ms, 17.55 mb",
   "id": "3a2dd569ba07fc9c"
  },
  {
   "cell_type": "code",
   "id": "initial_id",
   "metadata": {
    "collapsed": true,
    "ExecuteTime": {
     "end_time": "2025-02-07T06:05:43.114315Z",
     "start_time": "2025-02-07T06:05:43.108105Z"
    }
   },
   "source": [
    "from typing import List\n",
    "\n",
    "DIRS = (0, 1), (1, 0), (0, -1), (-1, 0)  # 右下左上\n",
    "\n",
    "class Solution:\n",
    "    def generateMatrix(self, n: int) -> List[List[int]]:\n",
    "        ans = [[0] * n for _ in range(n)]\n",
    "        i = j = di = 0\n",
    "        for val in range(1, n * n + 1):  # 要填入的数\n",
    "            ans[i][j] = val\n",
    "            x, y = i + DIRS[di][0], j + DIRS[di][1]  # 下一步的位置\n",
    "            # 如果 (x, y) 出界或者已经填入数字\n",
    "            if x < 0 or x >= n or y < 0 or y >= n or ans[x][y]:\n",
    "                di = (di + 1) % 4  # 右转 90°\n",
    "            i += DIRS[di][0]\n",
    "            j += DIRS[di][1]  # 走一步\n",
    "        return ans\n",
    "    \n",
    "\n",
    "if __name__ == '__main__':\n",
    "    s = Solution()\n",
    "    print(s.generateMatrix(3))"
   ],
   "outputs": [
    {
     "name": "stdout",
     "output_type": "stream",
     "text": [
      "[[1, 2, 3], [8, 9, 4], [7, 6, 5]]\n"
     ]
    }
   ],
   "execution_count": 1
  }
 ],
 "metadata": {
  "kernelspec": {
   "display_name": "Python 3",
   "language": "python",
   "name": "python3"
  },
  "language_info": {
   "codemirror_mode": {
    "name": "ipython",
    "version": 2
   },
   "file_extension": ".py",
   "mimetype": "text/x-python",
   "name": "python",
   "nbconvert_exporter": "python",
   "pygments_lexer": "ipython2",
   "version": "2.7.6"
  }
 },
 "nbformat": 4,
 "nbformat_minor": 5
}
