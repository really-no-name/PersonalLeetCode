{
 "cells": [
  {
   "metadata": {},
   "cell_type": "markdown",
   "source": "# 组合总和II",
   "id": "3c708dd77ea2d299"
  },
  {
   "metadata": {},
   "cell_type": "markdown",
   "source": [
    "给定一个候选人编号的集合 `candidates` 和一个目标数 `target` ，找出 `candidates` 中所有可以使数字和为 `target` 的组合。\n",
    "\n",
    "`candidates` 中的每个数字在每个组合中只能使用 **一次** 。\n",
    "\n",
    "注意：解集不能包含重复的组合。 \n",
    "\n",
    " \n",
    "\n",
    "示例 1:\n",
    "\n",
    "输入: `candidates = [10,1,2,7,6,1,5]`, `target = 8`,\n",
    "输出:\n",
    "```\n",
    "[\n",
    "[1,1,6],\n",
    "[1,2,5],\n",
    "[1,7],\n",
    "[2,6]\n",
    "]\n",
    "```\n",
    "\n",
    "示例 2:\n",
    "\n",
    "输入: `candidates = [2,5,2,1,2]`, `target = 5`,\n",
    "输出:\n",
    "```\n",
    "[\n",
    "[1,2,2],\n",
    "[5]\n",
    "]\n",
    "``` \n",
    "\n",
    "提示:\n",
    "\n",
    "- `1 <= candidates.length <= 100`\n",
    "- `1 <= candidates[i] <= 50`\n",
    "- `1 <= target <= 30`"
   ],
   "id": "9c462523fa26c561"
  },
  {
   "cell_type": "code",
   "execution_count": null,
   "id": "initial_id",
   "metadata": {
    "collapsed": true
   },
   "outputs": [],
   "source": [
    "candidates = [10, 1, 2, 7, 6, 1, 5]\n",
    "target = 8\n",
    "out = []\n",
    "\n",
    "for i in range(0, len(candidates)):\n",
    "    "
   ]
  },
  {
   "metadata": {},
   "cell_type": "code",
   "outputs": [],
   "execution_count": null,
   "source": [
    "class Solution:\n",
    "    def combinationSum2(self, candidates: List[int], target: int) -> List[List[int]]:\n",
    "        "
   ],
   "id": "ada53acbe7a5e6e"
  }
 ],
 "metadata": {
  "kernelspec": {
   "display_name": "Python 3",
   "language": "python",
   "name": "python3"
  },
  "language_info": {
   "codemirror_mode": {
    "name": "ipython",
    "version": 2
   },
   "file_extension": ".py",
   "mimetype": "text/x-python",
   "name": "python",
   "nbconvert_exporter": "python",
   "pygments_lexer": "ipython2",
   "version": "2.7.6"
  }
 },
 "nbformat": 4,
 "nbformat_minor": 5
}
