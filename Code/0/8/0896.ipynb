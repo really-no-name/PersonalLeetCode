{
 "cells": [
  {
   "metadata": {},
   "cell_type": "markdown",
   "source": [
    "# 单调数列\n",
    "\n",
    "https://leetcode.cn/problems/monotonic-array"
   ],
   "id": "77e22829b789bcaa"
  },
  {
   "metadata": {},
   "cell_type": "markdown",
   "source": [
    "如果数组是单调递增或单调递减的，那么它是 单调 的。\n",
    "\n",
    "如果对于所有 i <= j，nums[i] <= nums[j]，那么数组 nums 是单调递增的。 如果对于所有 i <= j，nums[i] >= nums[j]，那么数组 nums 是单调递减的。\n",
    "\n",
    "当给定的数组 nums 是单调数组时返回 true，否则返回 false。\n",
    "\n",
    " \n",
    "\n",
    "示例 1：\n",
    "```\n",
    "输入：nums = [1,2,2,3]\n",
    "输出：true\n",
    "```\n",
    "示例 2：\n",
    "```\n",
    "输入：nums = [6,5,4,4]\n",
    "输出：true\n",
    "```\n",
    "示例 3：\n",
    "```\n",
    "输入：nums = [1,3,2]\n",
    "输出：false\n",
    " ```\n",
    "\n",
    "提示：\n",
    "\n",
    "- 1 <= nums.length <= 105\n",
    "- -105 <= nums[i] <= 105"
   ],
   "id": "40f24d9e4292dce2"
  },
  {
   "metadata": {},
   "cell_type": "markdown",
   "source": "## test",
   "id": "4a02fb47dd547b40"
  },
  {
   "metadata": {
    "ExecuteTime": {
     "end_time": "2025-02-05T13:55:45.368631Z",
     "start_time": "2025-02-05T13:55:45.363652Z"
    }
   },
   "cell_type": "code",
   "source": [
    "nums = [1,2,2,3]\n",
    "print(nums[0])\n",
    "print(nums[-1])"
   ],
   "id": "99b47ff597a569db",
   "outputs": [
    {
     "name": "stdout",
     "output_type": "stream",
     "text": [
      "1\n",
      "3\n"
     ]
    }
   ],
   "execution_count": 1
  },
  {
   "metadata": {},
   "cell_type": "markdown",
   "source": "## 15 ms, 28.46 mb",
   "id": "2e31e98ce84411c6"
  },
  {
   "cell_type": "code",
   "id": "initial_id",
   "metadata": {
    "collapsed": true,
    "ExecuteTime": {
     "end_time": "2025-02-05T14:00:22.866158Z",
     "start_time": "2025-02-05T14:00:22.851333Z"
    }
   },
   "source": [
    "from typing import List\n",
    "\n",
    "\n",
    "class Solution:\n",
    "    def isMonotonic(self, nums: List[int]) -> bool:\n",
    "        if len(nums) == 1:\n",
    "            return True\n",
    "        else:\n",
    "            i = 0\n",
    "            if nums[0] < nums[-1]:  # 增\n",
    "                for i in range(len(nums) - 1):\n",
    "                    if nums[i] > nums[i+1]:\n",
    "                        return False\n",
    "            elif nums[0] > nums[-1]:   # 减\n",
    "                for i in range(len(nums) - 1):\n",
    "                    if nums[i] < nums[i+1]:\n",
    "                        return False\n",
    "            else:\n",
    "               for i in range(len(nums) - 1):\n",
    "                    if nums[i] != nums[i+1]:\n",
    "                        return False\n",
    "            return True\n",
    "\n",
    "\n",
    "if __name__ == \"__main__\":\n",
    "    s = Solution()\n",
    "    print(s.isMonotonic([1,2,2,3]))\n",
    "                "
   ],
   "outputs": [
    {
     "name": "stdout",
     "output_type": "stream",
     "text": [
      "True\n"
     ]
    }
   ],
   "execution_count": 5
  }
 ],
 "metadata": {
  "kernelspec": {
   "display_name": "Python 3",
   "language": "python",
   "name": "python3"
  },
  "language_info": {
   "codemirror_mode": {
    "name": "ipython",
    "version": 2
   },
   "file_extension": ".py",
   "mimetype": "text/x-python",
   "name": "python",
   "nbconvert_exporter": "python",
   "pygments_lexer": "ipython2",
   "version": "2.7.6"
  }
 },
 "nbformat": 4,
 "nbformat_minor": 5
}
