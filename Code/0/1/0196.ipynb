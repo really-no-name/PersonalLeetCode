{
 "cells": [
  {
   "metadata": {},
   "cell_type": "markdown",
   "source": [
    "# 删除重复的电子邮箱\n",
    "\n",
    "https://leetcode.cn/problems/delete-duplicate-emails"
   ],
   "id": "1d8c51e410ed3d11"
  },
  {
   "metadata": {},
   "cell_type": "markdown",
   "source": [
    "表: Person\n",
    "```\n",
    "+-------------+---------+\n",
    "| Column Name | Type    |\n",
    "+-------------+---------+\n",
    "| id          | int     |\n",
    "| email       | varchar |\n",
    "+-------------+---------+\n",
    "```\n",
    "id 是该表的主键列(具有唯一值的列)。\n",
    "该表的每一行包含一封电子邮件。电子邮件将不包含大写字母。\n",
    " \n",
    "\n",
    "编写解决方案 删除 所有重复的电子邮件，只保留一个具有最小 id 的唯一电子邮件。\n",
    "\n",
    "（对于 SQL 用户，请注意你应该编写一个 DELETE 语句而不是 SELECT 语句。）\n",
    "\n",
    "（对于 Pandas 用户，请注意你应该直接修改 Person 表。）\n",
    "\n",
    "运行脚本后，显示的答案是 Person 表。驱动程序将首先编译并运行您的代码片段，然后再显示 Person 表。Person 表的最终顺序 无关紧要 。\n",
    "\n",
    "返回结果格式如下示例所示。\n",
    "\n",
    " \n",
    "\n",
    "示例 1:\n",
    "\n",
    "输入: \n",
    "Person 表:\n",
    "```\n",
    "+----+------------------+\n",
    "| id | email            |\n",
    "+----+------------------+\n",
    "| 1  | john@example.com |\n",
    "| 2  | bob@example.com  |\n",
    "| 3  | john@example.com |\n",
    "+----+------------------+\n",
    "```\n",
    "输出: \n",
    "```\n",
    "+----+------------------+\n",
    "| id | email            |\n",
    "+----+------------------+\n",
    "| 1  | john@example.com |\n",
    "| 2  | bob@example.com  |\n",
    "+----+------------------+\n",
    "```\n",
    "解释: john@example.com重复两次。我们保留最小的Id = 1。"
   ],
   "id": "81aee2a69a230a02"
  },
  {
   "metadata": {},
   "cell_type": "markdown",
   "source": "## 238 ms, 66.52 mb",
   "id": "221b64cedeae7a3f"
  },
  {
   "cell_type": "code",
   "id": "initial_id",
   "metadata": {
    "collapsed": true,
    "ExecuteTime": {
     "end_time": "2025-02-04T14:15:07.709653Z",
     "start_time": "2025-02-04T14:15:07.657759Z"
    }
   },
   "source": [
    "import pandas as pd\n",
    "\n",
    "def delete_duplicate_emails(person: pd.DataFrame) -> None:\n",
    "    \"\"\"\n",
    "    删除重复的电子邮件，保留每个电子邮件的最小 id 记录。\n",
    "    直接修改传入的 DataFrame。\n",
    "    \"\"\"\n",
    "    # 按 id 排序\n",
    "    person.sort_values(by='id', inplace=True)    \n",
    "    # 按 email 分组，并保留每个组中 id 最小的记录\n",
    "    person.drop_duplicates(subset='email', keep='first', inplace=True)\n",
    "    \n",
    "\n",
    "if __name__ == '__main__':\n",
    "    person = {\n",
    "        'id': [2, 1],\n",
    "        'email': ['abc@efg.com', 'abc@efg.com']\n",
    "        }\n",
    "    df = pd.DataFrame(person)\n",
    "    print(df)\n",
    "    delete_duplicate_emails(person=df)\n",
    "    print(df)"
   ],
   "outputs": [
    {
     "name": "stdout",
     "output_type": "stream",
     "text": [
      "   id        email\n",
      "0   2  abc@efg.com\n",
      "1   1  abc@efg.com\n",
      "   id        email\n",
      "1   1  abc@efg.com\n"
     ]
    }
   ],
   "execution_count": 4
  }
 ],
 "metadata": {
  "kernelspec": {
   "display_name": "Python 3",
   "language": "python",
   "name": "python3"
  },
  "language_info": {
   "codemirror_mode": {
    "name": "ipython",
    "version": 2
   },
   "file_extension": ".py",
   "mimetype": "text/x-python",
   "name": "python",
   "nbconvert_exporter": "python",
   "pygments_lexer": "ipython2",
   "version": "2.7.6"
  }
 },
 "nbformat": 4,
 "nbformat_minor": 5
}
