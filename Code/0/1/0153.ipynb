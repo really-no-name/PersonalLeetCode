{
 "cells": [
  {
   "metadata": {},
   "cell_type": "markdown",
   "source": "# 寻找旋转排序数组中的最小值",
   "id": "eccccd2049d418ce"
  },
  {
   "metadata": {},
   "cell_type": "markdown",
   "source": [
    "已知一个长度为 `n` 的数组，预先按照升序排列，经由 `1` 到 `n` 次 旋转 后，得到输入数组。例如，原数组 `nums = [0,1,2,4,5,6,7]` 在变化后可能得到：\n",
    "\n",
    "- 若旋转 `4` 次，则可以得到 `[4,5,6,7,0,1,2]`\n",
    "- 若旋转 `7` 次，则可以得到 `[0,1,2,4,5,6,7]`\n",
    "\n",
    "注意，数组 `[a[0], a[1], a[2], ..., a[n-1]]` **旋转一次** 的结果为数组 `[a[n-1], a[0], a[1], a[2], ..., a[n-2]]` 。\n",
    "\n",
    "给你一个元素值 **互不相同** 的数组 `nums` ，它原来是一个升序排列的数组，并按上述情形进行了多次旋转。请你找出并返回数组中的 **最小元素** 。\n",
    "\n",
    "你必须设计一个时间复杂度为 `O(log n)` 的算法解决此问题。\n",
    "\n",
    " \n",
    "\n",
    "示例 1：\n",
    "\n",
    "输入：`nums = [3,4,5,1,2]`\n",
    "\n",
    "输出：1\n",
    "\n",
    "解释：原数组为 `[1,2,3,4,5]` ，旋转 3 次得到输入数组。\n",
    "\n",
    "示例 2：\n",
    "\n",
    "输入：`nums = [4,5,6,7,0,1,2]`\n",
    "\n",
    "输出：0\n",
    "\n",
    "解释：原数组为 `[0,1,2,4,5,6,7]` ，旋转 4 次得到输入数组。\n",
    "\n",
    "示例 3：\n",
    "\n",
    "输入：`nums = [11,13,15,17]`\n",
    "\n",
    "输出：11\n",
    "\n",
    "解释：原数组为 `[11,13,15,17]` ，旋转 4 次得到输入数组。\n",
    " \n",
    "\n",
    "提示：\n",
    "\n",
    "- `n == nums.length`\n",
    "- `1 <= n <= 5000`\n",
    "- `-5000 <= nums[i] <= 5000`\n",
    "- `nums 中的所有整数 互不相同`\n",
    "- `nums 原来是一个升序排序的数组，并进行了 1 至 n 次旋转`"
   ],
   "id": "3b4fbbaad17c1b5f"
  },
  {
   "metadata": {},
   "cell_type": "markdown",
   "source": "## 0 ms, 17.95 mb",
   "id": "89cae8f47cf13873"
  },
  {
   "metadata": {
    "ExecuteTime": {
     "end_time": "2025-02-02T14:06:28.296925Z",
     "start_time": "2025-02-02T14:06:28.267334Z"
    }
   },
   "cell_type": "code",
   "source": [
    "from typing import List\n",
    "\n",
    "\n",
    "class Solution:\n",
    "    def findMin(self, nums: List[int]) -> int:\n",
    "        left, right = -1, len(nums) - 1\n",
    "        while left + 1 < right:\n",
    "            mid = (left + right) // 2\n",
    "            if nums[mid] < nums[-1]:\n",
    "                right = mid\n",
    "            else:\n",
    "                left = mid\n",
    "        return nums[right]\n",
    "    \n",
    "if __name__ == '__main__':\n",
    "    sol = Solution()\n",
    "    nums = [3,4,5,1,2]\n",
    "    print(sol.findMin(nums))"
   ],
   "id": "9991e25cc2f8b82",
   "outputs": [
    {
     "name": "stdout",
     "output_type": "stream",
     "text": [
      "1\n"
     ]
    }
   ],
   "execution_count": 2
  },
  {
   "cell_type": "code",
   "execution_count": null,
   "id": "initial_id",
   "metadata": {
    "collapsed": true
   },
   "outputs": [],
   "source": [
    ""
   ]
  }
 ],
 "metadata": {
  "kernelspec": {
   "display_name": "Python 3",
   "language": "python",
   "name": "python3"
  },
  "language_info": {
   "codemirror_mode": {
    "name": "ipython",
    "version": 2
   },
   "file_extension": ".py",
   "mimetype": "text/x-python",
   "name": "python",
   "nbconvert_exporter": "python",
   "pygments_lexer": "ipython2",
   "version": "2.7.6"
  }
 },
 "nbformat": 4,
 "nbformat_minor": 5
}
