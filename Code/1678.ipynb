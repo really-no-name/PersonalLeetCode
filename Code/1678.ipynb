{
 "cells": [
  {
   "metadata": {},
   "cell_type": "markdown",
   "source": [
    "# 设计 Goal 解析器\n",
    "\n",
    "https://leetcode.cn/problems/goal-parser-interpretation"
   ],
   "id": "ddfdd60cbeb9d811"
  },
  {
   "metadata": {},
   "cell_type": "markdown",
   "source": [
    "请你设计一个可以解释字符串 `command` 的 `Goal` 解析器 。`command` 由 `\"G\"`、`\"()\"` 和/或 `\"(al)\"` 按某种顺序组成。`Goal` 解析器会将 `\"G\"` 解释为字符串 `\"G\"`、`\"()\"` 解释为字符串 `\"o\"` ，`\"(al)\"` 解释为字符串 `\"al\"` 。然后，按原顺序将经解释得到的字符串连接成一个字符串。\n",
    "\n",
    "给你字符串 `command` ，返回 **Goal 解析器** 对 `command` 的解释结果。\n",
    "\n",
    " \n",
    "\n",
    "示例 1：\n",
    "\n",
    "输入：command = \"G()(al)\"\n",
    "\n",
    "输出：\"Goal\"\n",
    "\n",
    "解释：Goal 解析器解释命令的步骤如下所示：\n",
    "\n",
    "G -> G\n",
    "\n",
    "() -> o\n",
    "\n",
    "(al) -> al\n",
    "\n",
    "最后连接得到的结果是 \"Goal\"\n",
    "\n",
    "示例 2：\n",
    "\n",
    "输入：command = \"G()()()()(al)\"\n",
    "\n",
    "输出：\"Gooooal\"\n",
    "\n",
    "示例 3：\n",
    "\n",
    "输入：command = \"(al)G(al)()()G\"\n",
    "\n",
    "输出：\"alGalooG\"\n",
    " \n",
    "\n",
    "提示：\n",
    "\n",
    "- `1 <= command.length <= 100`\n",
    "- `command` 由 \"G\"、\"()\" 和/或 \"(al)\" 按某种顺序组成"
   ],
   "id": "c8d2de286410681b"
  },
  {
   "metadata": {},
   "cell_type": "markdown",
   "source": "## 0 ms, 17.68mb",
   "id": "3cfe320e3c9cd988"
  },
  {
   "cell_type": "code",
   "id": "initial_id",
   "metadata": {
    "collapsed": true,
    "ExecuteTime": {
     "end_time": "2025-02-04T01:44:29.905419Z",
     "start_time": "2025-02-04T01:44:29.891385Z"
    }
   },
   "source": [
    "class Solution:\n",
    "    def interpret(self, command: str) -> str:\n",
    "        return command.replace('()', 'o').replace('(al)', 'al')\n",
    "        \n",
    "\n",
    "if __name__ == '__main__':\n",
    "    sol = Solution()\n",
    "    print(sol.interpret(\"G()(al)\"))\n",
    "    print(sol.interpret(\"G()()()()(al)\"))"
   ],
   "outputs": [
    {
     "name": "stdout",
     "output_type": "stream",
     "text": [
      "Goal\n",
      "Gooooal\n"
     ]
    }
   ],
   "execution_count": 9
  }
 ],
 "metadata": {
  "kernelspec": {
   "display_name": "Python 3",
   "language": "python",
   "name": "python3"
  },
  "language_info": {
   "codemirror_mode": {
    "name": "ipython",
    "version": 2
   },
   "file_extension": ".py",
   "mimetype": "text/x-python",
   "name": "python",
   "nbconvert_exporter": "python",
   "pygments_lexer": "ipython2",
   "version": "2.7.6"
  }
 },
 "nbformat": 4,
 "nbformat_minor": 5
}
