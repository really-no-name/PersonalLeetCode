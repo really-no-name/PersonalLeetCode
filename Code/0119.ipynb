{
 "cells": [
  {
   "metadata": {},
   "cell_type": "markdown",
   "source": "# 杨辉三角 II",
   "id": "ca2d65b7d8912d97"
  },
  {
   "metadata": {},
   "cell_type": "markdown",
   "source": [
    "给定一个非负索引 `rowIndex`，返回「杨辉三角」的第 `rowIndex` 行。\n",
    "\n",
    "在「杨辉三角」中，每个数是它左上方和右上方的数的和。\n",
    "\n",
    "\n",
    "\n",
    " \n",
    "\n",
    "示例 1:\n",
    "\n",
    "输入: `rowIndex = 3`\n",
    "输出: `[1,3,3,1]`\n",
    "\n",
    "示例 2:\n",
    "\n",
    "输入: `rowIndex = 0`\n",
    "输出: `[1]`\n",
    "\n",
    "示例 3:\n",
    "\n",
    "输入: `rowIndex = 1`\n",
    "输出: `[1,1]`\n",
    " \n",
    "\n",
    "提示:\n",
    "\n",
    "`0 <= rowIndex <= 33`\n",
    " \n",
    "\n",
    "进阶：\n",
    "\n",
    "你可以优化你的算法到 O(rowIndex) 空间复杂度吗？"
   ],
   "id": "deeabd2e934ffa12"
  },
  {
   "metadata": {},
   "cell_type": "markdown",
   "source": "## test",
   "id": "2df61ca00be9ca7d"
  },
  {
   "cell_type": "code",
   "id": "initial_id",
   "metadata": {
    "collapsed": true,
    "ExecuteTime": {
     "end_time": "2025-01-28T09:22:55.074309Z",
     "start_time": "2025-01-28T09:22:55.056917Z"
    }
   },
   "source": [
    "def generate(rowIndex):\n",
    "    Pascal_triangal = []\n",
    "    for i in range(rowIndex + 1):\n",
    "        row = [1]\n",
    "        if i > 0:\n",
    "            for j in range(1, i):\n",
    "                row.append(Pascal_triangal[i - 1][j - 1] + Pascal_triangal[i - 1][j])\n",
    "            row.append(1)\n",
    "        Pascal_triangal.append(row)\n",
    "    return Pascal_triangal[rowIndex]\n",
    "\n",
    "Rows = 3\n",
    "triangal = generate(Rows)\n",
    "print(triangal)"
   ],
   "outputs": [
    {
     "name": "stdout",
     "output_type": "stream",
     "text": [
      "[1, 3, 3, 1]\n"
     ]
    }
   ],
   "execution_count": 3
  },
  {
   "metadata": {},
   "cell_type": "markdown",
   "source": "## 0 ms, 17.41 mb",
   "id": "812412b2e9a81984"
  },
  {
   "metadata": {},
   "cell_type": "code",
   "outputs": [],
   "execution_count": null,
   "source": [
    "class Solution:\n",
    "    def getRow(self, rowIndex: int) -> List[int]:\n",
    "        Pascal_triangal = []\n",
    "        for i in range(rowIndex + 1):\n",
    "            row = [1]\n",
    "            if i > 0:\n",
    "                for j in range(1, i):\n",
    "                    row.append(Pascal_triangal[i - 1][j - 1] + Pascal_triangal[i - 1][j])\n",
    "                row.append(1)\n",
    "            Pascal_triangal.append(row)\n",
    "        return Pascal_triangal[rowIndex]"
   ],
   "id": "4594afbd8d1cb5ae"
  }
 ],
 "metadata": {
  "kernelspec": {
   "display_name": "Python 3",
   "language": "python",
   "name": "python3"
  },
  "language_info": {
   "codemirror_mode": {
    "name": "ipython",
    "version": 2
   },
   "file_extension": ".py",
   "mimetype": "text/x-python",
   "name": "python",
   "nbconvert_exporter": "python",
   "pygments_lexer": "ipython2",
   "version": "2.7.6"
  }
 },
 "nbformat": 4,
 "nbformat_minor": 5
}
