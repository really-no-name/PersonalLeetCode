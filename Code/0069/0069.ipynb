{
 "cells": [
  {
   "metadata": {},
   "cell_type": "markdown",
   "source": [
    "# x 的平方根 \n",
    "\n",
    "https://leetcode.cn/problems/sqrtx"
   ],
   "id": "70fdd9ada7a9139e"
  },
  {
   "metadata": {},
   "cell_type": "markdown",
   "source": [
    "给你一个非负整数 x ，计算并返回 x 的 算术平方根 。\n",
    "\n",
    "由于返回类型是整数，结果只保留 整数部分 ，小数部分将被 舍去 。\n",
    "\n",
    "注意：不允许使用任何内置指数函数和算符，例如 pow(x, 0.5) 或者 x ** 0.5 。\n",
    "\n",
    " \n",
    "\n",
    "示例 1：\n",
    "\n",
    "输入：x = 4\n",
    "\n",
    "输出：2\n",
    "\n",
    "示例 2：\n",
    "\n",
    "输入：x = 8\n",
    "\n",
    "输出：2\n",
    "\n",
    "解释：8 的算术平方根是 2.82842..., 由于返回类型是整数，小数部分将被舍去。\n",
    " \n",
    "\n",
    "提示：\n",
    "\n",
    "0 <= x <= 231 - 1"
   ],
   "id": "cc9c15132089d2f8"
  },
  {
   "metadata": {},
   "cell_type": "markdown",
   "source": [
    "## 4 ms, 17.72 mb\n",
    "\n",
    "时间复杂度：`O(LogN)`\n",
    "\n",
    "空间复杂度：`O(1)`"
   ],
   "id": "d6b0ddcdd6d3cfb1"
  },
  {
   "cell_type": "code",
   "id": "initial_id",
   "metadata": {
    "collapsed": true,
    "ExecuteTime": {
     "end_time": "2025-02-11T12:55:00.436552Z",
     "start_time": "2025-02-11T12:55:00.419581Z"
    }
   },
   "source": [
    "class Solution:\n",
    "    def mySqrt(self, x: int) -> int:\n",
    "        if x == 0:\n",
    "            return 0\n",
    "        \n",
    "        x_0 = 0.5 * x\n",
    "        while True:\n",
    "            x_n = (x_0 + x / x_0) / 2\n",
    "            if abs(x_n - x_0) < 1e-7:\n",
    "                break\n",
    "            x_0 = x_n\n",
    "        print(x_0)\n",
    "        return int(x_0)\n",
    "    \n",
    "\n",
    "if __name__ == \"__main__\":\n",
    "    sol = Solution()\n",
    "    print(sol.mySqrt(10))\n",
    "    print(sol.mySqrt(2147395599))"
   ],
   "outputs": [
    {
     "name": "stdout",
     "output_type": "stream",
     "text": [
      "3.1622776604441363\n",
      "3\n",
      "46339.999989210184\n",
      "46339\n"
     ]
    }
   ],
   "execution_count": 4
  }
 ],
 "metadata": {
  "kernelspec": {
   "display_name": "Python 3",
   "language": "python",
   "name": "python3"
  },
  "language_info": {
   "codemirror_mode": {
    "name": "ipython",
    "version": 2
   },
   "file_extension": ".py",
   "mimetype": "text/x-python",
   "name": "python",
   "nbconvert_exporter": "python",
   "pygments_lexer": "ipython2",
   "version": "2.7.6"
  }
 },
 "nbformat": 4,
 "nbformat_minor": 5
}
