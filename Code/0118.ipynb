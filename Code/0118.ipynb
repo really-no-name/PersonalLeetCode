{
 "cells": [
  {
   "metadata": {},
   "cell_type": "markdown",
   "source": "# 杨辉三角",
   "id": "e08f8e91c6c58f1a"
  },
  {
   "metadata": {},
   "cell_type": "markdown",
   "source": [
    "给定一个非负整数 `numRows`，生成「杨辉三角」的前 `numRows` 行。\n",
    "\n",
    "在「杨辉三角」中，每个数是它左上方和右上方的数的和。\n",
    "\n",
    "\n",
    "示例 1:\n",
    "\n",
    "输入: `numRows = 5`\n",
    "输出: `[[1],[1,1],[1,2,1],[1,3,3,1],[1,4,6,4,1]]`\n",
    "\n",
    "示例 2:\n",
    "\n",
    "输入: `numRows = 1`\n",
    "输出: `[[1]]`\n",
    " \n",
    "\n",
    "提示:\n",
    "\n",
    "1 <= numRows <= 30"
   ],
   "id": "eac254af7198fc9d"
  },
  {
   "metadata": {},
   "cell_type": "markdown",
   "source": "## test",
   "id": "bdf98eda134dfa55"
  },
  {
   "cell_type": "code",
   "id": "initial_id",
   "metadata": {
    "collapsed": true,
    "ExecuteTime": {
     "end_time": "2025-01-28T09:20:29.945333Z",
     "start_time": "2025-01-28T09:20:29.921374Z"
    }
   },
   "source": [
    "from typing import List\n",
    "\n",
    "def generate(numRows):\n",
    "    Pascal_triangal = []\n",
    "    for i in range(numRows):\n",
    "        row = [1]\n",
    "        if i > 0:\n",
    "            for j in range(1, i):\n",
    "                row.append(Pascal_triangal[i - 1][j - 1] + Pascal_triangal[i - 1][j])\n",
    "            row.append(1)\n",
    "        Pascal_triangal.append(row)\n",
    "    return Pascal_triangal\n",
    "\n",
    "Rows = 5\n",
    "triangal = generate(Rows)\n",
    "print(triangal)"
   ],
   "outputs": [
    {
     "name": "stdout",
     "output_type": "stream",
     "text": [
      "[[1], [1, 1], [1, 2, 1], [1, 3, 3, 1], [1, 4, 6, 4, 1]]\n",
      "[1, 3, 3, 1]\n"
     ]
    }
   ],
   "execution_count": 18
  },
  {
   "metadata": {},
   "cell_type": "markdown",
   "source": "## 0 ms, 17.71 mb",
   "id": "d50fa29e2ae9e36f"
  },
  {
   "metadata": {},
   "cell_type": "code",
   "outputs": [],
   "execution_count": null,
   "source": [
    "class Solution:\n",
    "    def generate(self, numRows: int) -> List[List[int]]:\n",
    "        Pascal_triangal = []\n",
    "        for i in range(numRows):\n",
    "            row = [1]\n",
    "            if i > 0:\n",
    "                for j in range(1, i):\n",
    "                    row.append(Pascal_triangal[i - 1][j - 1] + Pascal_triangal[i - 1][j])\n",
    "                row.append(1)\n",
    "            Pascal_triangal.append(row)\n",
    "        return Pascal_triangal\n",
    "            "
   ],
   "id": "e6eb138e894805ad"
  }
 ],
 "metadata": {
  "kernelspec": {
   "display_name": "Python 3",
   "language": "python",
   "name": "python3"
  },
  "language_info": {
   "codemirror_mode": {
    "name": "ipython",
    "version": 2
   },
   "file_extension": ".py",
   "mimetype": "text/x-python",
   "name": "python",
   "nbconvert_exporter": "python",
   "pygments_lexer": "ipython2",
   "version": "2.7.6"
  }
 },
 "nbformat": 4,
 "nbformat_minor": 5
}
