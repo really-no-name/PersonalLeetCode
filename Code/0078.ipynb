{
 "cells": [
  {
   "metadata": {},
   "cell_type": "markdown",
   "source": [
    "# 子集\n",
    "\n",
    "https://leetcode.cn/problems/subsets?envType=daily-question&envId=2025-02-05"
   ],
   "id": "9cb95d1a03d1377c"
  },
  {
   "metadata": {},
   "cell_type": "markdown",
   "source": [
    "给你一个整数数组 nums ，数组中的元素 互不相同 。返回该数组所有可能的\n",
    "子集\n",
    "（幂集）。\n",
    "\n",
    "解集 不能 包含重复的子集。你可以按 任意顺序 返回解集。\n",
    "\n",
    " \n",
    "\n",
    "示例 1：\n",
    "\n",
    "输入：nums = [1,2,3]\n",
    "\n",
    "输出：[[],[1],[2],[1,2],[3],[1,3],[2,3],[1,2,3]]\n",
    "\n",
    "示例 2：\n",
    "\n",
    "输入：nums = [0]\n",
    "\n",
    "输出：[[],[0]]\n",
    " \n",
    "\n",
    "提示：\n",
    "\n",
    "- 1 <= nums.length <= 10\n",
    "- -10 <= nums[i] <= 10\n",
    "- nums 中的所有元素 互不相同"
   ],
   "id": "bd58dff6b20a8a53"
  },
  {
   "metadata": {},
   "cell_type": "markdown",
   "source": "## 0 ms, 17.49 mb",
   "id": "7d9375d26d5ed2c5"
  },
  {
   "cell_type": "code",
   "id": "initial_id",
   "metadata": {
    "collapsed": true,
    "ExecuteTime": {
     "end_time": "2025-02-05T12:26:47.208910Z",
     "start_time": "2025-02-05T12:26:47.193866Z"
    }
   },
   "source": [
    "from typing import List\n",
    "\n",
    "\n",
    "class Solution:\n",
    "    def subsets(self, nums: List[int]) -> List[List[int]]:\n",
    "        answer = []\n",
    "        path = []\n",
    "        n = len(nums)\n",
    "        def dfs(i: int) -> None:\n",
    "            answer.append(path.copy())  # 复制 path\n",
    "            for j in range(i, n):  # 枚举选择的数字\n",
    "                path.append(nums[j])\n",
    "                dfs(j + 1)\n",
    "                path.pop()  # 恢复现场\n",
    "        \n",
    "        dfs(0)\n",
    "        return answer\n",
    "    \n",
    "\n",
    "if __name__ == \"__main__\":\n",
    "    sol = Solution()\n",
    "    print(sol.subsets(nums = [1, 2, 3]))"
   ],
   "outputs": [
    {
     "name": "stdout",
     "output_type": "stream",
     "text": [
      "[[], [1], [1, 2], [1, 2, 3], [1, 3], [2], [2, 3], [3]]\n"
     ]
    }
   ],
   "execution_count": 2
  }
 ],
 "metadata": {
  "kernelspec": {
   "display_name": "Python 3",
   "language": "python",
   "name": "python3"
  },
  "language_info": {
   "codemirror_mode": {
    "name": "ipython",
    "version": 2
   },
   "file_extension": ".py",
   "mimetype": "text/x-python",
   "name": "python",
   "nbconvert_exporter": "python",
   "pygments_lexer": "ipython2",
   "version": "2.7.6"
  }
 },
 "nbformat": 4,
 "nbformat_minor": 5
}
