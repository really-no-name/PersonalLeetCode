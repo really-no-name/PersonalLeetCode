{
 "cells": [
  {
   "metadata": {},
   "cell_type": "markdown",
   "source": [
    "# 最后一个单词的长度\n",
    "\n",
    "https://leetcode.cn/problems/length-of-last-word"
   ],
   "id": "6d7f42d082cb3284"
  },
  {
   "metadata": {},
   "cell_type": "markdown",
   "source": [
    "给你一个字符串 s，由若干单词组成，单词前后用一些空格字符隔开。返回字符串中 最后一个 单词的长度。\n",
    "\n",
    "单词 是指仅由字母组成、不包含任何空格字符的最大\n",
    "子字符串\n",
    "。\n",
    "\n",
    " \n",
    "\n",
    "示例 1：\n",
    "\n",
    "> 输入：s = \"Hello World\"\n",
    "> \n",
    "> 输出：5\n",
    "> \n",
    "> 解释：最后一个单词是“World”，长度为 5。\n",
    "\n",
    "示例 2：\n",
    "\n",
    "> 输入：s = \"   fly me   to   the moon  \"\n",
    "> \n",
    "> 输出：4\n",
    "> \n",
    "> 解释：最后一个单词是“moon”，长度为 4。\n",
    "\n",
    "示例 3：\n",
    "\n",
    "> 输入：s = \"luffy is still joyboy\"\n",
    "> \n",
    "> 输出：6\n",
    "> \n",
    "> 解释：最后一个单词是长度为 6 的“joyboy”。\n",
    " \n",
    "\n",
    "提示：\n",
    "\n",
    "- 1 <= s.length <= 104\n",
    "- s 仅有英文字母和空格 ' ' 组成\n",
    "- s 中至少存在一个单词"
   ],
   "id": "d0147db8237b002f"
  },
  {
   "metadata": {},
   "cell_type": "markdown",
   "source": "## test",
   "id": "250c87e306c3b1a7"
  },
  {
   "metadata": {
    "ExecuteTime": {
     "end_time": "2025-02-10T13:24:37.082139Z",
     "start_time": "2025-02-10T13:24:37.067429Z"
    }
   },
   "cell_type": "code",
   "source": [
    "s = \"   fly me   to   the moon  \"\n",
    "s = s.rstrip()\n",
    "print(s)\n",
    "print(s[::-1])"
   ],
   "id": "5e86a18dafcaf4a0",
   "outputs": [
    {
     "name": "stdout",
     "output_type": "stream",
     "text": [
      "   fly me   to   the moon\n",
      "noom eht   ot   em ylf   \n"
     ]
    }
   ],
   "execution_count": 4
  },
  {
   "metadata": {},
   "cell_type": "markdown",
   "source": "## 0 ms, 17.52 mb",
   "id": "8ce3ad895ba78c64"
  },
  {
   "cell_type": "code",
   "id": "initial_id",
   "metadata": {
    "collapsed": true,
    "ExecuteTime": {
     "end_time": "2025-02-10T13:28:38.657464Z",
     "start_time": "2025-02-10T13:28:38.642138Z"
    }
   },
   "source": [
    "class Solution:\n",
    "    def lengthOfLastWord(self, s: str) -> int:\n",
    "        s = s.rstrip()  # 去除末尾空格\n",
    "        index = s.rfind(\" \")  # 查找字符串中某个子字符串最后一次出现的位置\n",
    "        # print(\"index = \", index)\n",
    "        return len(s) - index - 1\n",
    "        \n",
    "                    \n",
    "\n",
    "if __name__ == \"__main__\":\n",
    "    sol = Solution()\n",
    "    print(sol.lengthOfLastWord(s = \"   fly me   to   the moon  \"))\n",
    "    print(sol.lengthOfLastWord(s = \"a\"))"
   ],
   "outputs": [
    {
     "name": "stdout",
     "output_type": "stream",
     "text": [
      "index =  20\n",
      "4\n",
      "index =  -1\n",
      "1\n"
     ]
    }
   ],
   "execution_count": 8
  }
 ],
 "metadata": {
  "kernelspec": {
   "display_name": "Python 3",
   "language": "python",
   "name": "python3"
  },
  "language_info": {
   "codemirror_mode": {
    "name": "ipython",
    "version": 2
   },
   "file_extension": ".py",
   "mimetype": "text/x-python",
   "name": "python",
   "nbconvert_exporter": "python",
   "pygments_lexer": "ipython2",
   "version": "2.7.6"
  }
 },
 "nbformat": 4,
 "nbformat_minor": 5
}
