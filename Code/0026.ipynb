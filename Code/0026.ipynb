{
 "cells": [
  {
   "metadata": {},
   "cell_type": "markdown",
   "source": "# 删除有序数组中的重复项",
   "id": "a6cd4096d3c6bfb"
  },
  {
   "metadata": {},
   "cell_type": "markdown",
   "source": [
    "给你一个 **非严格递增排列** 的数组 `nums` ，请你 **原地** 删除重复出现的元素，使每个元素 **只出现一次** ，返回删除后数组的新长度。元素的 **相对顺序** 应该保持 **一致** 。然后返回 `nums` 中唯一元素的个数。\n",
    "\n",
    "考虑 `nums` 的唯一元素的数量为 `k` ，你需要做以下事情确保你的题解可以被通过：\n",
    "\n",
    "更改数组 `nums` ，使 `nums` 的前 `k` 个元素包含唯一元素，并按照它们最初在 `nums` 中出现的顺序排列。`nums` 的其余元素与 `nums` 的大小不重要。\n",
    "返回 `k` 。\n",
    "\n",
    "判题标准:\n",
    "\n",
    "系统会用下面的代码来测试你的题解:\n",
    "```\n",
    "int[] nums = [...]; // 输入数组\n",
    "int[] expectedNums = [...]; // 长度正确的期望答案\n",
    "\n",
    "int k = removeDuplicates(nums); // 调用\n",
    "\n",
    "assert k == expectedNums.length;\n",
    "for (int i = 0; i < k; i++) {\n",
    "    assert nums[i] == expectedNums[i];\n",
    "}\n",
    "```\n",
    "如果所有断言都通过，那么您的题解将被 通过。\n",
    "\n",
    " \n",
    "\n",
    "示例 1：\n",
    "\n",
    "输入：`nums = [1,1,2]`\n",
    "输出：`2, nums = [1,2,_]`\n",
    "解释：函数应该返回新的长度 2 ，并且原数组 nums 的前两个元素被修改为 1, 2 。不需要考虑数组中超出新长度后面的元素。\n",
    "\n",
    "示例 2：\n",
    "\n",
    "输入：`nums = [0,0,1,1,1,2,2,3,3,4]`\n",
    "输出：`5, nums = [0,1,2,3,4]`\n",
    "解释：函数应该返回新的长度 5 ， 并且原数组 nums 的前五个元素被修改为 0, 1, 2, 3, 4 。不需要考虑数组中超出新长度后面的元素。\n",
    " \n",
    "\n",
    "提示：\n",
    "\n",
    "- `1 <= nums.length <= 3 * 104`\n",
    "- `-104 <= nums[i] <= 104`\n",
    "- nums 已按 非严格递增 排列"
   ],
   "id": "b6cfcecc09d9adcc"
  },
  {
   "cell_type": "code",
   "execution_count": null,
   "id": "initial_id",
   "metadata": {
    "collapsed": true
   },
   "outputs": [],
   "source": [
    "class Solution:\n",
    "    def removeDuplicates(self, nums: List[int]) -> int:\n",
    "        k = 1\n",
    "        for i in range(1, len(nums)):\n",
    "            if nums[i] != nums[i - 1]:\n",
    "                nums[k] = nums[i]\n",
    "                k += 1\n",
    "        return k\n",
    "        "
   ]
  }
 ],
 "metadata": {
  "kernelspec": {
   "display_name": "Python 3",
   "language": "python",
   "name": "python3"
  },
  "language_info": {
   "codemirror_mode": {
    "name": "ipython",
    "version": 2
   },
   "file_extension": ".py",
   "mimetype": "text/x-python",
   "name": "python",
   "nbconvert_exporter": "python",
   "pygments_lexer": "ipython2",
   "version": "2.7.6"
  }
 },
 "nbformat": 4,
 "nbformat_minor": 5
}
