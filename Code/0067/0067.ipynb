{
 "cells": [
  {
   "metadata": {},
   "cell_type": "markdown",
   "source": [
    "# 二进制求和\n",
    "\n",
    "https://leetcode.cn/problems/add-binary\n",
    "\n",
    "题解：https://leetcode.cn/problems/add-binary/solutions/3071556/yi-xing-dai-ma-jie-jue-wen-ti-by-bolun-x-xs67"
   ],
   "id": "ab686f120ebe127f"
  },
  {
   "metadata": {},
   "cell_type": "markdown",
   "source": [
    "给你两个二进制字符串 a 和 b ，以二进制字符串的形式返回它们的和。\n",
    "\n",
    " \n",
    "\n",
    "示例 1：\n",
    "\n",
    "> 输入:a = \"11\", b = \"1\"\n",
    "> \n",
    "> 输出：\"100\"\n",
    "\n",
    "示例 2：\n",
    "\n",
    "> 输入：a = \"1010\", b = \"1011\"\n",
    "> \n",
    "> 输出：\"10101\"\n",
    " \n",
    "\n",
    "提示：\n",
    "\n",
    "- 1 <= a.length, b.length <= 104\n",
    "- a 和 b 仅由字符 '0' 或 '1' 组成\n",
    "- 字符串如果不是 \"0\" ，就不含前导零"
   ],
   "id": "6e0a830c2e442b03"
  },
  {
   "metadata": {},
   "cell_type": "markdown",
   "source": "## test",
   "id": "628d994f90460221"
  },
  {
   "metadata": {
    "ExecuteTime": {
     "end_time": "2025-02-11T11:33:01.277145Z",
     "start_time": "2025-02-11T11:33:01.267358Z"
    }
   },
   "cell_type": "code",
   "source": [
    "a = \"11\"\n",
    "a = int(a, 2)\n",
    "print(a)\n",
    "b = \"1\"\n",
    "b = int(b, 2)\n",
    "print(b)\n",
    "c = a + b\n",
    "print(c)\n",
    "c = bin(c)[2:]\n",
    "print(c)\n"
   ],
   "id": "6a63e1214326c8a4",
   "outputs": [
    {
     "name": "stdout",
     "output_type": "stream",
     "text": [
      "3\n",
      "1\n",
      "4\n",
      "100\n",
      "11\n"
     ]
    }
   ],
   "execution_count": 14
  },
  {
   "metadata": {},
   "cell_type": "markdown",
   "source": [
    "## 0 ms, 17.36 mb\n",
    "\n",
    "时间复杂度 `O(N)`\n",
    "\n",
    "空间复杂度 `O(N)`"
   ],
   "id": "ca27ca4a49af5141"
  },
  {
   "cell_type": "code",
   "id": "initial_id",
   "metadata": {
    "collapsed": true,
    "ExecuteTime": {
     "end_time": "2025-02-11T11:33:31.411498Z",
     "start_time": "2025-02-11T11:33:31.403502Z"
    }
   },
   "source": [
    "class Solution:\n",
    "    def addBinary(self, a: str, b: str) -> str:\n",
    "        a = int(a, 2)\n",
    "        b = int(b, 2)\n",
    "        c = a + b\n",
    "        c = bin(c)[2:]\n",
    "        return c\n",
    "    \n",
    "    \n",
    "if __name__ == \"__main__\":\n",
    "    solution = Solution()\n",
    "    print(solution.addBinary(a = \"11\", b = \"1\"))\n",
    "    print(solution.addBinary(a = \"1010\", b = \"1011\"))"
   ],
   "outputs": [
    {
     "name": "stdout",
     "output_type": "stream",
     "text": [
      "100\n",
      "10101\n"
     ]
    }
   ],
   "execution_count": 16
  },
  {
   "metadata": {
    "ExecuteTime": {
     "end_time": "2025-02-11T11:34:46.850210Z",
     "start_time": "2025-02-11T11:34:46.827747Z"
    }
   },
   "cell_type": "code",
   "source": [
    "class Solution:\n",
    "    def addBinary(self, a: str, b: str) -> str:\n",
    "        return bin(int(a, 2) + int(b, 2))[2:]\n",
    "    \n",
    "    \n",
    "if __name__ == \"__main__\":\n",
    "    solution = Solution()\n",
    "    print(solution.addBinary(a = \"11\", b = \"1\"))\n",
    "    print(solution.addBinary(a = \"1010\", b = \"1011\"))"
   ],
   "id": "29589c41df4a5d9b",
   "outputs": [
    {
     "name": "stdout",
     "output_type": "stream",
     "text": [
      "100\n",
      "10101\n"
     ]
    }
   ],
   "execution_count": 17
  }
 ],
 "metadata": {
  "kernelspec": {
   "display_name": "Python 3",
   "language": "python",
   "name": "python3"
  },
  "language_info": {
   "codemirror_mode": {
    "name": "ipython",
    "version": 2
   },
   "file_extension": ".py",
   "mimetype": "text/x-python",
   "name": "python",
   "nbconvert_exporter": "python",
   "pygments_lexer": "ipython2",
   "version": "2.7.6"
  }
 },
 "nbformat": 4,
 "nbformat_minor": 5
}
