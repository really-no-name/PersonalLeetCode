{
 "cells": [
  {
   "metadata": {},
   "cell_type": "markdown",
   "source": [
    "# 移除元素\n",
    "\n",
    "https://leetcode.cn/problems/remove-element"
   ],
   "id": "24dbac550eda4292"
  },
  {
   "metadata": {},
   "cell_type": "markdown",
   "source": [
    "给你一个数组 nums 和一个值 val，你需要 原地 移除所有数值等于 val 的元素。元素的顺序可能发生改变。然后返回 nums 中与 val 不同的元素的数量。\n",
    "\n",
    "假设 nums 中不等于 val 的元素数量为 k，要通过此题，您需要执行以下操作：\n",
    "\n",
    "更改 nums 数组，使 nums 的前 k 个元素包含不等于 val 的元素。nums 的其余元素和 nums 的大小并不重要。\n",
    "返回 k。\n",
    "用户评测：\n",
    "\n",
    "评测机将使用以下代码测试您的解决方案：\n",
    "```\n",
    "int[] nums = [...]; // 输入数组\n",
    "int val = ...; // 要移除的值\n",
    "int[] expectedNums = [...]; // 长度正确的预期答案。\n",
    "                            // 它以不等于 val 的值排序。\n",
    "\n",
    "int k = removeElement(nums, val); // 调用你的实现\n",
    "\n",
    "assert k == expectedNums.length;\n",
    "sort(nums, 0, k); // 排序 nums 的前 k 个元素\n",
    "for (int i = 0; i < actualLength; i++) {\n",
    "    assert nums[i] == expectedNums[i];\n",
    "}\n",
    "```\n",
    "如果所有的断言都通过，你的解决方案将会 通过。\n",
    "\n",
    " \n",
    "\n",
    "示例 1：\n",
    "\n",
    "> 输入：nums = [3,2,2,3], val = 3\n",
    "> \n",
    "> 输出：2, nums = [2,2,_,_]\n",
    "> \n",
    "> 解释：你的函数函数应该返回 k = 2, 并且 nums 中的前两个元素均为 2。\n",
    "> \n",
    "> 你在返回的 k 个元素之外留下了什么并不重要（因此它们并不计入评测）。\n",
    "\n",
    "示例 2：\n",
    "\n",
    "> 输入：nums = [0,1,2,2,3,0,4,2], val = 2\n",
    "> \n",
    "> 输出：5, nums = [0,1,4,0,3,_,_,_]\n",
    "> \n",
    "> 解释：你的函数应该返回 k = 5，并且 nums 中的前五个元素为 0,0,1,3,4。\n",
    "> \n",
    "> 注意这五个元素可以任意顺序返回。\n",
    "> \n",
    "> 你在返回的 k 个元素之外留下了什么并不重要（因此它们并不计入评测）。\n",
    " \n",
    "\n",
    "提示：\n",
    "\n",
    "- `0 <= nums.length <= 100`\n",
    "- `0 <= nums[i] <= 50`\n",
    "- `0 <= val <= 100`"
   ],
   "id": "7eb7b8f039534590"
  },
  {
   "metadata": {},
   "cell_type": "markdown",
   "source": "## 0ms, 17.61 mb",
   "id": "fdaa5a02d44b9120"
  },
  {
   "cell_type": "code",
   "id": "initial_id",
   "metadata": {
    "collapsed": true,
    "ExecuteTime": {
     "end_time": "2025-02-10T12:54:42.487558Z",
     "start_time": "2025-02-10T12:54:42.472516Z"
    }
   },
   "source": [
    "from typing import List\n",
    "\n",
    "\n",
    "class Solution:\n",
    "    def removeElement(self, nums: List[int], val: int) -> int:\n",
    "        # 实现移除元素的逻辑\n",
    "        i = 0\n",
    "        for j in range(len(nums)):\n",
    "            if nums[j] != val:\n",
    "                nums[i] = nums[j]\n",
    "                i += 1\n",
    "        return i\n",
    "\n",
    "    \n",
    "if __name__ == \"__main__\":\n",
    "    sol = Solution()\n",
    "    nums = [3, 2, 2, 3]  # 输入数组\n",
    "    val = 3     # 要移除的值\n",
    "    expected_nums = [2, 2]  # 长度正确的预期答案，它以不等于 val 的值排序\n",
    "    \n",
    "    k = sol.removeElement(nums, val)  # 调用你的实现\n",
    "\n",
    "    assert k == len(expected_nums)\n",
    "    nums[:k] = sorted(nums[:k])  # 排序 nums 的前 k 个元素\n",
    "    \n",
    "    # 打印排序后的 nums\n",
    "    print(\"排序后的 nums:\", nums[:k])\n",
    "    \n",
    "    for i in range(k):\n",
    "        assert nums[i] == expected_nums[i]"
   ],
   "outputs": [
    {
     "name": "stdout",
     "output_type": "stream",
     "text": [
      "排序后的 nums: [2, 2]\n"
     ]
    }
   ],
   "execution_count": 16
  }
 ],
 "metadata": {
  "kernelspec": {
   "display_name": "Python 3",
   "language": "python",
   "name": "python3"
  },
  "language_info": {
   "codemirror_mode": {
    "name": "ipython",
    "version": 2
   },
   "file_extension": ".py",
   "mimetype": "text/x-python",
   "name": "python",
   "nbconvert_exporter": "python",
   "pygments_lexer": "ipython2",
   "version": "2.7.6"
  }
 },
 "nbformat": 4,
 "nbformat_minor": 5
}
