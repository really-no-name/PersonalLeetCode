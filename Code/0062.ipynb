{
 "cells": [
  {
   "metadata": {},
   "cell_type": "markdown",
   "source": [
    "# 不同路径\n",
    "\n",
    "https://leetcode.cn/problems/unique-paths"
   ],
   "id": "dad2f05e442758d"
  },
  {
   "metadata": {},
   "cell_type": "markdown",
   "source": [
    "一个机器人位于一个 m x n 网格的左上角 （起始点在下图中标记为 “Start” ）。\n",
    "\n",
    "机器人每次只能向下或者向右移动一步。机器人试图达到网格的右下角（在下图中标记为 “Finish” ）。\n",
    "\n",
    "问总共有多少条不同的路径？\n",
    "\n",
    " \n",
    "\n",
    "示例 1：\n",
    "\n",
    "\n",
    ">输入：m = 3, n = 7\n",
    "> \n",
    ">输出：28\n",
    "\n",
    "示例 2：\n",
    "\n",
    "> 输入：m = 3, n = 2\n",
    "> \n",
    "> 输出：3\n",
    "> \n",
    "> 解释：\n",
    "> \n",
    "> 从左上角开始，总共有 3 条路径可以到达右下角。\n",
    "> \n",
    "> 1. 向右 -> 向下 -> 向下\n",
    "> 2. 向下 -> 向下 -> 向右\n",
    "> 3. 向下 -> 向右 -> 向下\n",
    "\n",
    "示例 3：\n",
    "\n",
    "> 输入：m = 7, n = 3\n",
    "> \n",
    "> 输出：28\n",
    "\n",
    "示例 4：\n",
    "\n",
    "> 输入：m = 3, n = 3\n",
    "> \n",
    "> 输出：6\n",
    " \n",
    "\n",
    "提示：\n",
    "\n",
    "- 1 <= m, n <= 100\n",
    "- 题目数据保证答案小于等于 2 * 109"
   ],
   "id": "7de9c16d7343a96"
  },
  {
   "metadata": {},
   "cell_type": "markdown",
   "source": "## 3 ms, 17.70 mb",
   "id": "1070c05834208c9d"
  },
  {
   "cell_type": "code",
   "id": "initial_id",
   "metadata": {
    "collapsed": true,
    "ExecuteTime": {
     "end_time": "2025-02-08T05:52:49.759499Z",
     "start_time": "2025-02-08T05:52:49.750625Z"
    }
   },
   "source": [
    "from functools import cache\n",
    "\n",
    "\n",
    "class Solution:\n",
    "    def uniquePaths(self, m: int, n: int) -> int:\n",
    "        # 使用 `@cache` 装饰器来缓存 `dfs` 函数的结果，避免重复计算\n",
    "        # 这相当于实现了记忆化（Memoization），提高递归效率\n",
    "        @cache\n",
    "        def dfs(i: int, j: int) -> int:\n",
    "            # 如果 i 或 j 小于 0，表示越界，返回 0\n",
    "            if i < 0 or j < 0:\n",
    "                return 0\n",
    "            \n",
    "            # 如果 i 和 j 都为 0，表示到达起点，返回 1\n",
    "            if i == 0 and j == 0:\n",
    "                return 1\n",
    "            \n",
    "            # 递归计算从 (i-1, j) 和 (i, j-1) 到达 (i, j) 的路径数\n",
    "            # 即从上方和左方到达当前点的路径数之和\n",
    "            return dfs(i - 1, j) + dfs(i, j - 1)\n",
    "        \n",
    "        # 调用 dfs 函数，计算从 (m-1, n-1) 到 (0, 0) 的路径数\n",
    "        # 因为网格是从 (0, 0) 到 (m-1, n-1)，所以起点是 (m-1, n-1)\n",
    "        return dfs(m - 1, n - 1)\n",
    "    \n",
    "\n",
    "if __name__ == '__main__':\n",
    "    sol = Solution()\n",
    "    print(sol.uniquePaths(m = 3, n = 7))"
   ],
   "outputs": [
    {
     "name": "stdout",
     "output_type": "stream",
     "text": [
      "28\n"
     ]
    }
   ],
   "execution_count": 1
  }
 ],
 "metadata": {
  "kernelspec": {
   "display_name": "Python 3",
   "language": "python",
   "name": "python3"
  },
  "language_info": {
   "codemirror_mode": {
    "name": "ipython",
    "version": 2
   },
   "file_extension": ".py",
   "mimetype": "text/x-python",
   "name": "python",
   "nbconvert_exporter": "python",
   "pygments_lexer": "ipython2",
   "version": "2.7.6"
  }
 },
 "nbformat": 4,
 "nbformat_minor": 5
}
