{
 "cells": [
  {
   "metadata": {},
   "cell_type": "markdown",
   "source": "# 有效的括号",
   "id": "8fa4388c8ca251b4"
  },
  {
   "metadata": {},
   "cell_type": "markdown",
   "source": [
    "给定一个只包括 `'('`，`')'`，`'{'`，`'}'`，`'['`，`']'` 的字符串 `s` ，判断字符串是否有效。\n",
    "\n",
    "有效字符串需满足：\n",
    "\n",
    "左括号必须用相同类型的右括号闭合。\n",
    "左括号必须以正确的顺序闭合。\n",
    "每个右括号都有一个对应的相同类型的左括号。\n",
    " \n",
    "\n",
    "示例 1：\n",
    "\n",
    "输入：`s = \"()\"`\n",
    "\n",
    "输出：`true`\n",
    "\n",
    "示例 2：\n",
    "\n",
    "输入：`s = \"()[]{}\"`\n",
    "\n",
    "输出：`true`\n",
    "\n",
    "示例 3：\n",
    "\n",
    "输入：`s = \"(]\"`\n",
    "\n",
    "输出：`false`\n",
    "\n",
    "示例 4：\n",
    "\n",
    "输入：`s = \"([])\"`\n",
    "\n",
    "输出：`true`\n",
    "\n",
    " \n",
    "\n",
    "提示：\n",
    "\n",
    "- `1 <= s.length <= 104`\n",
    "- `s` 仅由括号 `'()[]{}'` 组成"
   ],
   "id": "e4355643266de107"
  },
  {
   "cell_type": "code",
   "execution_count": null,
   "id": "initial_id",
   "metadata": {
    "collapsed": true
   },
   "outputs": [],
   "source": [
    ""
   ]
  }
 ],
 "metadata": {
  "kernelspec": {
   "display_name": "Python 3",
   "language": "python",
   "name": "python3"
  },
  "language_info": {
   "codemirror_mode": {
    "name": "ipython",
    "version": 2
   },
   "file_extension": ".py",
   "mimetype": "text/x-python",
   "name": "python",
   "nbconvert_exporter": "python",
   "pygments_lexer": "ipython2",
   "version": "2.7.6"
  }
 },
 "nbformat": 4,
 "nbformat_minor": 5
}
