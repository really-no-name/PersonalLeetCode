{
 "cells": [
  {
   "metadata": {},
   "cell_type": "markdown",
   "source": [
    "# 存在重复元素 II\n",
    "\n",
    "https://leetcode.cn/problems/contains-duplicate-ii"
   ],
   "id": "170c4a90d3225ec3"
  },
  {
   "metadata": {},
   "cell_type": "markdown",
   "source": [
    "给你一个整数数组 nums 和一个整数 k ，判断数组中是否存在两个 不同的索引 i 和 j ，满足 nums[i] == nums[j] 且 abs(i - j) <= k 。如果存在，返回 true ；否则，返回 false 。\n",
    "\n",
    " \n",
    "\n",
    "示例 1：\n",
    "\n",
    "> 输入：nums = [1,2,3,1], k = 3\n",
    "> \n",
    "> 输出：true\n",
    "\n",
    "示例 2：\n",
    "\n",
    "> 输入：nums = [1,0,1,1], k = 1\n",
    "> \n",
    "> 输出：true\n",
    "\n",
    "示例 3：\n",
    "\n",
    "> 输入：nums = [1,2,3,1,2,3], k = 2\n",
    "> \n",
    "> 输出：false\n",
    " \n",
    "\n",
    " \n",
    "\n",
    "提示：\n",
    "\n",
    "- `1 <= nums.length <= 105`\n",
    "- `-109 <= nums[i] <= 109`\n",
    "- `0 <= k <= 105`"
   ],
   "id": "c05f2932a250d880"
  },
  {
   "metadata": {},
   "cell_type": "markdown",
   "source": "## 15 ms, 31.80 mb",
   "id": "5be34dbfa1786574"
  },
  {
   "cell_type": "code",
   "id": "initial_id",
   "metadata": {
    "collapsed": true,
    "ExecuteTime": {
     "end_time": "2025-02-07T06:23:46.056868Z",
     "start_time": "2025-02-07T06:23:46.035817Z"
    }
   },
   "source": [
    "from typing import List\n",
    "\n",
    "\n",
    "class Solution:\n",
    "    def containsNearbyDuplicate(self, nums: List[int], k: int) -> bool:\n",
    "        if not self.containsDuplicate(nums):\n",
    "            return False\n",
    "        else:\n",
    "            for i in range(len(nums)-1):\n",
    "                for j in range(i+1,len(nums)):\n",
    "                    if nums[i] == nums[j] and abs(i-j) <= k:\n",
    "                        return True\n",
    "            return False\n",
    "            \n",
    "        \n",
    "    def containsDuplicate(self, nums: List[int]) -> bool:\n",
    "        # for i in range(len(nums)-1):\n",
    "        #     # for j in range(i+1,len(nums)):\n",
    "        #     #     if nums[i] == nums[j]:\n",
    "        #     #         return True\n",
    "        #     if nums.count(nums[i]) >= 2:\n",
    "        #         return True\n",
    "        if len(set(nums)) != len(nums):  # set 函数用于创建一个无序且不重复的元素集合\n",
    "            return True\n",
    "        else:\n",
    "            return False\n",
    "        \n",
    "        \n",
    "if __name__ == '__main__':\n",
    "    sol = Solution()\n",
    "    print(sol.containsNearbyDuplicate(nums = [1,2,3,1], k = 3))"
   ],
   "outputs": [
    {
     "name": "stdout",
     "output_type": "stream",
     "text": [
      "True\n"
     ]
    }
   ],
   "execution_count": 1
  }
 ],
 "metadata": {
  "kernelspec": {
   "display_name": "Python 3",
   "language": "python",
   "name": "python3"
  },
  "language_info": {
   "codemirror_mode": {
    "name": "ipython",
    "version": 2
   },
   "file_extension": ".py",
   "mimetype": "text/x-python",
   "name": "python",
   "nbconvert_exporter": "python",
   "pygments_lexer": "ipython2",
   "version": "2.7.6"
  }
 },
 "nbformat": 4,
 "nbformat_minor": 5
}
