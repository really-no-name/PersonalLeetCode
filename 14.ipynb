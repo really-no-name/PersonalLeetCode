{
 "cells": [
  {
   "metadata": {},
   "cell_type": "markdown",
   "source": "# 最长公共前缀",
   "id": "310da45375f8a6fd"
  },
  {
   "metadata": {},
   "cell_type": "markdown",
   "source": [
    "编写一个函数来查找字符串数组中的最长公共前缀。\n",
    "\n",
    "如果不存在公共前缀，返回空字符串 \"\"。\n",
    "\n",
    " \n",
    "\n",
    "示例 1：\n",
    "\n",
    "输入：`strs = [\"flower\",\"flow\",\"flight\"]`\n",
    "输出：`\"fl\"`\n",
    "\n",
    "示例 2：\n",
    "\n",
    "输入：`strs = [\"dog\",\"racecar\",\"car\"]`\n",
    "输出：`\"\"`\n",
    "解释：输入不存在公共前缀。\n",
    " \n",
    "\n",
    "提示：\n",
    "\n",
    "- `1 <= strs.length <= 200`\n",
    "- `0 <= strs[i].length <= 200`\n",
    "- `strs[i]` 如果非空，则仅由小写英文字母组成"
   ],
   "id": "d81ece9cb0f8651"
  },
  {
   "metadata": {},
   "cell_type": "markdown",
   "source": "## test",
   "id": "a24d552b3fbf043d"
  },
  {
   "cell_type": "code",
   "id": "initial_id",
   "metadata": {
    "collapsed": true,
    "ExecuteTime": {
     "end_time": "2025-01-26T14:02:00.160782Z",
     "start_time": "2025-01-26T14:02:00.146860Z"
    }
   },
   "source": [
    "# strs = [\"flower\", \"flow\", \"flight\"]  # 示例输入\n",
    "strs = [\"a\"]\n",
    "\n",
    "s0 = strs[0]  # 取第一个字符串作为参考\n",
    "common_prefix = \"\"  # 初始化公共前缀为空\n",
    "\n",
    "for j, c in enumerate(s0):  # 遍历第一个字符串的字符及其索引\n",
    "    for s in strs:  # 遍历其他字符串\n",
    "        if j == len(s) or s[j] != c:  # 如果超出长度或字符不匹配\n",
    "            common_prefix = s0[:j]  # 更新公共前缀\n",
    "            break\n",
    "    else:\n",
    "        continue  # 如果内层循环未中断，继续外层循环\n",
    "    break  # 如果内层循环被中断，退出外层循环\n",
    "\n",
    "print(common_prefix)  # 输出最终的公共前缀"
   ],
   "outputs": [
    {
     "name": "stdout",
     "output_type": "stream",
     "text": [
      "\n"
     ]
    }
   ],
   "execution_count": 11
  }
 ],
 "metadata": {
  "kernelspec": {
   "display_name": "Python 3",
   "language": "python",
   "name": "python3"
  },
  "language_info": {
   "codemirror_mode": {
    "name": "ipython",
    "version": 2
   },
   "file_extension": ".py",
   "mimetype": "text/x-python",
   "name": "python",
   "nbconvert_exporter": "python",
   "pygments_lexer": "ipython2",
   "version": "2.7.6"
  }
 },
 "nbformat": 4,
 "nbformat_minor": 5
}
